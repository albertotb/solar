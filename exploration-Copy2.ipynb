{
 "cells": [
  {
   "cell_type": "code",
   "execution_count": 1,
   "metadata": {},
   "outputs": [],
   "source": [
    "import pandas as pd\n",
    "import numpy as np\n",
    "import datetime\n",
    "%matplotlib inline"
   ]
  },
  {
   "cell_type": "code",
   "execution_count": 2,
   "metadata": {},
   "outputs": [],
   "source": [
    "df = pd.read_feather('data/oahu.feather', nthreads=16)"
   ]
  },
  {
   "cell_type": "code",
   "execution_count": 3,
   "metadata": {},
   "outputs": [],
   "source": [
    "info = pd.read_csv('data/info.csv')"
   ]
  },
  {
   "cell_type": "code",
   "execution_count": 4,
   "metadata": {},
   "outputs": [
    {
     "data": {
      "text/plain": [
       "Index(['Date', 'Seconds', 'Year', 'DOY', 'HST', 'GH_DH3', 'GH_DH4', 'GH_DH5',\n",
       "       'GH_DH10', 'GH_DH11', 'GH_DH9', 'GH_DH2', 'GH_DH1', 'GT_DH1', 'GH_AP6',\n",
       "       'GT_AP6', 'GH_AP1', 'GH_AP3', 'GH_AP5', 'GH_AP4', 'GH_AP7', 'GH_DH6',\n",
       "       'GH_DH7', 'GH_DH8', 'Datetime'],\n",
       "      dtype='object')"
      ]
     },
     "execution_count": 4,
     "metadata": {},
     "output_type": "execute_result"
    }
   ],
   "source": [
    "df.columns"
   ]
  },
  {
   "cell_type": "code",
   "execution_count": 5,
   "metadata": {},
   "outputs": [
    {
     "data": {
      "text/html": [
       "<div>\n",
       "<style scoped>\n",
       "    .dataframe tbody tr th:only-of-type {\n",
       "        vertical-align: middle;\n",
       "    }\n",
       "\n",
       "    .dataframe tbody tr th {\n",
       "        vertical-align: top;\n",
       "    }\n",
       "\n",
       "    .dataframe thead th {\n",
       "        text-align: right;\n",
       "    }\n",
       "</style>\n",
       "<table border=\"1\" class=\"dataframe\">\n",
       "  <thead>\n",
       "    <tr style=\"text-align: right;\">\n",
       "      <th></th>\n",
       "      <th>Location</th>\n",
       "      <th>Pakbus</th>\n",
       "      <th>Latitude</th>\n",
       "      <th>Longitude</th>\n",
       "      <th>Sensor</th>\n",
       "      <th>CF</th>\n",
       "    </tr>\n",
       "  </thead>\n",
       "  <tbody>\n",
       "    <tr>\n",
       "      <th>0</th>\n",
       "      <td>DHHL_3</td>\n",
       "      <td>201</td>\n",
       "      <td>21.31236</td>\n",
       "      <td>-158.08463</td>\n",
       "      <td>PY66499</td>\n",
       "      <td>141.76</td>\n",
       "    </tr>\n",
       "    <tr>\n",
       "      <th>1</th>\n",
       "      <td>DHHL_4</td>\n",
       "      <td>202</td>\n",
       "      <td>21.31303</td>\n",
       "      <td>-158.08505</td>\n",
       "      <td>PY66500</td>\n",
       "      <td>118.01</td>\n",
       "    </tr>\n",
       "    <tr>\n",
       "      <th>2</th>\n",
       "      <td>DHHL_5</td>\n",
       "      <td>203</td>\n",
       "      <td>21.31357</td>\n",
       "      <td>-158.08424</td>\n",
       "      <td>PY66501</td>\n",
       "      <td>104.46</td>\n",
       "    </tr>\n",
       "    <tr>\n",
       "      <th>3</th>\n",
       "      <td>DHHL_10</td>\n",
       "      <td>204</td>\n",
       "      <td>21.31183</td>\n",
       "      <td>-158.08554</td>\n",
       "      <td>PY66502</td>\n",
       "      <td>109.06</td>\n",
       "    </tr>\n",
       "    <tr>\n",
       "      <th>4</th>\n",
       "      <td>DHHL_11</td>\n",
       "      <td>205</td>\n",
       "      <td>21.31042</td>\n",
       "      <td>-158.08530</td>\n",
       "      <td>PY66503</td>\n",
       "      <td>114.71</td>\n",
       "    </tr>\n",
       "    <tr>\n",
       "      <th>5</th>\n",
       "      <td>DHHL_9</td>\n",
       "      <td>206</td>\n",
       "      <td>21.31268</td>\n",
       "      <td>-158.08688</td>\n",
       "      <td>PY66504</td>\n",
       "      <td>141.92</td>\n",
       "    </tr>\n",
       "    <tr>\n",
       "      <th>6</th>\n",
       "      <td>DHHL_2</td>\n",
       "      <td>207</td>\n",
       "      <td>21.31451</td>\n",
       "      <td>-158.08534</td>\n",
       "      <td>PY66505</td>\n",
       "      <td>106.39</td>\n",
       "    </tr>\n",
       "    <tr>\n",
       "      <th>7</th>\n",
       "      <td>DHHL_1</td>\n",
       "      <td>208</td>\n",
       "      <td>21.31533</td>\n",
       "      <td>-158.08700</td>\n",
       "      <td>PY66519</td>\n",
       "      <td>107.34</td>\n",
       "    </tr>\n",
       "    <tr>\n",
       "      <th>8</th>\n",
       "      <td>AP_6</td>\n",
       "      <td>209</td>\n",
       "      <td>21.30812</td>\n",
       "      <td>-158.07935</td>\n",
       "      <td>PY66521</td>\n",
       "      <td>117.34</td>\n",
       "    </tr>\n",
       "    <tr>\n",
       "      <th>9</th>\n",
       "      <td>AP_1</td>\n",
       "      <td>210</td>\n",
       "      <td>21.31276</td>\n",
       "      <td>-158.08389</td>\n",
       "      <td>PY66523</td>\n",
       "      <td>110.40</td>\n",
       "    </tr>\n",
       "    <tr>\n",
       "      <th>10</th>\n",
       "      <td>AP_3</td>\n",
       "      <td>211</td>\n",
       "      <td>21.31281</td>\n",
       "      <td>-158.08163</td>\n",
       "      <td>PY66524</td>\n",
       "      <td>113.55</td>\n",
       "    </tr>\n",
       "    <tr>\n",
       "      <th>11</th>\n",
       "      <td>AP_5</td>\n",
       "      <td>212</td>\n",
       "      <td>21.30983</td>\n",
       "      <td>-158.08249</td>\n",
       "      <td>PY66525</td>\n",
       "      <td>116.04</td>\n",
       "    </tr>\n",
       "    <tr>\n",
       "      <th>12</th>\n",
       "      <td>AP_4</td>\n",
       "      <td>213</td>\n",
       "      <td>21.31141</td>\n",
       "      <td>-158.07947</td>\n",
       "      <td>PY66526</td>\n",
       "      <td>107.58</td>\n",
       "    </tr>\n",
       "    <tr>\n",
       "      <th>13</th>\n",
       "      <td>AP_7</td>\n",
       "      <td>214</td>\n",
       "      <td>21.31478</td>\n",
       "      <td>-158.07785</td>\n",
       "      <td>PY66527</td>\n",
       "      <td>117.61</td>\n",
       "    </tr>\n",
       "    <tr>\n",
       "      <th>14</th>\n",
       "      <td>DHHL_6</td>\n",
       "      <td>215</td>\n",
       "      <td>21.31179</td>\n",
       "      <td>-158.08678</td>\n",
       "      <td>PY66528</td>\n",
       "      <td>112.83</td>\n",
       "    </tr>\n",
       "    <tr>\n",
       "      <th>15</th>\n",
       "      <td>DHHL_7</td>\n",
       "      <td>216</td>\n",
       "      <td>21.31418</td>\n",
       "      <td>-158.08685</td>\n",
       "      <td>PY66529</td>\n",
       "      <td>114.04</td>\n",
       "    </tr>\n",
       "    <tr>\n",
       "      <th>16</th>\n",
       "      <td>DHHL_8</td>\n",
       "      <td>217</td>\n",
       "      <td>21.31034</td>\n",
       "      <td>-158.08675</td>\n",
       "      <td>PY66530</td>\n",
       "      <td>117.75</td>\n",
       "    </tr>\n",
       "  </tbody>\n",
       "</table>\n",
       "</div>"
      ],
      "text/plain": [
       "   Location     Pakbus           Latitude         Longitude     Sensor  \\\n",
       "0    DHHL_3        201           21.31236        -158.08463    PY66499   \n",
       "1    DHHL_4        202           21.31303        -158.08505    PY66500   \n",
       "2    DHHL_5        203           21.31357        -158.08424    PY66501   \n",
       "3   DHHL_10        204           21.31183        -158.08554    PY66502   \n",
       "4   DHHL_11        205           21.31042        -158.08530    PY66503   \n",
       "5    DHHL_9        206           21.31268        -158.08688    PY66504   \n",
       "6    DHHL_2        207           21.31451        -158.08534    PY66505   \n",
       "7    DHHL_1        208           21.31533        -158.08700    PY66519   \n",
       "8      AP_6        209           21.30812        -158.07935    PY66521   \n",
       "9      AP_1        210           21.31276        -158.08389    PY66523   \n",
       "10     AP_3        211           21.31281        -158.08163    PY66524   \n",
       "11     AP_5        212           21.30983        -158.08249    PY66525   \n",
       "12     AP_4        213           21.31141        -158.07947    PY66526   \n",
       "13     AP_7        214           21.31478        -158.07785    PY66527   \n",
       "14   DHHL_6        215           21.31179        -158.08678    PY66528   \n",
       "15   DHHL_7        216           21.31418        -158.08685    PY66529   \n",
       "16   DHHL_8        217           21.31034        -158.08675    PY66530   \n",
       "\n",
       "        CF   \n",
       "0    141.76  \n",
       "1    118.01  \n",
       "2    104.46  \n",
       "3    109.06  \n",
       "4    114.71  \n",
       "5    141.92  \n",
       "6    106.39  \n",
       "7    107.34  \n",
       "8    117.34  \n",
       "9    110.40  \n",
       "10   113.55  \n",
       "11   116.04  \n",
       "12   107.58  \n",
       "13   117.61  \n",
       "14   112.83  \n",
       "15   114.04  \n",
       "16   117.75  "
      ]
     },
     "execution_count": 5,
     "metadata": {},
     "output_type": "execute_result"
    }
   ],
   "source": [
    "info"
   ]
  },
  {
   "cell_type": "code",
   "execution_count": 6,
   "metadata": {},
   "outputs": [
    {
     "data": {
      "text/html": [
       "<div>\n",
       "<style scoped>\n",
       "    .dataframe tbody tr th:only-of-type {\n",
       "        vertical-align: middle;\n",
       "    }\n",
       "\n",
       "    .dataframe tbody tr th {\n",
       "        vertical-align: top;\n",
       "    }\n",
       "\n",
       "    .dataframe thead th {\n",
       "        text-align: right;\n",
       "    }\n",
       "</style>\n",
       "<table border=\"1\" class=\"dataframe\">\n",
       "  <thead>\n",
       "    <tr style=\"text-align: right;\">\n",
       "      <th></th>\n",
       "      <th>Seconds</th>\n",
       "      <th>Year</th>\n",
       "      <th>DOY</th>\n",
       "      <th>HST</th>\n",
       "      <th>GH_DH3</th>\n",
       "      <th>GH_DH4</th>\n",
       "      <th>GH_DH5</th>\n",
       "      <th>GH_DH10</th>\n",
       "      <th>GH_DH11</th>\n",
       "      <th>GH_DH9</th>\n",
       "      <th>...</th>\n",
       "      <th>GH_AP6</th>\n",
       "      <th>GT_AP6</th>\n",
       "      <th>GH_AP1</th>\n",
       "      <th>GH_AP3</th>\n",
       "      <th>GH_AP5</th>\n",
       "      <th>GH_AP4</th>\n",
       "      <th>GH_AP7</th>\n",
       "      <th>GH_DH6</th>\n",
       "      <th>GH_DH7</th>\n",
       "      <th>GH_DH8</th>\n",
       "    </tr>\n",
       "  </thead>\n",
       "  <tbody>\n",
       "    <tr>\n",
       "      <th>count</th>\n",
       "      <td>3.202259e+07</td>\n",
       "      <td>3.202259e+07</td>\n",
       "      <td>3.202259e+07</td>\n",
       "      <td>3.202259e+07</td>\n",
       "      <td>3.202259e+07</td>\n",
       "      <td>3.202259e+07</td>\n",
       "      <td>3.202259e+07</td>\n",
       "      <td>3.202259e+07</td>\n",
       "      <td>3.202259e+07</td>\n",
       "      <td>3.202259e+07</td>\n",
       "      <td>...</td>\n",
       "      <td>3.202259e+07</td>\n",
       "      <td>3.202259e+07</td>\n",
       "      <td>3.202259e+07</td>\n",
       "      <td>3.202259e+07</td>\n",
       "      <td>3.202259e+07</td>\n",
       "      <td>3.202259e+07</td>\n",
       "      <td>3.202259e+07</td>\n",
       "      <td>3.202259e+07</td>\n",
       "      <td>3.202259e+07</td>\n",
       "      <td>3.202259e+07</td>\n",
       "    </tr>\n",
       "    <tr>\n",
       "      <th>mean</th>\n",
       "      <td>2.949945e+01</td>\n",
       "      <td>2.010513e+03</td>\n",
       "      <td>1.858836e+02</td>\n",
       "      <td>1.229514e+03</td>\n",
       "      <td>2.078589e+02</td>\n",
       "      <td>2.012375e+02</td>\n",
       "      <td>2.051705e+02</td>\n",
       "      <td>2.055484e+02</td>\n",
       "      <td>2.022586e+02</td>\n",
       "      <td>2.059909e+02</td>\n",
       "      <td>...</td>\n",
       "      <td>3.763285e+02</td>\n",
       "      <td>3.090993e+02</td>\n",
       "      <td>3.137456e+02</td>\n",
       "      <td>-3.127578e+04</td>\n",
       "      <td>3.744299e+02</td>\n",
       "      <td>3.707667e+02</td>\n",
       "      <td>2.693240e+02</td>\n",
       "      <td>2.058194e+02</td>\n",
       "      <td>2.072241e+02</td>\n",
       "      <td>2.020341e+02</td>\n",
       "    </tr>\n",
       "    <tr>\n",
       "      <th>std</th>\n",
       "      <td>1.731841e+01</td>\n",
       "      <td>4.998400e-01</td>\n",
       "      <td>9.226219e+01</td>\n",
       "      <td>4.324050e+02</td>\n",
       "      <td>4.134423e+03</td>\n",
       "      <td>4.133063e+03</td>\n",
       "      <td>4.133597e+03</td>\n",
       "      <td>4.133466e+03</td>\n",
       "      <td>4.133159e+03</td>\n",
       "      <td>4.134343e+03</td>\n",
       "      <td>...</td>\n",
       "      <td>3.559355e+02</td>\n",
       "      <td>3.367872e+02</td>\n",
       "      <td>2.395721e+03</td>\n",
       "      <td>4.663147e+04</td>\n",
       "      <td>3.551335e+02</td>\n",
       "      <td>3.487763e+02</td>\n",
       "      <td>3.287228e+03</td>\n",
       "      <td>4.133613e+03</td>\n",
       "      <td>4.133807e+03</td>\n",
       "      <td>4.133188e+03</td>\n",
       "    </tr>\n",
       "    <tr>\n",
       "      <th>min</th>\n",
       "      <td>0.000000e+00</td>\n",
       "      <td>2.010000e+03</td>\n",
       "      <td>1.000000e+00</td>\n",
       "      <td>5.000000e+02</td>\n",
       "      <td>-9.999900e+04</td>\n",
       "      <td>-9.999900e+04</td>\n",
       "      <td>-9.999900e+04</td>\n",
       "      <td>-9.999900e+04</td>\n",
       "      <td>-9.999900e+04</td>\n",
       "      <td>-9.999900e+04</td>\n",
       "      <td>...</td>\n",
       "      <td>-3.903160e-01</td>\n",
       "      <td>-3.641710e-01</td>\n",
       "      <td>-9.999900e+04</td>\n",
       "      <td>-9.999900e+04</td>\n",
       "      <td>0.000000e+00</td>\n",
       "      <td>-3.587210e-01</td>\n",
       "      <td>-9.999900e+04</td>\n",
       "      <td>-9.999900e+04</td>\n",
       "      <td>-9.999900e+04</td>\n",
       "      <td>-9.999900e+04</td>\n",
       "    </tr>\n",
       "    <tr>\n",
       "      <th>25%</th>\n",
       "      <td>1.400000e+01</td>\n",
       "      <td>2.010000e+03</td>\n",
       "      <td>1.130000e+02</td>\n",
       "      <td>8.450000e+02</td>\n",
       "      <td>3.585280e+01</td>\n",
       "      <td>3.926890e+01</td>\n",
       "      <td>3.919680e+01</td>\n",
       "      <td>4.040690e+01</td>\n",
       "      <td>3.781860e+01</td>\n",
       "      <td>3.493940e+01</td>\n",
       "      <td>...</td>\n",
       "      <td>4.057890e+01</td>\n",
       "      <td>3.422060e+01</td>\n",
       "      <td>4.073970e+01</td>\n",
       "      <td>-9.999900e+04</td>\n",
       "      <td>4.054130e+01</td>\n",
       "      <td>4.087510e+01</td>\n",
       "      <td>3.739830e+01</td>\n",
       "      <td>3.879600e+01</td>\n",
       "      <td>3.974750e+01</td>\n",
       "      <td>3.918830e+01</td>\n",
       "    </tr>\n",
       "    <tr>\n",
       "      <th>50%</th>\n",
       "      <td>2.900000e+01</td>\n",
       "      <td>2.011000e+03</td>\n",
       "      <td>1.870000e+02</td>\n",
       "      <td>1.230000e+03</td>\n",
       "      <td>2.745670e+02</td>\n",
       "      <td>2.766120e+02</td>\n",
       "      <td>2.786700e+02</td>\n",
       "      <td>2.815790e+02</td>\n",
       "      <td>2.783340e+02</td>\n",
       "      <td>2.710140e+02</td>\n",
       "      <td>...</td>\n",
       "      <td>2.825530e+02</td>\n",
       "      <td>1.752650e+02</td>\n",
       "      <td>2.790020e+02</td>\n",
       "      <td>4.755150e+01</td>\n",
       "      <td>2.798900e+02</td>\n",
       "      <td>2.805950e+02</td>\n",
       "      <td>2.796300e+02</td>\n",
       "      <td>2.802770e+02</td>\n",
       "      <td>2.804950e+02</td>\n",
       "      <td>2.769610e+02</td>\n",
       "    </tr>\n",
       "    <tr>\n",
       "      <th>75%</th>\n",
       "      <td>4.400000e+01</td>\n",
       "      <td>2.011000e+03</td>\n",
       "      <td>2.610000e+02</td>\n",
       "      <td>1.615000e+03</td>\n",
       "      <td>6.352530e+02</td>\n",
       "      <td>6.240600e+02</td>\n",
       "      <td>6.310440e+02</td>\n",
       "      <td>6.315050e+02</td>\n",
       "      <td>6.254170e+02</td>\n",
       "      <td>6.332350e+02</td>\n",
       "      <td>...</td>\n",
       "      <td>6.343040e+02</td>\n",
       "      <td>5.117000e+02</td>\n",
       "      <td>6.234180e+02</td>\n",
       "      <td>4.261850e+02</td>\n",
       "      <td>6.300870e+02</td>\n",
       "      <td>6.254420e+02</td>\n",
       "      <td>6.341130e+02</td>\n",
       "      <td>6.326570e+02</td>\n",
       "      <td>6.349530e+02</td>\n",
       "      <td>6.250400e+02</td>\n",
       "    </tr>\n",
       "    <tr>\n",
       "      <th>max</th>\n",
       "      <td>5.900000e+01</td>\n",
       "      <td>2.011000e+03</td>\n",
       "      <td>3.650000e+02</td>\n",
       "      <td>2.000000e+03</td>\n",
       "      <td>1.776870e+03</td>\n",
       "      <td>1.700350e+03</td>\n",
       "      <td>1.679110e+03</td>\n",
       "      <td>1.683540e+03</td>\n",
       "      <td>1.671920e+03</td>\n",
       "      <td>1.774320e+03</td>\n",
       "      <td>...</td>\n",
       "      <td>1.688870e+03</td>\n",
       "      <td>1.599200e+03</td>\n",
       "      <td>1.637120e+03</td>\n",
       "      <td>1.729710e+03</td>\n",
       "      <td>1.684510e+03</td>\n",
       "      <td>1.673730e+03</td>\n",
       "      <td>1.743300e+03</td>\n",
       "      <td>1.695660e+03</td>\n",
       "      <td>1.695750e+03</td>\n",
       "      <td>1.689960e+03</td>\n",
       "    </tr>\n",
       "  </tbody>\n",
       "</table>\n",
       "<p>8 rows × 23 columns</p>\n",
       "</div>"
      ],
      "text/plain": [
       "            Seconds          Year           DOY           HST        GH_DH3  \\\n",
       "count  3.202259e+07  3.202259e+07  3.202259e+07  3.202259e+07  3.202259e+07   \n",
       "mean   2.949945e+01  2.010513e+03  1.858836e+02  1.229514e+03  2.078589e+02   \n",
       "std    1.731841e+01  4.998400e-01  9.226219e+01  4.324050e+02  4.134423e+03   \n",
       "min    0.000000e+00  2.010000e+03  1.000000e+00  5.000000e+02 -9.999900e+04   \n",
       "25%    1.400000e+01  2.010000e+03  1.130000e+02  8.450000e+02  3.585280e+01   \n",
       "50%    2.900000e+01  2.011000e+03  1.870000e+02  1.230000e+03  2.745670e+02   \n",
       "75%    4.400000e+01  2.011000e+03  2.610000e+02  1.615000e+03  6.352530e+02   \n",
       "max    5.900000e+01  2.011000e+03  3.650000e+02  2.000000e+03  1.776870e+03   \n",
       "\n",
       "             GH_DH4        GH_DH5       GH_DH10       GH_DH11        GH_DH9  \\\n",
       "count  3.202259e+07  3.202259e+07  3.202259e+07  3.202259e+07  3.202259e+07   \n",
       "mean   2.012375e+02  2.051705e+02  2.055484e+02  2.022586e+02  2.059909e+02   \n",
       "std    4.133063e+03  4.133597e+03  4.133466e+03  4.133159e+03  4.134343e+03   \n",
       "min   -9.999900e+04 -9.999900e+04 -9.999900e+04 -9.999900e+04 -9.999900e+04   \n",
       "25%    3.926890e+01  3.919680e+01  4.040690e+01  3.781860e+01  3.493940e+01   \n",
       "50%    2.766120e+02  2.786700e+02  2.815790e+02  2.783340e+02  2.710140e+02   \n",
       "75%    6.240600e+02  6.310440e+02  6.315050e+02  6.254170e+02  6.332350e+02   \n",
       "max    1.700350e+03  1.679110e+03  1.683540e+03  1.671920e+03  1.774320e+03   \n",
       "\n",
       "           ...             GH_AP6        GT_AP6        GH_AP1        GH_AP3  \\\n",
       "count      ...       3.202259e+07  3.202259e+07  3.202259e+07  3.202259e+07   \n",
       "mean       ...       3.763285e+02  3.090993e+02  3.137456e+02 -3.127578e+04   \n",
       "std        ...       3.559355e+02  3.367872e+02  2.395721e+03  4.663147e+04   \n",
       "min        ...      -3.903160e-01 -3.641710e-01 -9.999900e+04 -9.999900e+04   \n",
       "25%        ...       4.057890e+01  3.422060e+01  4.073970e+01 -9.999900e+04   \n",
       "50%        ...       2.825530e+02  1.752650e+02  2.790020e+02  4.755150e+01   \n",
       "75%        ...       6.343040e+02  5.117000e+02  6.234180e+02  4.261850e+02   \n",
       "max        ...       1.688870e+03  1.599200e+03  1.637120e+03  1.729710e+03   \n",
       "\n",
       "             GH_AP5        GH_AP4        GH_AP7        GH_DH6        GH_DH7  \\\n",
       "count  3.202259e+07  3.202259e+07  3.202259e+07  3.202259e+07  3.202259e+07   \n",
       "mean   3.744299e+02  3.707667e+02  2.693240e+02  2.058194e+02  2.072241e+02   \n",
       "std    3.551335e+02  3.487763e+02  3.287228e+03  4.133613e+03  4.133807e+03   \n",
       "min    0.000000e+00 -3.587210e-01 -9.999900e+04 -9.999900e+04 -9.999900e+04   \n",
       "25%    4.054130e+01  4.087510e+01  3.739830e+01  3.879600e+01  3.974750e+01   \n",
       "50%    2.798900e+02  2.805950e+02  2.796300e+02  2.802770e+02  2.804950e+02   \n",
       "75%    6.300870e+02  6.254420e+02  6.341130e+02  6.326570e+02  6.349530e+02   \n",
       "max    1.684510e+03  1.673730e+03  1.743300e+03  1.695660e+03  1.695750e+03   \n",
       "\n",
       "             GH_DH8  \n",
       "count  3.202259e+07  \n",
       "mean   2.020341e+02  \n",
       "std    4.133188e+03  \n",
       "min   -9.999900e+04  \n",
       "25%    3.918830e+01  \n",
       "50%    2.769610e+02  \n",
       "75%    6.250400e+02  \n",
       "max    1.689960e+03  \n",
       "\n",
       "[8 rows x 23 columns]"
      ]
     },
     "execution_count": 6,
     "metadata": {},
     "output_type": "execute_result"
    }
   ],
   "source": [
    "df.describe()"
   ]
  },
  {
   "cell_type": "code",
   "execution_count": 7,
   "metadata": {},
   "outputs": [
    {
     "data": {
      "text/plain": [
       "(32022593, 25)"
      ]
     },
     "execution_count": 7,
     "metadata": {},
     "output_type": "execute_result"
    }
   ],
   "source": [
    "df.shape"
   ]
  },
  {
   "cell_type": "code",
   "execution_count": 8,
   "metadata": {},
   "outputs": [],
   "source": [
    "sensors = ['GH_DH3', 'GH_DH4', 'GH_DH5',\n",
    "       'GH_DH10', 'GH_DH11', 'GH_DH9', 'GH_DH2', 'GH_DH1', 'GT_DH1', 'GH_AP6',\n",
    "       'GT_AP6', 'GH_AP1', 'GH_AP3', 'GH_AP5', 'GH_AP4', 'GH_AP7', 'GH_DH6',\n",
    "       'GH_DH7', 'GH_DH8']\n",
    "\n",
    "#df[df[sensors] < 0]"
   ]
  },
  {
   "cell_type": "code",
   "execution_count": 9,
   "metadata": {},
   "outputs": [],
   "source": [
    "df_ = df.iloc[:10000]"
   ]
  },
  {
   "cell_type": "code",
   "execution_count": 27,
   "metadata": {},
   "outputs": [],
   "source": [
    "df_ = df\n",
    "del df"
   ]
  },
  {
   "cell_type": "code",
   "execution_count": 28,
   "metadata": {},
   "outputs": [],
   "source": [
    "df_ = df_.replace(-99999.000000, np.nan)"
   ]
  },
  {
   "cell_type": "code",
   "execution_count": 16,
   "metadata": {},
   "outputs": [],
   "source": [
    "from bokeh.layouts import gridplot\n",
    "from bokeh.io import output_file, show\n",
    "from bokeh.plotting import figure\n",
    "from bokeh.sampledata.stocks import AAPL, GOOG, IBM, MSFT"
   ]
  },
  {
   "cell_type": "code",
   "execution_count": 29,
   "metadata": {},
   "outputs": [
    {
     "name": "stderr",
     "output_type": "stream",
     "text": [
      "/home/victor/miniconda3/lib/python3.6/site-packages/bokeh/models/plots.py:725: UserWarning: \n",
      "You are attemptings to set `plot.legend.location` on a plot that has zero legends added, this will have no effect.\n",
      "\n",
      "Before legend properties can be set, you must add a Legend explicitly, or call a glyph method with the 'legend' parameter set.\n",
      "\n",
      "  warnings.warn(_LEGEND_EMPTY_WARNING % attr)\n"
     ]
    }
   ],
   "source": [
    "p1 = figure(x_axis_type=\"datetime\", title=\"Stock Closing Prices\")\n",
    "p1.grid.grid_line_alpha=0.3\n",
    "p1.xaxis.axis_label = 'Date'\n",
    "p1.yaxis.axis_label = 'Sensor'\n",
    "\n",
    "for i in range(len(sensors)):\n",
    "    p1.line(datetime(df_['Datetime']), df_[sensors[i]])\n",
    "p1.legend.location = \"top_left\""
   ]
  },
  {
   "cell_type": "code",
   "execution_count": 26,
   "metadata": {},
   "outputs": [],
   "source": [
    "show(p1)\n",
    "\n",
    "output_file(\"image.html\", title=\"image.py example\")\n"
   ]
  },
  {
   "cell_type": "code",
   "execution_count": null,
   "metadata": {},
   "outputs": [],
   "source": []
  },
  {
   "cell_type": "code",
   "execution_count": null,
   "metadata": {},
   "outputs": [],
   "source": []
  },
  {
   "cell_type": "code",
   "execution_count": null,
   "metadata": {},
   "outputs": [],
   "source": []
  },
  {
   "cell_type": "code",
   "execution_count": 10,
   "metadata": {},
   "outputs": [
    {
     "data": {
      "text/plain": [
       "<matplotlib.axes._subplots.AxesSubplot at 0x7f17b73f2cf8>"
      ]
     },
     "execution_count": 10,
     "metadata": {},
     "output_type": "execute_result"
    },
    {
     "data": {
      "image/png": "[encoded data removed]",
      "text/plain": [
       "<matplotlib.figure.Figure at 0x7f17b73f28d0>"
      ]
     },
     "metadata": {
      "needs_background": "light"
     },
     "output_type": "display_data"
    }
   ],
   "source": [
    "df[df[\"GH_DH10\"]>0].plot(x='Datetime', y='GH_DH10')"
   ]
  },
  {
   "cell_type": "code",
   "execution_count": 11,
   "metadata": {},
   "outputs": [
    {
     "data": {
      "text/plain": [
       "<matplotlib.axes._subplots.AxesSubplot at 0x7f17b73ad5c0>"
      ]
     },
     "execution_count": 11,
     "metadata": {},
     "output_type": "execute_result"
    },
    {
     "data": {
      "image/png": "[encoded data removed]",
      "text/plain": [
       "<matplotlib.figure.Figure at 0x7f177295d828>"
      ]
     },
     "metadata": {
      "needs_background": "light"
     },
     "output_type": "display_data"
    }
   ],
   "source": [
    "df[df[\"GH_AP6\"]>0].plot(x='Datetime', y='GH_AP6')"
   ]
  },
  {
   "cell_type": "code",
   "execution_count": 10,
   "metadata": {
    "collapsed": true
   },
   "outputs": [],
   "source": [
    "df_ = df.replace(-99999.000000, np.nan)"
   ]
  },
  {
   "cell_type": "code",
   "execution_count": 13,
   "metadata": {},
   "outputs": [
    {
     "data": {
      "text/plain": [
       "<matplotlib.axes._subplots.AxesSubplot at 0x7f17be0bfb70>"
      ]
     },
     "execution_count": 13,
     "metadata": {},
     "output_type": "execute_result"
    },
    {
     "data": {
      "image/png": "[encoded data removed]",
      "text/plain": [
       "<matplotlib.figure.Figure at 0x7f17c06264e0>"
      ]
     },
     "metadata": {
      "needs_background": "light"
     },
     "output_type": "display_data"
    }
   ],
   "source": [
    "df_.plot(x='Datetime', y='GH_DH10')"
   ]
  },
  {
   "cell_type": "code",
   "execution_count": null,
   "metadata": {
    "collapsed": true
   },
   "outputs": [],
   "source": []
  },
  {
   "cell_type": "code",
   "execution_count": 14,
   "metadata": {
    "collapsed": true
   },
   "outputs": [],
   "source": [
    "dfs = df_.iloc[:10000]"
   ]
  },
  {
   "cell_type": "code",
   "execution_count": 18,
   "metadata": {
    "collapsed": true
   },
   "outputs": [],
   "source": [
    "import seaborn as sns"
   ]
  },
  {
   "cell_type": "code",
   "execution_count": 27,
   "metadata": {},
   "outputs": [
    {
     "data": {
      "text/plain": [
       "<matplotlib.axes._subplots.AxesSubplot at 0x7f16dad742e8>"
      ]
     },
     "execution_count": 27,
     "metadata": {},
     "output_type": "execute_result"
    },
    {
     "data": {
      "image/png": "[encoded data removed]",
      "text/plain": [
       "<matplotlib.figure.Figure at 0x7f16da778278>"
      ]
     },
     "metadata": {
      "needs_background": "light"
     },
     "output_type": "display_data"
    }
   ],
   "source": [
    "sns.heatmap(df_.isnull(), cbar=False)"
   ]
  },
  {
   "cell_type": "code",
   "execution_count": 28,
   "metadata": {},
   "outputs": [
    {
     "data": {
      "text/plain": [
       "<matplotlib.axes._subplots.AxesSubplot at 0x7f16dac2b0f0>"
      ]
     },
     "execution_count": 28,
     "metadata": {},
     "output_type": "execute_result"
    },
    {
     "data": {
      "image/png": "[encoded data removed]",
      "text/plain": [
       "<matplotlib.figure.Figure at 0x7f16dac361d0>"
      ]
     },
     "metadata": {
      "needs_background": "light"
     },
     "output_type": "display_data"
    }
   ],
   "source": [
    "df_[sensors].plot(legend=False, colormap='inferno')"
   ]
  },
  {
   "cell_type": "markdown",
   "metadata": {
    "collapsed": true
   },
   "source": [
    "## Minute Data"
   ]
  },
  {
   "cell_type": "code",
   "execution_count": 47,
   "metadata": {},
   "outputs": [],
   "source": [
    "df_min = df[df.Datetime.dt.second == 0]"
   ]
  },
  {
   "cell_type": "markdown",
   "metadata": {},
   "source": [
    "## Hour Data"
   ]
  },
  {
   "cell_type": "code",
   "execution_count": 49,
   "metadata": {
    "collapsed": true
   },
   "outputs": [],
   "source": [
    "df_hour = df_min[df_min.Datetime.dt.minute == 0]"
   ]
  },
  {
   "cell_type": "code",
   "execution_count": 52,
   "metadata": {
    "collapsed": true
   },
   "outputs": [],
   "source": [
    "df_hour_ = df_hour.replace(-99999.000000, np.nan)"
   ]
  },
  {
   "cell_type": "code",
   "execution_count": null,
   "metadata": {},
   "outputs": [
    {
     "data": {
      "text/plain": [
       "<matplotlib.axes._subplots.AxesSubplot at 0x7fa6a4945cc0>"
      ]
     },
     "execution_count": 55,
     "metadata": {},
     "output_type": "execute_result"
    }
   ],
   "source": [
    "df_hour_[sensors].plot(legend=False, colormap='inferno')"
   ]
  },
  {
   "cell_type": "code",
   "execution_count": null,
   "metadata": {
    "collapsed": true
   },
   "outputs": [],
   "source": []
  }
 ],
 "metadata": {
  "kernelspec": {
   "display_name": "Python [default]",
   "language": "python",
   "name": "python3"
  },
  "language_info": {
   "codemirror_mode": {
    "name": "ipython",
    "version": 3
   },
   "file_extension": ".py",
   "mimetype": "text/x-python",
   "name": "python",
   "nbconvert_exporter": "python",
   "pygments_lexer": "ipython3",
   "version": "3.6.0"
  }
 },
 "nbformat": 4,
 "nbformat_minor": 2
}
