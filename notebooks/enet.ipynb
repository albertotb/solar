{
 "cells": [
  {
   "cell_type": "code",
   "execution_count": 1,
   "metadata": {
    "collapsed": true
   },
   "outputs": [],
   "source": [
    "import pandas as pd\n",
    "import numpy as np\n",
    "import pickle\n",
    "%matplotlib inline"
   ]
  },
  {
   "cell_type": "code",
   "execution_count": 2,
   "metadata": {},
   "outputs": [
    {
     "name": "stderr",
     "output_type": "stream",
     "text": [
      "/home/atorres/.local/lib/python3.6/site-packages/sklearn/base.py:253: UserWarning: Trying to unpickle estimator ElasticNetCV from version 0.20.2 when using version 0.20.3. This might lead to breaking code or invalid results. Use at your own risk.\n",
      "  UserWarning)\n",
      "/home/atorres/.local/lib/python3.6/site-packages/sklearn/base.py:253: UserWarning: Trying to unpickle estimator MultiOutputRegressor from version 0.20.2 when using version 0.20.3. This might lead to breaking code or invalid results. Use at your own risk.\n",
      "  UserWarning)\n"
     ]
    }
   ],
   "source": [
    "with open('../src/model_60.pkl', 'rb') as f:\n",
    "    res = pickle.load(f)"
   ]
  },
  {
   "cell_type": "code",
   "execution_count": 4,
   "metadata": {
    "collapsed": true
   },
   "outputs": [],
   "source": [
    "from sklearn.metrics import mean_absolute_error"
   ]
  },
  {
   "cell_type": "code",
   "execution_count": 7,
   "metadata": {},
   "outputs": [
    {
     "data": {
      "text/plain": [
       "location\n",
       "GH_AP3     41.241154\n",
       "GH_DH8     45.938235\n",
       "GH_DH11    49.423515\n",
       "GH_AP5     49.645482\n",
       "GT_DH1     50.231419\n",
       "GH_DH9     51.907006\n",
       "GH_DH6     52.297263\n",
       "GH_DH10    54.070373\n",
       "GT_AP6     54.349100\n",
       "GH_DH7     55.919739\n",
       "GH_AP1     56.424958\n",
       "GH_DH4     56.999730\n",
       "GH_DH5     57.467484\n",
       "GH_DH3     58.021214\n",
       "GH_DH1     59.039821\n",
       "GH_DH2     60.613714\n",
       "GH_AP4     62.789525\n",
       "GH_AP6     68.230467\n",
       "GH_AP7     71.463068\n",
       "dtype: float64"
      ]
     },
     "execution_count": 7,
     "metadata": {},
     "output_type": "execute_result"
    }
   ],
   "source": [
    "(res['pred'].stack(level='location')\n",
    "            .groupby('location')\n",
    "            .apply(lambda s: mean_absolute_error(s['Actual'], s['Pred']))\n",
    "            .sort_values())"
   ]
  },
  {
   "cell_type": "code",
   "execution_count": 28,
   "metadata": {},
   "outputs": [
    {
     "name": "stdout",
     "output_type": "stream",
     "text": [
      "236.29845387296407\n",
      "228.20621132513634\n",
      "233.56121733057265\n",
      "233.63028731859296\n",
      "231.64040958616263\n",
      "241.4351382172005\n",
      "226.36081495517814\n",
      "223.46949939086716\n",
      "230.06836928955258\n",
      "397.2546295012223\n",
      "238.258898399358\n",
      "229.0993078947758\n",
      "184.63789964608543\n",
      "231.85962724538288\n",
      "422.32621935864444\n",
      "429.60172277275757\n",
      "237.29214023507848\n",
      "231.9479629817645\n",
      "236.37827441812217\n"
     ]
    }
   ],
   "source": [
    "for model in res['model'].estimators_:\n",
    "    print(model.alpha_)"
   ]
  },
  {
   "cell_type": "code",
   "execution_count": 69,
   "metadata": {},
   "outputs": [],
   "source": [
    "coef_list = [ np.abs(model.coef_.reshape(59, 19).T) for model in res['model'].estimators_ ]"
   ]
  },
  {
   "cell_type": "code",
   "execution_count": 93,
   "metadata": {},
   "outputs": [],
   "source": [
    "import seaborn as sns"
   ]
  },
  {
   "cell_type": "code",
   "execution_count": 91,
   "metadata": {},
   "outputs": [
    {
     "data": {
      "image/png": "[encoded data removed]",
      "text/plain": [
       "<Figure size 432x288 with 2 Axes>"
      ]
     },
     "metadata": {},
     "output_type": "display_data"
    }
   ],
   "source": [
    "sns.heatmap(np.dstack(coef_list).mean(axis=0).T);"
   ]
  },
  {
   "cell_type": "code",
   "execution_count": 94,
   "metadata": {},
   "outputs": [
    {
     "data": {
      "image/png": "[encoded data removed]",
      "text/plain": [
       "<Figure size 432x288 with 2 Axes>"
      ]
     },
     "metadata": {},
     "output_type": "display_data"
    }
   ],
   "source": [
    "sns.heatmap(np.dstack(coef_list).mean(axis=1).T);"
   ]
  },
  {
   "cell_type": "code",
   "execution_count": null,
   "metadata": {
    "collapsed": true
   },
   "outputs": [],
   "source": []
  }
 ],
 "metadata": {
  "kernelspec": {
   "display_name": "Python 3",
   "language": "python",
   "name": "python3"
  },
  "language_info": {
   "codemirror_mode": {
    "name": "ipython",
    "version": 3
   },
   "file_extension": ".py",
   "mimetype": "text/x-python",
   "name": "python",
   "nbconvert_exporter": "python",
   "pygments_lexer": "ipython3",
   "version": "3.6.3"
  }
 },
 "nbformat": 4,
 "nbformat_minor": 2
}
