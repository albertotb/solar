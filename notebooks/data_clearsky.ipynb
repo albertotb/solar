{
 "cells": [
  {
   "cell_type": "markdown",
   "metadata": {},
   "source": [
    "## Comparison of clearsky models"
   ]
  },
  {
   "cell_type": "code",
   "execution_count": 1,
   "metadata": {
    "collapsed": true,
    "scrolled": true
   },
   "outputs": [],
   "source": [
    "import pandas as pd\n",
    "import numpy as np\n",
    "import feather\n",
    "import pvlib\n",
    "import sys\n",
    "sys.path.append('..')\n",
    "from src.utils.download_data import timer"
   ]
  },
  {
   "cell_type": "code",
   "execution_count": 2,
   "metadata": {
    "collapsed": true
   },
   "outputs": [],
   "source": [
    "DATA_PATH = '/home/SHARED/SOLAR/data/'"
   ]
  },
  {
   "cell_type": "code",
   "execution_count": 3,
   "metadata": {
    "collapsed": true
   },
   "outputs": [],
   "source": [
    "# read minute data and location info\n",
    "df = pd.read_pickle(DATA_PATH + 'oahu_min_cs.pkl')"
   ]
  },
  {
   "cell_type": "code",
   "execution_count": 4,
   "metadata": {},
   "outputs": [
    {
     "data": {
      "text/html": [
       "<div>\n",
       "<style scoped>\n",
       "    .dataframe tbody tr th:only-of-type {\n",
       "        vertical-align: middle;\n",
       "    }\n",
       "\n",
       "    .dataframe tbody tr th {\n",
       "        vertical-align: top;\n",
       "    }\n",
       "\n",
       "    .dataframe thead th {\n",
       "        text-align: right;\n",
       "    }\n",
       "</style>\n",
       "<table border=\"1\" class=\"dataframe\">\n",
       "  <thead>\n",
       "    <tr style=\"text-align: right;\">\n",
       "      <th></th>\n",
       "      <th>Radiation</th>\n",
       "      <th>GHI</th>\n",
       "      <th>GTI</th>\n",
       "      <th>Pysolar</th>\n",
       "      <th>Altitude</th>\n",
       "      <th>Ineichen</th>\n",
       "      <th>Haurwitz</th>\n",
       "      <th>Solis</th>\n",
       "    </tr>\n",
       "    <tr>\n",
       "      <th>Location</th>\n",
       "      <th>Datetime</th>\n",
       "      <th></th>\n",
       "      <th></th>\n",
       "      <th></th>\n",
       "      <th></th>\n",
       "      <th></th>\n",
       "      <th></th>\n",
       "      <th></th>\n",
       "    </tr>\n",
       "  </thead>\n",
       "  <tbody>\n",
       "    <tr>\n",
       "      <th>AP1</th>\n",
       "      <th>2010-03-19 14:15:00-10:00</th>\n",
       "      <td>476.328</td>\n",
       "      <td>NaN</td>\n",
       "      <td>973.629240</td>\n",
       "      <td>58.317632</td>\n",
       "      <td>840.960548</td>\n",
       "      <td>871.749955</td>\n",
       "      <td>907.496424</td>\n",
       "    </tr>\n",
       "    <tr>\n",
       "      <th>AP3</th>\n",
       "      <th>2010-03-19 14:15:00-10:00</th>\n",
       "      <td>382.777</td>\n",
       "      <td>NaN</td>\n",
       "      <td>973.625962</td>\n",
       "      <td>58.315987</td>\n",
       "      <td>841.600950</td>\n",
       "      <td>871.733426</td>\n",
       "      <td>907.477590</td>\n",
       "    </tr>\n",
       "    <tr>\n",
       "      <th>AP4</th>\n",
       "      <th>2010-03-19 14:15:00-10:00</th>\n",
       "      <td>351.610</td>\n",
       "      <td>NaN</td>\n",
       "      <td>973.624679</td>\n",
       "      <td>58.315343</td>\n",
       "      <td>841.594000</td>\n",
       "      <td>871.726958</td>\n",
       "      <td>907.470220</td>\n",
       "    </tr>\n",
       "    <tr>\n",
       "      <th>AP5</th>\n",
       "      <th>2010-03-19 14:15:00-10:00</th>\n",
       "      <td>390.092</td>\n",
       "      <td>NaN</td>\n",
       "      <td>973.630994</td>\n",
       "      <td>58.318513</td>\n",
       "      <td>841.628209</td>\n",
       "      <td>871.758798</td>\n",
       "      <td>907.506499</td>\n",
       "    </tr>\n",
       "    <tr>\n",
       "      <th>AP6</th>\n",
       "      <th>2010-03-19 14:15:00-10:00</th>\n",
       "      <td>353.928</td>\n",
       "      <td>343.313</td>\n",
       "      <td>973.628714</td>\n",
       "      <td>58.317368</td>\n",
       "      <td>841.615852</td>\n",
       "      <td>871.747297</td>\n",
       "      <td>907.493395</td>\n",
       "    </tr>\n",
       "  </tbody>\n",
       "</table>\n",
       "</div>"
      ],
      "text/plain": [
       "Radiation                               GHI      GTI     Pysolar   Altitude  \\\n",
       "Location Datetime                                                             \n",
       "AP1      2010-03-19 14:15:00-10:00  476.328      NaN  973.629240  58.317632   \n",
       "AP3      2010-03-19 14:15:00-10:00  382.777      NaN  973.625962  58.315987   \n",
       "AP4      2010-03-19 14:15:00-10:00  351.610      NaN  973.624679  58.315343   \n",
       "AP5      2010-03-19 14:15:00-10:00  390.092      NaN  973.630994  58.318513   \n",
       "AP6      2010-03-19 14:15:00-10:00  353.928  343.313  973.628714  58.317368   \n",
       "\n",
       "Radiation                             Ineichen    Haurwitz       Solis  \n",
       "Location Datetime                                                       \n",
       "AP1      2010-03-19 14:15:00-10:00  840.960548  871.749955  907.496424  \n",
       "AP3      2010-03-19 14:15:00-10:00  841.600950  871.733426  907.477590  \n",
       "AP4      2010-03-19 14:15:00-10:00  841.594000  871.726958  907.470220  \n",
       "AP5      2010-03-19 14:15:00-10:00  841.628209  871.758798  907.506499  \n",
       "AP6      2010-03-19 14:15:00-10:00  841.615852  871.747297  907.493395  "
      ]
     },
     "execution_count": 4,
     "metadata": {},
     "output_type": "execute_result"
    }
   ],
   "source": [
    "df.head()"
   ]
  },
  {
   "cell_type": "code",
   "execution_count": 5,
   "metadata": {},
   "outputs": [
    {
     "data": {
      "text/plain": [
       "(9058229, 7)"
      ]
     },
     "execution_count": 5,
     "metadata": {},
     "output_type": "execute_result"
    }
   ],
   "source": [
    "df.shape"
   ]
  },
  {
   "cell_type": "markdown",
   "metadata": {},
   "source": [
    "Replace negative values with 0"
   ]
  },
  {
   "cell_type": "code",
   "execution_count": 6,
   "metadata": {
    "collapsed": true
   },
   "outputs": [],
   "source": [
    "df['GHI'] = df['GHI'].where(df['GHI'] >= 0, other=0)"
   ]
  },
  {
   "cell_type": "code",
   "execution_count": 7,
   "metadata": {},
   "outputs": [
    {
     "data": {
      "text/plain": [
       "(6041579, 7)"
      ]
     },
     "execution_count": 7,
     "metadata": {},
     "output_type": "execute_result"
    }
   ],
   "source": [
    "df1 = df.unstack(level='Location').between_time('7:30', '17:30').stack(level='Location')\n",
    "df1.shape"
   ]
  },
  {
   "cell_type": "markdown",
   "metadata": {},
   "source": [
    "Compute Haurwitz and Kasten clearsky based on sun altitude:\n",
    "\n",
    "    ghi_csm = 910 * math.sin(math.radians(altitude))`\n",
    "    ghi_csm = 1098 * math.sin(math.radians(altitude)) * math.exp(-0.057 / (math.sin(math.radians(altitude))))`"
   ]
  },
  {
   "cell_type": "code",
   "execution_count": 8,
   "metadata": {
    "collapsed": true
   },
   "outputs": [],
   "source": [
    "df1['Kasten_UCM']   = 910 * np.sin(np.radians(df1['Altitude']))\n",
    "df1['Haurwitz_UCM'] = 1098 * np.sin(np.radians(df1['Altitude'])) * np.exp(-0.057 / (np.sin(np.radians(df1['Altitude']))))"
   ]
  },
  {
   "cell_type": "code",
   "execution_count": 9,
   "metadata": {},
   "outputs": [
    {
     "data": {
      "text/html": [
       "<style  type=\"text/css\" >\n",
       "</style><table id=\"T_82a5ab4c_4a32_11e9_92ab_d8cb8ac57ff3\" ><thead>    <tr>        <th class=\"index_name level0\" >Radiation</th>        <th class=\"col_heading level0 col0\" >GHI</th>        <th class=\"col_heading level0 col1\" >GTI</th>        <th class=\"col_heading level0 col2\" >Pysolar</th>        <th class=\"col_heading level0 col3\" >Altitude</th>        <th class=\"col_heading level0 col4\" >Ineichen</th>        <th class=\"col_heading level0 col5\" >Haurwitz</th>        <th class=\"col_heading level0 col6\" >Solis</th>        <th class=\"col_heading level0 col7\" >Kasten_UCM</th>        <th class=\"col_heading level0 col8\" >Haurwitz_UCM</th>    </tr></thead><tbody>\n",
       "                <tr>\n",
       "                        <th id=\"T_82a5ab4c_4a32_11e9_92ab_d8cb8ac57ff3level0_row0\" class=\"row_heading level0 row0\" >count</th>\n",
       "                        <td id=\"T_82a5ab4c_4a32_11e9_92ab_d8cb8ac57ff3row0_col0\" class=\"data row0 col0\" >6.04158e+06</td>\n",
       "                        <td id=\"T_82a5ab4c_4a32_11e9_92ab_d8cb8ac57ff3row0_col1\" class=\"data row0 col1\" >710774</td>\n",
       "                        <td id=\"T_82a5ab4c_4a32_11e9_92ab_d8cb8ac57ff3row0_col2\" class=\"data row0 col2\" >6.04158e+06</td>\n",
       "                        <td id=\"T_82a5ab4c_4a32_11e9_92ab_d8cb8ac57ff3row0_col3\" class=\"data row0 col3\" >6.04158e+06</td>\n",
       "                        <td id=\"T_82a5ab4c_4a32_11e9_92ab_d8cb8ac57ff3row0_col4\" class=\"data row0 col4\" >6.04158e+06</td>\n",
       "                        <td id=\"T_82a5ab4c_4a32_11e9_92ab_d8cb8ac57ff3row0_col5\" class=\"data row0 col5\" >6.04158e+06</td>\n",
       "                        <td id=\"T_82a5ab4c_4a32_11e9_92ab_d8cb8ac57ff3row0_col6\" class=\"data row0 col6\" >6.04158e+06</td>\n",
       "                        <td id=\"T_82a5ab4c_4a32_11e9_92ab_d8cb8ac57ff3row0_col7\" class=\"data row0 col7\" >6.04158e+06</td>\n",
       "                        <td id=\"T_82a5ab4c_4a32_11e9_92ab_d8cb8ac57ff3row0_col8\" class=\"data row0 col8\" >6.04158e+06</td>\n",
       "            </tr>\n",
       "            <tr>\n",
       "                        <th id=\"T_82a5ab4c_4a32_11e9_92ab_d8cb8ac57ff3level0_row1\" class=\"row_heading level0 row1\" >mean</th>\n",
       "                        <td id=\"T_82a5ab4c_4a32_11e9_92ab_d8cb8ac57ff3row1_col0\" class=\"data row1 col0\" >533.703</td>\n",
       "                        <td id=\"T_82a5ab4c_4a32_11e9_92ab_d8cb8ac57ff3row1_col1\" class=\"data row1 col1\" >436.457</td>\n",
       "                        <td id=\"T_82a5ab4c_4a32_11e9_92ab_d8cb8ac57ff3row1_col2\" class=\"data row1 col2\" >853.326</td>\n",
       "                        <td id=\"T_82a5ab4c_4a32_11e9_92ab_d8cb8ac57ff3row1_col3\" class=\"data row1 col3\" >46.8803</td>\n",
       "                        <td id=\"T_82a5ab4c_4a32_11e9_92ab_d8cb8ac57ff3row1_col4\" class=\"data row1 col4\" >632.429</td>\n",
       "                        <td id=\"T_82a5ab4c_4a32_11e9_92ab_d8cb8ac57ff3row1_col5\" class=\"data row1 col5\" >693.075</td>\n",
       "                        <td id=\"T_82a5ab4c_4a32_11e9_92ab_d8cb8ac57ff3row1_col6\" class=\"data row1 col6\" >698.903</td>\n",
       "                        <td id=\"T_82a5ab4c_4a32_11e9_92ab_d8cb8ac57ff3row1_col7\" class=\"data row1 col7\" >625.453</td>\n",
       "                        <td id=\"T_82a5ab4c_4a32_11e9_92ab_d8cb8ac57ff3row1_col8\" class=\"data row1 col8\" >695.06</td>\n",
       "            </tr>\n",
       "            <tr>\n",
       "                        <th id=\"T_82a5ab4c_4a32_11e9_92ab_d8cb8ac57ff3level0_row2\" class=\"row_heading level0 row2\" >std</th>\n",
       "                        <td id=\"T_82a5ab4c_4a32_11e9_92ab_d8cb8ac57ff3row2_col0\" class=\"data row2 col0\" >318.703</td>\n",
       "                        <td id=\"T_82a5ab4c_4a32_11e9_92ab_d8cb8ac57ff3row2_col1\" class=\"data row2 col1\" >345.336</td>\n",
       "                        <td id=\"T_82a5ab4c_4a32_11e9_92ab_d8cb8ac57ff3row2_col2\" class=\"data row2 col2\" >116.846</td>\n",
       "                        <td id=\"T_82a5ab4c_4a32_11e9_92ab_d8cb8ac57ff3row2_col3\" class=\"data row2 col3\" >19.6568</td>\n",
       "                        <td id=\"T_82a5ab4c_4a32_11e9_92ab_d8cb8ac57ff3row2_col4\" class=\"data row2 col4\" >244.777</td>\n",
       "                        <td id=\"T_82a5ab4c_4a32_11e9_92ab_d8cb8ac57ff3row2_col5\" class=\"data row2 col5\" >244.64</td>\n",
       "                        <td id=\"T_82a5ab4c_4a32_11e9_92ab_d8cb8ac57ff3row2_col6\" class=\"data row2 col6\" >258.32</td>\n",
       "                        <td id=\"T_82a5ab4c_4a32_11e9_92ab_d8cb8ac57ff3row2_col7\" class=\"data row2 col7\" >204.019</td>\n",
       "                        <td id=\"T_82a5ab4c_4a32_11e9_92ab_d8cb8ac57ff3row2_col8\" class=\"data row2 col8\" >244.74</td>\n",
       "            </tr>\n",
       "            <tr>\n",
       "                        <th id=\"T_82a5ab4c_4a32_11e9_92ab_d8cb8ac57ff3level0_row3\" class=\"row_heading level0 row3\" >min</th>\n",
       "                        <td id=\"T_82a5ab4c_4a32_11e9_92ab_d8cb8ac57ff3row3_col0\" class=\"data row3 col0\" >0</td>\n",
       "                        <td id=\"T_82a5ab4c_4a32_11e9_92ab_d8cb8ac57ff3row3_col1\" class=\"data row3 col1\" >0.363829</td>\n",
       "                        <td id=\"T_82a5ab4c_4a32_11e9_92ab_d8cb8ac57ff3row3_col2\" class=\"data row3 col2\" >96.9197</td>\n",
       "                        <td id=\"T_82a5ab4c_4a32_11e9_92ab_d8cb8ac57ff3row3_col3\" class=\"data row3 col3\" >3.1376</td>\n",
       "                        <td id=\"T_82a5ab4c_4a32_11e9_92ab_d8cb8ac57ff3row3_col4\" class=\"data row3 col4\" >8.27051</td>\n",
       "                        <td id=\"T_82a5ab4c_4a32_11e9_92ab_d8cb8ac57ff3row3_col5\" class=\"data row3 col5\" >20.5473</td>\n",
       "                        <td id=\"T_82a5ab4c_4a32_11e9_92ab_d8cb8ac57ff3row3_col6\" class=\"data row3 col6\" >25.4578</td>\n",
       "                        <td id=\"T_82a5ab4c_4a32_11e9_92ab_d8cb8ac57ff3row3_col7\" class=\"data row3 col7\" >49.808</td>\n",
       "                        <td id=\"T_82a5ab4c_4a32_11e9_92ab_d8cb8ac57ff3row3_col8\" class=\"data row3 col8\" >21.2122</td>\n",
       "            </tr>\n",
       "            <tr>\n",
       "                        <th id=\"T_82a5ab4c_4a32_11e9_92ab_d8cb8ac57ff3level0_row4\" class=\"row_heading level0 row4\" >25%</th>\n",
       "                        <td id=\"T_82a5ab4c_4a32_11e9_92ab_d8cb8ac57ff3row4_col0\" class=\"data row4 col0\" >262.88</td>\n",
       "                        <td id=\"T_82a5ab4c_4a32_11e9_92ab_d8cb8ac57ff3row4_col1\" class=\"data row4 col1\" >138.742</td>\n",
       "                        <td id=\"T_82a5ab4c_4a32_11e9_92ab_d8cb8ac57ff3row4_col2\" class=\"data row4 col2\" >802.607</td>\n",
       "                        <td id=\"T_82a5ab4c_4a32_11e9_92ab_d8cb8ac57ff3row4_col3\" class=\"data row4 col3\" >31.2873</td>\n",
       "                        <td id=\"T_82a5ab4c_4a32_11e9_92ab_d8cb8ac57ff3row4_col4\" class=\"data row4 col4\" >442.119</td>\n",
       "                        <td id=\"T_82a5ab4c_4a32_11e9_92ab_d8cb8ac57ff3row4_col5\" class=\"data row4 col5\" >508.995</td>\n",
       "                        <td id=\"T_82a5ab4c_4a32_11e9_92ab_d8cb8ac57ff3row4_col6\" class=\"data row4 col6\" >497.834</td>\n",
       "                        <td id=\"T_82a5ab4c_4a32_11e9_92ab_d8cb8ac57ff3row4_col7\" class=\"data row4 col7\" >472.59</td>\n",
       "                        <td id=\"T_82a5ab4c_4a32_11e9_92ab_d8cb8ac57ff3row4_col8\" class=\"data row4 col8\" >510.95</td>\n",
       "            </tr>\n",
       "            <tr>\n",
       "                        <th id=\"T_82a5ab4c_4a32_11e9_92ab_d8cb8ac57ff3level0_row5\" class=\"row_heading level0 row5\" >50%</th>\n",
       "                        <td id=\"T_82a5ab4c_4a32_11e9_92ab_d8cb8ac57ff3row5_col0\" class=\"data row5 col0\" >469.039</td>\n",
       "                        <td id=\"T_82a5ab4c_4a32_11e9_92ab_d8cb8ac57ff3row5_col1\" class=\"data row5 col1\" >315.365</td>\n",
       "                        <td id=\"T_82a5ab4c_4a32_11e9_92ab_d8cb8ac57ff3row5_col2\" class=\"data row5 col2\" >878.992</td>\n",
       "                        <td id=\"T_82a5ab4c_4a32_11e9_92ab_d8cb8ac57ff3row5_col3\" class=\"data row5 col3\" >45.8307</td>\n",
       "                        <td id=\"T_82a5ab4c_4a32_11e9_92ab_d8cb8ac57ff3row5_col4\" class=\"data row5 col4\" >677.998</td>\n",
       "                        <td id=\"T_82a5ab4c_4a32_11e9_92ab_d8cb8ac57ff3row5_col5\" class=\"data row5 col5\" >725.391</td>\n",
       "                        <td id=\"T_82a5ab4c_4a32_11e9_92ab_d8cb8ac57ff3row5_col6\" class=\"data row5 col6\" >739.376</td>\n",
       "                        <td id=\"T_82a5ab4c_4a32_11e9_92ab_d8cb8ac57ff3row5_col7\" class=\"data row5 col7\" >652.728</td>\n",
       "                        <td id=\"T_82a5ab4c_4a32_11e9_92ab_d8cb8ac57ff3row5_col8\" class=\"data row5 col8\" >727.414</td>\n",
       "            </tr>\n",
       "            <tr>\n",
       "                        <th id=\"T_82a5ab4c_4a32_11e9_92ab_d8cb8ac57ff3level0_row6\" class=\"row_heading level0 row6\" >75%</th>\n",
       "                        <td id=\"T_82a5ab4c_4a32_11e9_92ab_d8cb8ac57ff3row6_col0\" class=\"data row6 col0\" >790.074</td>\n",
       "                        <td id=\"T_82a5ab4c_4a32_11e9_92ab_d8cb8ac57ff3row6_col1\" class=\"data row6 col1\" >734.666</td>\n",
       "                        <td id=\"T_82a5ab4c_4a32_11e9_92ab_d8cb8ac57ff3row6_col2\" class=\"data row6 col2\" >931.047</td>\n",
       "                        <td id=\"T_82a5ab4c_4a32_11e9_92ab_d8cb8ac57ff3row6_col3\" class=\"data row6 col3\" >61.7907</td>\n",
       "                        <td id=\"T_82a5ab4c_4a32_11e9_92ab_d8cb8ac57ff3row6_col4\" class=\"data row6 col4\" >844.882</td>\n",
       "                        <td id=\"T_82a5ab4c_4a32_11e9_92ab_d8cb8ac57ff3row6_col5\" class=\"data row6 col5\" >904.928</td>\n",
       "                        <td id=\"T_82a5ab4c_4a32_11e9_92ab_d8cb8ac57ff3row6_col6\" class=\"data row6 col6\" >924.851</td>\n",
       "                        <td id=\"T_82a5ab4c_4a32_11e9_92ab_d8cb8ac57ff3row6_col7\" class=\"data row6 col7\" >801.916</td>\n",
       "                        <td id=\"T_82a5ab4c_4a32_11e9_92ab_d8cb8ac57ff3row6_col8\" class=\"data row6 col8\" >906.982</td>\n",
       "            </tr>\n",
       "            <tr>\n",
       "                        <th id=\"T_82a5ab4c_4a32_11e9_92ab_d8cb8ac57ff3level0_row7\" class=\"row_heading level0 row7\" >max</th>\n",
       "                        <td id=\"T_82a5ab4c_4a32_11e9_92ab_d8cb8ac57ff3row7_col0\" class=\"data row7 col0\" >1700.35</td>\n",
       "                        <td id=\"T_82a5ab4c_4a32_11e9_92ab_d8cb8ac57ff3row7_col1\" class=\"data row7 col1\" >1587.02</td>\n",
       "                        <td id=\"T_82a5ab4c_4a32_11e9_92ab_d8cb8ac57ff3row7_col2\" class=\"data row7 col2\" >1022.68</td>\n",
       "                        <td id=\"T_82a5ab4c_4a32_11e9_92ab_d8cb8ac57ff3row7_col3\" class=\"data row7 col3\" >89.8983</td>\n",
       "                        <td id=\"T_82a5ab4c_4a32_11e9_92ab_d8cb8ac57ff3row7_col4\" class=\"data row7 col4\" >976.033</td>\n",
       "                        <td id=\"T_82a5ab4c_4a32_11e9_92ab_d8cb8ac57ff3row7_col5\" class=\"data row7 col5\" >1035.09</td>\n",
       "                        <td id=\"T_82a5ab4c_4a32_11e9_92ab_d8cb8ac57ff3row7_col6\" class=\"data row7 col6\" >1061.95</td>\n",
       "                        <td id=\"T_82a5ab4c_4a32_11e9_92ab_d8cb8ac57ff3row7_col7\" class=\"data row7 col7\" >909.999</td>\n",
       "                        <td id=\"T_82a5ab4c_4a32_11e9_92ab_d8cb8ac57ff3row7_col8\" class=\"data row7 col8\" >1037.16</td>\n",
       "            </tr>\n",
       "    </tbody></table>"
      ],
      "text/plain": [
       "<pandas.io.formats.style.Styler at 0x7ff5e4b66eb8>"
      ]
     },
     "execution_count": 9,
     "metadata": {},
     "output_type": "execute_result"
    }
   ],
   "source": [
    "df1.describe().style"
   ]
  },
  {
   "cell_type": "markdown",
   "metadata": {},
   "source": [
    "Statistics for the different clearsky models:\n",
    "  * **Pysolar**: model from `pysolar` library\n",
    "  * **Ineichen**: `pvlib`'s Ineichen model\n",
    "  * **Haurwitz**: `pvlib`'s Haurwitz model\n",
    "  * **Solis**: `pvlibs`'s simplified Solis model\n",
    "  * **Haurwitz_UCM**: Haurwitz model computed using formula taken from UCM code\n",
    "  * **Kasten_UCM**: Kasten model computed using formula taken from UCM code\n",
    "\n",
    "We compute the main descriptive statistics plus the number of times the GHI is greater than the clearsky model. We also check if the clearsky model returns a GHI of 0 when the sensor has a value greater than 0 (`#CS=0`)"
   ]
  },
  {
   "cell_type": "code",
   "execution_count": 10,
   "metadata": {},
   "outputs": [
    {
     "data": {
      "text/html": [
       "<style  type=\"text/css\" >\n",
       "</style><table id=\"T_8563a5e6_4a32_11e9_92ab_d8cb8ac57ff3\" ><thead>    <tr>        <th class=\"blank level0\" ></th>        <th class=\"col_heading level0 col0\" >Pysolar</th>        <th class=\"col_heading level0 col1\" >Ineichen</th>        <th class=\"col_heading level0 col2\" >Haurwitz</th>        <th class=\"col_heading level0 col3\" >Solis</th>        <th class=\"col_heading level0 col4\" >Haurwitz_UCM</th>        <th class=\"col_heading level0 col5\" >Kasten_UCM</th>    </tr></thead><tbody>\n",
       "                <tr>\n",
       "                        <th id=\"T_8563a5e6_4a32_11e9_92ab_d8cb8ac57ff3level0_row0\" class=\"row_heading level0 row0\" >count</th>\n",
       "                        <td id=\"T_8563a5e6_4a32_11e9_92ab_d8cb8ac57ff3row0_col0\" class=\"data row0 col0\" >6.04158e+06</td>\n",
       "                        <td id=\"T_8563a5e6_4a32_11e9_92ab_d8cb8ac57ff3row0_col1\" class=\"data row0 col1\" >6.04158e+06</td>\n",
       "                        <td id=\"T_8563a5e6_4a32_11e9_92ab_d8cb8ac57ff3row0_col2\" class=\"data row0 col2\" >6.04158e+06</td>\n",
       "                        <td id=\"T_8563a5e6_4a32_11e9_92ab_d8cb8ac57ff3row0_col3\" class=\"data row0 col3\" >6.04158e+06</td>\n",
       "                        <td id=\"T_8563a5e6_4a32_11e9_92ab_d8cb8ac57ff3row0_col4\" class=\"data row0 col4\" >6.04158e+06</td>\n",
       "                        <td id=\"T_8563a5e6_4a32_11e9_92ab_d8cb8ac57ff3row0_col5\" class=\"data row0 col5\" >6.04158e+06</td>\n",
       "            </tr>\n",
       "            <tr>\n",
       "                        <th id=\"T_8563a5e6_4a32_11e9_92ab_d8cb8ac57ff3level0_row1\" class=\"row_heading level0 row1\" >mean</th>\n",
       "                        <td id=\"T_8563a5e6_4a32_11e9_92ab_d8cb8ac57ff3row1_col0\" class=\"data row1 col0\" >0.609836</td>\n",
       "                        <td id=\"T_8563a5e6_4a32_11e9_92ab_d8cb8ac57ff3row1_col1\" class=\"data row1 col1\" >0.872554</td>\n",
       "                        <td id=\"T_8563a5e6_4a32_11e9_92ab_d8cb8ac57ff3row1_col2\" class=\"data row1 col2\" >0.771898</td>\n",
       "                        <td id=\"T_8563a5e6_4a32_11e9_92ab_d8cb8ac57ff3row1_col3\" class=\"data row1 col3\" >0.772333</td>\n",
       "                        <td id=\"T_8563a5e6_4a32_11e9_92ab_d8cb8ac57ff3row1_col4\" class=\"data row1 col4\" >0.769217</td>\n",
       "                        <td id=\"T_8563a5e6_4a32_11e9_92ab_d8cb8ac57ff3row1_col5\" class=\"data row1 col5\" >0.841759</td>\n",
       "            </tr>\n",
       "            <tr>\n",
       "                        <th id=\"T_8563a5e6_4a32_11e9_92ab_d8cb8ac57ff3level0_row2\" class=\"row_heading level0 row2\" >std</th>\n",
       "                        <td id=\"T_8563a5e6_4a32_11e9_92ab_d8cb8ac57ff3row2_col0\" class=\"data row2 col0\" >0.339151</td>\n",
       "                        <td id=\"T_8563a5e6_4a32_11e9_92ab_d8cb8ac57ff3row2_col1\" class=\"data row2 col1\" >0.403347</td>\n",
       "                        <td id=\"T_8563a5e6_4a32_11e9_92ab_d8cb8ac57ff3row2_col2\" class=\"data row2 col2\" >0.34579</td>\n",
       "                        <td id=\"T_8563a5e6_4a32_11e9_92ab_d8cb8ac57ff3row2_col3\" class=\"data row2 col3\" >0.345167</td>\n",
       "                        <td id=\"T_8563a5e6_4a32_11e9_92ab_d8cb8ac57ff3row2_col4\" class=\"data row2 col4\" >0.344605</td>\n",
       "                        <td id=\"T_8563a5e6_4a32_11e9_92ab_d8cb8ac57ff3row2_col5\" class=\"data row2 col5\" >0.381679</td>\n",
       "            </tr>\n",
       "            <tr>\n",
       "                        <th id=\"T_8563a5e6_4a32_11e9_92ab_d8cb8ac57ff3level0_row3\" class=\"row_heading level0 row3\" >min</th>\n",
       "                        <td id=\"T_8563a5e6_4a32_11e9_92ab_d8cb8ac57ff3row3_col0\" class=\"data row3 col0\" >0</td>\n",
       "                        <td id=\"T_8563a5e6_4a32_11e9_92ab_d8cb8ac57ff3row3_col1\" class=\"data row3 col1\" >0</td>\n",
       "                        <td id=\"T_8563a5e6_4a32_11e9_92ab_d8cb8ac57ff3row3_col2\" class=\"data row3 col2\" >0</td>\n",
       "                        <td id=\"T_8563a5e6_4a32_11e9_92ab_d8cb8ac57ff3row3_col3\" class=\"data row3 col3\" >0</td>\n",
       "                        <td id=\"T_8563a5e6_4a32_11e9_92ab_d8cb8ac57ff3row3_col4\" class=\"data row3 col4\" >0</td>\n",
       "                        <td id=\"T_8563a5e6_4a32_11e9_92ab_d8cb8ac57ff3row3_col5\" class=\"data row3 col5\" >0</td>\n",
       "            </tr>\n",
       "            <tr>\n",
       "                        <th id=\"T_8563a5e6_4a32_11e9_92ab_d8cb8ac57ff3level0_row4\" class=\"row_heading level0 row4\" >25%</th>\n",
       "                        <td id=\"T_8563a5e6_4a32_11e9_92ab_d8cb8ac57ff3row4_col0\" class=\"data row4 col0\" >0.318779</td>\n",
       "                        <td id=\"T_8563a5e6_4a32_11e9_92ab_d8cb8ac57ff3row4_col1\" class=\"data row4 col1\" >0.478783</td>\n",
       "                        <td id=\"T_8563a5e6_4a32_11e9_92ab_d8cb8ac57ff3row4_col2\" class=\"data row4 col2\" >0.425978</td>\n",
       "                        <td id=\"T_8563a5e6_4a32_11e9_92ab_d8cb8ac57ff3row4_col3\" class=\"data row4 col3\" >0.426563</td>\n",
       "                        <td id=\"T_8563a5e6_4a32_11e9_92ab_d8cb8ac57ff3row4_col4\" class=\"data row4 col4\" >0.4245</td>\n",
       "                        <td id=\"T_8563a5e6_4a32_11e9_92ab_d8cb8ac57ff3row4_col5\" class=\"data row4 col5\" >0.463732</td>\n",
       "            </tr>\n",
       "            <tr>\n",
       "                        <th id=\"T_8563a5e6_4a32_11e9_92ab_d8cb8ac57ff3level0_row5\" class=\"row_heading level0 row5\" >50%</th>\n",
       "                        <td id=\"T_8563a5e6_4a32_11e9_92ab_d8cb8ac57ff3row5_col0\" class=\"data row5 col0\" >0.561595</td>\n",
       "                        <td id=\"T_8563a5e6_4a32_11e9_92ab_d8cb8ac57ff3row5_col1\" class=\"data row5 col1\" >1.05537</td>\n",
       "                        <td id=\"T_8563a5e6_4a32_11e9_92ab_d8cb8ac57ff3row5_col2\" class=\"data row5 col2\" >0.933943</td>\n",
       "                        <td id=\"T_8563a5e6_4a32_11e9_92ab_d8cb8ac57ff3row5_col3\" class=\"data row5 col3\" >0.95859</td>\n",
       "                        <td id=\"T_8563a5e6_4a32_11e9_92ab_d8cb8ac57ff3row5_col4\" class=\"data row5 col4\" >0.929595</td>\n",
       "                        <td id=\"T_8563a5e6_4a32_11e9_92ab_d8cb8ac57ff3row5_col5\" class=\"data row5 col5\" >0.968941</td>\n",
       "            </tr>\n",
       "            <tr>\n",
       "                        <th id=\"T_8563a5e6_4a32_11e9_92ab_d8cb8ac57ff3level0_row6\" class=\"row_heading level0 row6\" >75%</th>\n",
       "                        <td id=\"T_8563a5e6_4a32_11e9_92ab_d8cb8ac57ff3row6_col0\" class=\"data row6 col0\" >0.868854</td>\n",
       "                        <td id=\"T_8563a5e6_4a32_11e9_92ab_d8cb8ac57ff3row6_col1\" class=\"data row6 col1\" >1.17201</td>\n",
       "                        <td id=\"T_8563a5e6_4a32_11e9_92ab_d8cb8ac57ff3row6_col2\" class=\"data row6 col2\" >1.04484</td>\n",
       "                        <td id=\"T_8563a5e6_4a32_11e9_92ab_d8cb8ac57ff3row6_col3\" class=\"data row6 col3\" >1.03738</td>\n",
       "                        <td id=\"T_8563a5e6_4a32_11e9_92ab_d8cb8ac57ff3row6_col4\" class=\"data row6 col4\" >1.0416</td>\n",
       "                        <td id=\"T_8563a5e6_4a32_11e9_92ab_d8cb8ac57ff3row6_col5\" class=\"data row6 col5\" >1.15798</td>\n",
       "            </tr>\n",
       "            <tr>\n",
       "                        <th id=\"T_8563a5e6_4a32_11e9_92ab_d8cb8ac57ff3level0_row7\" class=\"row_heading level0 row7\" >max</th>\n",
       "                        <td id=\"T_8563a5e6_4a32_11e9_92ab_d8cb8ac57ff3row7_col0\" class=\"data row7 col0\" >3.16413</td>\n",
       "                        <td id=\"T_8563a5e6_4a32_11e9_92ab_d8cb8ac57ff3row7_col1\" class=\"data row7 col1\" >29.1443</td>\n",
       "                        <td id=\"T_8563a5e6_4a32_11e9_92ab_d8cb8ac57ff3row7_col2\" class=\"data row7 col2\" >12.4256</td>\n",
       "                        <td id=\"T_8563a5e6_4a32_11e9_92ab_d8cb8ac57ff3row7_col3\" class=\"data row7 col3\" >12.4105</td>\n",
       "                        <td id=\"T_8563a5e6_4a32_11e9_92ab_d8cb8ac57ff3row7_col4\" class=\"data row7 col4\" >12.1471</td>\n",
       "                        <td id=\"T_8563a5e6_4a32_11e9_92ab_d8cb8ac57ff3row7_col5\" class=\"data row7 col5\" >7.92473</td>\n",
       "            </tr>\n",
       "            <tr>\n",
       "                        <th id=\"T_8563a5e6_4a32_11e9_92ab_d8cb8ac57ff3level0_row8\" class=\"row_heading level0 row8\" >90%</th>\n",
       "                        <td id=\"T_8563a5e6_4a32_11e9_92ab_d8cb8ac57ff3row8_col0\" class=\"data row8 col0\" >1.10763</td>\n",
       "                        <td id=\"T_8563a5e6_4a32_11e9_92ab_d8cb8ac57ff3row8_col1\" class=\"data row8 col1\" >1.28658</td>\n",
       "                        <td id=\"T_8563a5e6_4a32_11e9_92ab_d8cb8ac57ff3row8_col2\" class=\"data row8 col2\" >1.14367</td>\n",
       "                        <td id=\"T_8563a5e6_4a32_11e9_92ab_d8cb8ac57ff3row8_col3\" class=\"data row8 col3\" >1.1355</td>\n",
       "                        <td id=\"T_8563a5e6_4a32_11e9_92ab_d8cb8ac57ff3row8_col4\" class=\"data row8 col4\" >1.14023</td>\n",
       "                        <td id=\"T_8563a5e6_4a32_11e9_92ab_d8cb8ac57ff3row8_col5\" class=\"data row8 col5\" >1.27142</td>\n",
       "            </tr>\n",
       "            <tr>\n",
       "                        <th id=\"T_8563a5e6_4a32_11e9_92ab_d8cb8ac57ff3level0_row9\" class=\"row_heading level0 row9\" >99%</th>\n",
       "                        <td id=\"T_8563a5e6_4a32_11e9_92ab_d8cb8ac57ff3row9_col0\" class=\"data row9 col0\" >1.36761</td>\n",
       "                        <td id=\"T_8563a5e6_4a32_11e9_92ab_d8cb8ac57ff3row9_col1\" class=\"data row9 col1\" >1.63198</td>\n",
       "                        <td id=\"T_8563a5e6_4a32_11e9_92ab_d8cb8ac57ff3row9_col2\" class=\"data row9 col2\" >1.34406</td>\n",
       "                        <td id=\"T_8563a5e6_4a32_11e9_92ab_d8cb8ac57ff3row9_col3\" class=\"data row9 col3\" >1.34148</td>\n",
       "                        <td id=\"T_8563a5e6_4a32_11e9_92ab_d8cb8ac57ff3row9_col4\" class=\"data row9 col4\" >1.33956</td>\n",
       "                        <td id=\"T_8563a5e6_4a32_11e9_92ab_d8cb8ac57ff3row9_col5\" class=\"data row9 col5\" >1.48835</td>\n",
       "            </tr>\n",
       "            <tr>\n",
       "                        <th id=\"T_8563a5e6_4a32_11e9_92ab_d8cb8ac57ff3level0_row10\" class=\"row_heading level0 row10\" >#>1</th>\n",
       "                        <td id=\"T_8563a5e6_4a32_11e9_92ab_d8cb8ac57ff3row10_col0\" class=\"data row10 col0\" >1.00042e+06</td>\n",
       "                        <td id=\"T_8563a5e6_4a32_11e9_92ab_d8cb8ac57ff3row10_col1\" class=\"data row10 col1\" >3.23175e+06</td>\n",
       "                        <td id=\"T_8563a5e6_4a32_11e9_92ab_d8cb8ac57ff3row10_col2\" class=\"data row10 col2\" >2.22801e+06</td>\n",
       "                        <td id=\"T_8563a5e6_4a32_11e9_92ab_d8cb8ac57ff3row10_col3\" class=\"data row10 col3\" >2.30818e+06</td>\n",
       "                        <td id=\"T_8563a5e6_4a32_11e9_92ab_d8cb8ac57ff3row10_col4\" class=\"data row10 col4\" >2.17252e+06</td>\n",
       "                        <td id=\"T_8563a5e6_4a32_11e9_92ab_d8cb8ac57ff3row10_col5\" class=\"data row10 col5\" >2.85379e+06</td>\n",
       "            </tr>\n",
       "            <tr>\n",
       "                        <th id=\"T_8563a5e6_4a32_11e9_92ab_d8cb8ac57ff3level0_row11\" class=\"row_heading level0 row11\" >%>1</th>\n",
       "                        <td id=\"T_8563a5e6_4a32_11e9_92ab_d8cb8ac57ff3row11_col0\" class=\"data row11 col0\" >0.165589</td>\n",
       "                        <td id=\"T_8563a5e6_4a32_11e9_92ab_d8cb8ac57ff3row11_col1\" class=\"data row11 col1\" >0.534918</td>\n",
       "                        <td id=\"T_8563a5e6_4a32_11e9_92ab_d8cb8ac57ff3row11_col2\" class=\"data row11 col2\" >0.36878</td>\n",
       "                        <td id=\"T_8563a5e6_4a32_11e9_92ab_d8cb8ac57ff3row11_col3\" class=\"data row11 col3\" >0.38205</td>\n",
       "                        <td id=\"T_8563a5e6_4a32_11e9_92ab_d8cb8ac57ff3row11_col4\" class=\"data row11 col4\" >0.359595</td>\n",
       "                        <td id=\"T_8563a5e6_4a32_11e9_92ab_d8cb8ac57ff3row11_col5\" class=\"data row11 col5\" >0.472358</td>\n",
       "            </tr>\n",
       "            <tr>\n",
       "                        <th id=\"T_8563a5e6_4a32_11e9_92ab_d8cb8ac57ff3level0_row12\" class=\"row_heading level0 row12\" >#CS=0</th>\n",
       "                        <td id=\"T_8563a5e6_4a32_11e9_92ab_d8cb8ac57ff3row12_col0\" class=\"data row12 col0\" >0</td>\n",
       "                        <td id=\"T_8563a5e6_4a32_11e9_92ab_d8cb8ac57ff3row12_col1\" class=\"data row12 col1\" >0</td>\n",
       "                        <td id=\"T_8563a5e6_4a32_11e9_92ab_d8cb8ac57ff3row12_col2\" class=\"data row12 col2\" >0</td>\n",
       "                        <td id=\"T_8563a5e6_4a32_11e9_92ab_d8cb8ac57ff3row12_col3\" class=\"data row12 col3\" >0</td>\n",
       "                        <td id=\"T_8563a5e6_4a32_11e9_92ab_d8cb8ac57ff3row12_col4\" class=\"data row12 col4\" >0</td>\n",
       "                        <td id=\"T_8563a5e6_4a32_11e9_92ab_d8cb8ac57ff3row12_col5\" class=\"data row12 col5\" >0</td>\n",
       "            </tr>\n",
       "    </tbody></table>"
      ],
      "text/plain": [
       "<pandas.io.formats.style.Styler at 0x7ff5d94b3b70>"
      ]
     },
     "execution_count": 10,
     "metadata": {},
     "output_type": "execute_result"
    }
   ],
   "source": [
    "res = []\n",
    "for clearsky in ('Pysolar', 'Ineichen', 'Haurwitz', 'Solis', 'Haurwitz_UCM', 'Kasten_UCM'):   \n",
    "    name = 'GHI_{}'.format(clearsky)\n",
    "    cs = df1.loc[~np.isclose(df1['GHI'], 0) &  np.isclose(df1[clearsky], 0), ['GHI', clearsky]]\n",
    "    \n",
    "    df1[name] = np.where(np.isclose(df1[clearsky], 0), 1, df1['GHI']/df1[clearsky])\n",
    "    \n",
    "    summ = df1[name].describe()\n",
    "    q90, q99 = df1[name].quantile(q=[0.9, 0.99])\n",
    "    per_gt_1, num_gt_1 = df1[name].gt(1).agg([np.mean, np.sum])\n",
    "    \n",
    "    summ['90%'] = q90\n",
    "    summ['99%'] = q99\n",
    "    summ['#>1'] = num_gt_1\n",
    "    summ['%>1'] = per_gt_1\n",
    "    summ['#CS=0'] = cs.shape[0]\n",
    "    summ.name = clearsky\n",
    "    res.append(summ)\n",
    "\n",
    "pd.concat(res, axis=1, sort=False).style"
   ]
  },
  {
   "cell_type": "markdown",
   "metadata": {},
   "source": [
    "For the `detect_clearsky()` function we need to do it per station and day (it does not support unequal differences in index)"
   ]
  },
  {
   "cell_type": "code",
   "execution_count": 11,
   "metadata": {
    "scrolled": false
   },
   "outputs": [
    {
     "name": "stderr",
     "output_type": "stream",
     "text": [
      "/home/atorres/.local/lib/python3.6/site-packages/numpy/lib/function_base.py:1238: FutureWarning: Converting timezone-aware DatetimeArray to timezone-naive ndarray with 'datetime64[ns]' dtype. In the future, this will return an ndarray with 'object' dtype where each element is a 'pandas.Timestamp' with the correct 'tz'.\n",
      "\tTo accept the future behavior, pass 'dtype=object'.\n",
      "\tTo keep the old behavior, pass 'dtype=\"datetime64[ns]\"'.\n",
      "  a = asanyarray(a)\n"
     ]
    },
    {
     "name": "stdout",
     "output_type": "stream",
     "text": [
      "Elapsed time (s): 30.057247\n"
     ]
    }
   ],
   "source": [
    "with timer():\n",
    "    cs = pvlib.clearsky.detect_clearsky(df1.loc[('2010-03-20', 'AP1'), 'GHI'], \n",
    "                                        df1.loc[('2010-03-20', 'AP1'), 'Pysolar'], \n",
    "                                        df1.loc[('2010-03-20', 'AP1'), 'GHI'].index.get_level_values('Datetime'), \n",
    "                                        10)"
   ]
  },
  {
   "cell_type": "code",
   "execution_count": 12,
   "metadata": {},
   "outputs": [
    {
     "data": {
      "text/html": [
       "<div>\n",
       "<style scoped>\n",
       "    .dataframe tbody tr th:only-of-type {\n",
       "        vertical-align: middle;\n",
       "    }\n",
       "\n",
       "    .dataframe tbody tr th {\n",
       "        vertical-align: top;\n",
       "    }\n",
       "\n",
       "    .dataframe thead th {\n",
       "        text-align: right;\n",
       "    }\n",
       "</style>\n",
       "<table border=\"1\" class=\"dataframe\">\n",
       "  <thead>\n",
       "    <tr style=\"text-align: right;\">\n",
       "      <th></th>\n",
       "      <th>Radiation</th>\n",
       "      <th>GHI</th>\n",
       "      <th>Pysolar</th>\n",
       "    </tr>\n",
       "    <tr>\n",
       "      <th>Datetime</th>\n",
       "      <th>Location</th>\n",
       "      <th></th>\n",
       "      <th></th>\n",
       "    </tr>\n",
       "  </thead>\n",
       "  <tbody>\n",
       "    <tr>\n",
       "      <th>2010-03-20 14:09:00-10:00</th>\n",
       "      <th>AP1</th>\n",
       "      <td>936.701</td>\n",
       "      <td>974.431505</td>\n",
       "    </tr>\n",
       "    <tr>\n",
       "      <th>2010-03-20 14:10:00-10:00</th>\n",
       "      <th>AP1</th>\n",
       "      <td>934.499</td>\n",
       "      <td>974.101735</td>\n",
       "    </tr>\n",
       "    <tr>\n",
       "      <th>2010-03-20 14:11:00-10:00</th>\n",
       "      <th>AP1</th>\n",
       "      <td>931.564</td>\n",
       "      <td>973.767387</td>\n",
       "    </tr>\n",
       "    <tr>\n",
       "      <th>2010-03-20 14:12:00-10:00</th>\n",
       "      <th>AP1</th>\n",
       "      <td>933.399</td>\n",
       "      <td>973.428427</td>\n",
       "    </tr>\n",
       "    <tr>\n",
       "      <th>2010-03-20 14:13:00-10:00</th>\n",
       "      <th>AP1</th>\n",
       "      <td>934.866</td>\n",
       "      <td>973.084823</td>\n",
       "    </tr>\n",
       "  </tbody>\n",
       "</table>\n",
       "</div>"
      ],
      "text/plain": [
       "Radiation                               GHI     Pysolar\n",
       "Datetime                  Location                     \n",
       "2010-03-20 14:09:00-10:00 AP1       936.701  974.431505\n",
       "2010-03-20 14:10:00-10:00 AP1       934.499  974.101735\n",
       "2010-03-20 14:11:00-10:00 AP1       931.564  973.767387\n",
       "2010-03-20 14:12:00-10:00 AP1       933.399  973.428427\n",
       "2010-03-20 14:13:00-10:00 AP1       934.866  973.084823"
      ]
     },
     "execution_count": 12,
     "metadata": {},
     "output_type": "execute_result"
    }
   ],
   "source": [
    "df1.loc[('2010-03-20', 'AP1'), ['GHI', 'Pysolar']].loc[cs.to_numpy()].head()"
   ]
  },
  {
   "cell_type": "markdown",
   "metadata": {},
   "source": [
    "For this day and station, the function detects that the model is overestimating the irradiance and thus the clearsky model should probably be set to the maximum?"
   ]
  },
  {
   "cell_type": "markdown",
   "metadata": {},
   "source": [
    "Finally, we go back to wide form, with one column per sensor, using the GHI normalized by the pysolar clearsky model:"
   ]
  },
  {
   "cell_type": "code",
   "execution_count": 16,
   "metadata": {
    "scrolled": false
   },
   "outputs": [],
   "source": [
    "(df1.pivot_table(index='Datetime', columns='Location', values='GHI_Pysolar')\n",
    "    .drop(columns='AP3')\n",
    "    .to_pickle(DATA_PATH + 'oahu_min_final.pkl'))"
   ]
  }
 ],
 "metadata": {
  "kernelspec": {
   "display_name": "Python 3",
   "language": "python",
   "name": "python3"
  },
  "language_info": {
   "codemirror_mode": {
    "name": "ipython",
    "version": 3
   },
   "file_extension": ".py",
   "mimetype": "text/x-python",
   "name": "python",
   "nbconvert_exporter": "python",
   "pygments_lexer": "ipython3",
   "version": "3.6.8"
  }
 },
 "nbformat": 4,
 "nbformat_minor": 2
}
