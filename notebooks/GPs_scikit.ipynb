{
 "cells": [
  {
   "cell_type": "markdown",
   "metadata": {},
   "source": [
    "## Radiation map\n",
    "\n",
    "We would like a model to have as inputs the irradiance of the sensors and as outputs the irradiance on a rectangular grid. Let us split the sensors in two groups: inner sensors and outer sensors. Given an initial set, would it be possible to decide the location of new outer sensors to maximize the predicibility of the inner sensors (based on irradiance data)?"
   ]
  },
  {
   "cell_type": "code",
   "execution_count": 1,
   "metadata": {
    "collapsed": true
   },
   "outputs": [],
   "source": [
    "import pandas as pd\n",
    "import numpy as np\n",
    "import matplotlib.pyplot as plt\n",
    "import seaborn as sns\n",
    "import math\n",
    "from sklearn.gaussian_process import GaussianProcessRegressor\n",
    "from sklearn.gaussian_process.kernels import RBF\n",
    "\n",
    "%matplotlib inline"
   ]
  },
  {
   "cell_type": "code",
   "execution_count": 2,
   "metadata": {
    "collapsed": true
   },
   "outputs": [],
   "source": [
    "DATA_PATH = '/home/SHARED/SOLAR/data/'"
   ]
  },
  {
   "cell_type": "code",
   "execution_count": 3,
   "metadata": {},
   "outputs": [],
   "source": [
    "# read minute data and location info\n",
    "df   = pd.read_pickle(DATA_PATH + 'oahu_min_final.pkl')\n",
    "info = pd.read_pickle(DATA_PATH + 'info.pkl')"
   ]
  },
  {
   "cell_type": "code",
   "execution_count": 4,
   "metadata": {
    "scrolled": true
   },
   "outputs": [],
   "source": [
    "df_long = (df.stack()\n",
    "             .reset_index('Datetime')\n",
    "             .join(info[['Longitude', 'Latitude']])\n",
    "             .rename(columns={0: 'GHI'})\n",
    "             .dropna())"
   ]
  },
  {
   "cell_type": "code",
   "execution_count": 5,
   "metadata": {
    "collapsed": true
   },
   "outputs": [],
   "source": [
    "def get_grid(lonlat, decimals=3):\n",
    "    \n",
    "    prec = 10**decimals\n",
    "    max_min = lonlat.agg([np.max, np.min])\n",
    "\n",
    "    lat = np.arange(int(math.floor(max_min.loc['amin',  'Latitude']*prec)), \n",
    "                    int(math.ceil( max_min.loc['amax',  'Latitude']*prec))+1)/prec\n",
    "\n",
    "    lon = np.arange(int(math.floor(max_min.loc['amin', 'Longitude']*prec)), \n",
    "                    int(math.ceil( max_min.loc['amax', 'Longitude']*prec))+1)/prec\n",
    "\n",
    "    xx, yy = np.meshgrid(lon, lat)\n",
    "    return pd.DataFrame({'lon': xx.ravel(), 'lat': yy.ravel()})"
   ]
  },
  {
   "cell_type": "code",
   "execution_count": 6,
   "metadata": {
    "scrolled": false
   },
   "outputs": [],
   "source": [
    "df_dict = {}\n",
    "for datetime, df in df_long.groupby('Datetime'):\n",
    "    X_train = df[['Longitude', 'Latitude']]\n",
    "    y_train = df['GHI']\n",
    "    \n",
    "    X_test = get_grid(df[['Longitude', 'Latitude']])\n",
    "    \n",
    "    gpr = GaussianProcessRegressor(kernel=RBF(10, (1e-3, 1e-3)), n_restarts_optimizer=10)\n",
    "    gpr.fit(X_train, y_train)\n",
    "    #X_test['mean'], X_test['std'] = gpr.predict(X_test, return_std=True)\n",
    "    X_test['GHI'] = gpr.predict(X_test)\n",
    "    df_dict[datetime] = X_test.set_index(['lon', 'lat'])\n",
    "    break"
   ]
  },
  {
   "cell_type": "code",
   "execution_count": 7,
   "metadata": {
    "collapsed": true,
    "scrolled": false
   },
   "outputs": [],
   "source": [
    "df_final = pd.concat(df_dict).unstack(level=['lon', 'lat']).sort_index(axis=1)"
   ]
  },
  {
   "cell_type": "code",
   "execution_count": 8,
   "metadata": {
    "collapsed": true
   },
   "outputs": [],
   "source": [
    "df_final.columns = df_final.columns.droplevel(0)"
   ]
  },
  {
   "cell_type": "code",
   "execution_count": 9,
   "metadata": {},
   "outputs": [
    {
     "data": {
      "text/plain": [
       "(1, 108)"
      ]
     },
     "execution_count": 9,
     "metadata": {},
     "output_type": "execute_result"
    }
   ],
   "source": [
    "df_final.shape"
   ]
  },
  {
   "cell_type": "code",
   "execution_count": 10,
   "metadata": {},
   "outputs": [],
   "source": [
    "def plot_GP_heat(X_test):\n",
    "    fig, ax = plt.subplots(1, 2, figsize=(15, 5))\n",
    "    df1 = X_test.pivot_table(values='mean', columns='lon', index='lat')\n",
    "    sns.heatmap(data=df1,\n",
    "                xticklabels=df1.columns.values.round(3),\n",
    "                yticklabels=df1.index.values.round(3),\n",
    "                ax=ax[0])\n",
    "\n",
    "    df2 = X_test.pivot_table(values='std', columns='lon', index='lat')\n",
    "    sns.heatmap(data=df2,\n",
    "                xticklabels=df2.columns.values.round(3),\n",
    "                yticklabels=df2.index.values.round(3),\n",
    "                ax=ax[1]);"
   ]
  },
  {
   "cell_type": "code",
   "execution_count": 11,
   "metadata": {
    "collapsed": true
   },
   "outputs": [],
   "source": [
    "def plot_GP_scatter(X_test):\n",
    "    fig, ax = plt.subplots()\n",
    "    ax.scatter(X_test['lon'], X_test['lat'], c=X_test['std'], s=300)\n",
    "    ax.scatter(X_train['Longitude'], X_train['Latitude'], c='black')\n",
    "    ax.set_xlim((X_test['lon'].min()-1e-3, X_test['lon'].max()+1e-3))\n",
    "    ax.set_ylim((X_test['lat'].min()-1e-3, X_test['lat'].max()+1e-3));"
   ]
  },
  {
   "cell_type": "code",
   "execution_count": 12,
   "metadata": {
    "collapsed": true
   },
   "outputs": [],
   "source": [
    "#df_final.to_pickle('{}/oahu_GP.pkl'.format(DATA_PATH))"
   ]
  }
 ],
 "metadata": {
  "kernelspec": {
   "display_name": "Python 3",
   "language": "python",
   "name": "python3"
  },
  "language_info": {
   "codemirror_mode": {
    "name": "ipython",
    "version": 3
   },
   "file_extension": ".py",
   "mimetype": "text/x-python",
   "name": "python",
   "nbconvert_exporter": "python",
   "pygments_lexer": "ipython3",
   "version": "3.6.3"
  }
 },
 "nbformat": 4,
 "nbformat_minor": 2
}
