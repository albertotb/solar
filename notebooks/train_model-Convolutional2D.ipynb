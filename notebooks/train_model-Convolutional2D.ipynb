{
 "cells": [
  {
   "cell_type": "markdown",
   "metadata": {},
   "source": [
    "# Build train and test matrices"
   ]
  },
  {
   "cell_type": "code",
   "execution_count": 175,
   "metadata": {
    "ExecuteTime": {
     "end_time": "2019-04-23T15:57:49.982869Z",
     "start_time": "2019-04-23T15:57:49.958065Z"
    }
   },
   "outputs": [],
   "source": [
    "import pandas as pd\n",
    "import numpy as np\n",
    "import feather\n",
    "import pandas_profiling\n",
    "from pandas.plotting import register_matplotlib_converters\n",
    "register_matplotlib_converters()\n",
    "\n",
    "df = (feather.read_dataframe('/home/SHARED/SOLAR/data/oahu_min.feather')\n",
    "             .set_index('Datetime'))"
   ]
  },
  {
   "cell_type": "code",
   "execution_count": 176,
   "metadata": {
    "ExecuteTime": {
     "end_time": "2019-04-23T15:57:51.114665Z",
     "start_time": "2019-04-23T15:57:51.040083Z"
    }
   },
   "outputs": [],
   "source": [
    "# We load the info of the sensors to extract the longitude information\n",
    "info = pd.read_csv('/home/SHARED/SOLAR/data/info.csv')\n",
    "\n",
    "info.Location = info.Location.apply(lambda x: (x[:2] + x[-2:]).replace('_', ''))\n",
    "info.index = info.Location\n",
    "# Sorted longitudes\n",
    "longs = info['Longitude'].sort_values(ascending=False)\n",
    "\n",
    "# We drop two sensors (they are different compared to the other 17, since they are \"tilted\")\n",
    "df.drop('GT_AP6', inplace=True, axis=1)\n",
    "df.drop('GT_DH1', inplace=True, axis=1)\n",
    "\n",
    "# Just some auxiliar code to homogeneize name of sensors across different tables\n",
    "homogen_name = lambda x: x[-4:].replace('_', '')\n",
    "df.columns = [homogen_name(x) for x in df.columns.values.tolist()]\n",
    "\n",
    "# Finally, we sort the data according to sensor's longitude\n",
    "df = df[longs.index]"
   ]
  },
  {
   "cell_type": "code",
   "execution_count": 177,
   "metadata": {
    "ExecuteTime": {
     "end_time": "2019-04-23T15:57:52.860212Z",
     "start_time": "2019-04-23T15:57:52.854025Z"
    }
   },
   "outputs": [],
   "source": [
    "# https://stackoverflow.com/questions/15722324/sliding-window-in-numpy\n",
    "def window_stack_forward(a, stepsize=1, width=3):\n",
    "    return np.hstack( a[i:1+i-width or None:stepsize] for i in range(0, width) )"
   ]
  },
  {
   "cell_type": "code",
   "execution_count": 178,
   "metadata": {
    "ExecuteTime": {
     "end_time": "2019-04-23T15:57:53.167814Z",
     "start_time": "2019-04-23T15:57:53.161434Z"
    }
   },
   "outputs": [],
   "source": [
    "# I feel this function can also be done for pd.DataFrame\n",
    "def window_stack(a, width=3):\n",
    "    n = a.shape[0]\n",
    "    return np.hstack(list(a[(width-1-i):(n-i)] for i in range(0, width)))"
   ]
  },
  {
   "cell_type": "code",
   "execution_count": 179,
   "metadata": {
    "ExecuteTime": {
     "end_time": "2019-04-23T15:57:53.801756Z",
     "start_time": "2019-04-23T15:57:53.577521Z"
    }
   },
   "outputs": [],
   "source": [
    "# In pandas 0.24, use df.to_numpy() instead of df.values. Also care with non-numeric columns\n",
    "width = 61\n",
    "a = window_stack(df.to_numpy(), width=width)"
   ]
  },
  {
   "cell_type": "code",
   "execution_count": 180,
   "metadata": {
    "ExecuteTime": {
     "end_time": "2019-04-23T15:57:54.749803Z",
     "start_time": "2019-04-23T15:57:54.739670Z"
    }
   },
   "outputs": [],
   "source": [
    "times   = [ ('t' if not idx else 't-{:d}'.format(idx)) for idx in range(width) ]\n",
    "columns = pd.MultiIndex.from_product((times, df.columns), names=('time', 'location'))"
   ]
  },
  {
   "cell_type": "code",
   "execution_count": 181,
   "metadata": {
    "ExecuteTime": {
     "end_time": "2019-04-23T15:57:55.589462Z",
     "start_time": "2019-04-23T15:57:55.583448Z"
    }
   },
   "outputs": [],
   "source": [
    "# Convert back to DataFrame, just for convenience of having indexes\n",
    "df_roll = pd.DataFrame(a, index=df.index[width-1:], columns=columns)"
   ]
  },
  {
   "cell_type": "code",
   "execution_count": 182,
   "metadata": {
    "ExecuteTime": {
     "end_time": "2019-04-23T15:57:56.407391Z",
     "start_time": "2019-04-23T15:57:56.403295Z"
    }
   },
   "outputs": [],
   "source": [
    "# pandas_profiling.ProfileReport(df_roll)"
   ]
  },
  {
   "cell_type": "code",
   "execution_count": 183,
   "metadata": {
    "ExecuteTime": {
     "end_time": "2019-04-23T15:57:58.555447Z",
     "start_time": "2019-04-23T15:57:57.433344Z"
    }
   },
   "outputs": [],
   "source": [
    "# Split target (time t) and variables (times t-1 to t-width+1)\n",
    "y = df_roll['t']\n",
    "X = df_roll.drop(columns='t', level='time')"
   ]
  },
  {
   "cell_type": "code",
   "execution_count": 184,
   "metadata": {
    "ExecuteTime": {
     "end_time": "2019-04-23T15:57:58.577754Z",
     "start_time": "2019-04-23T15:57:58.556995Z"
    }
   },
   "outputs": [],
   "source": [
    "# Split train-test, approximately 12 and 4 months respectively\n",
    "X_train, X_test = X[:'2011-07-31'], X['2011-08-01':]\n",
    "y_train, y_test = y[:'2011-07-31'], y['2011-08-01':]"
   ]
  },
  {
   "cell_type": "code",
   "execution_count": 185,
   "metadata": {
    "ExecuteTime": {
     "end_time": "2019-04-23T15:57:59.969482Z",
     "start_time": "2019-04-23T15:57:59.961666Z"
    }
   },
   "outputs": [
    {
     "name": "stdout",
     "output_type": "stream",
     "text": [
      "(449885, 1020)\n",
      "(82892, 1020)\n",
      "(449885, 17)\n",
      "(82892, 17)\n"
     ]
    }
   ],
   "source": [
    "print(X_train.shape)\n",
    "print(X_test.shape)\n",
    "print(y_train.shape)\n",
    "print(y_test.shape)"
   ]
  },
  {
   "cell_type": "markdown",
   "metadata": {
    "heading_collapsed": true
   },
   "source": [
    "# Convolutional predictor\n",
    "\n",
    "First we preprocess the dataset (for the moment, we'll just use as features the t-1 values at each sensor)"
   ]
  },
  {
   "cell_type": "code",
   "execution_count": 15,
   "metadata": {
    "ExecuteTime": {
     "end_time": "2019-04-23T12:43:29.023584Z",
     "start_time": "2019-04-23T12:43:29.019131Z"
    },
    "hidden": true
   },
   "outputs": [],
   "source": [
    "# We only use the previous timestep as features\n",
    "X_tr1 = X_train['t-1']\n",
    "y_tr1 = y_train\n",
    "\n",
    "X_te1 = X_test['t-1']\n",
    "y_te1 = y_test"
   ]
  },
  {
   "cell_type": "markdown",
   "metadata": {
    "hidden": true
   },
   "source": [
    "Now, in order to use a 1D convolution, we are going to sort the sensors. For the initial test, we'll just sort them by longitude (from East to West). That way, nearer sensors are in close positions in the tensor, so the 1D convolution may extract useful correlations.\n",
    "\n",
    "Note: many other possible ordenations of the sensors could be added as new channels in the input tensor"
   ]
  },
  {
   "cell_type": "code",
   "execution_count": 16,
   "metadata": {
    "ExecuteTime": {
     "end_time": "2019-04-23T12:43:30.876001Z",
     "start_time": "2019-04-23T12:43:30.285662Z"
    },
    "hidden": true
   },
   "outputs": [
    {
     "name": "stderr",
     "output_type": "stream",
     "text": [
      "/home/davidgg/anaconda3/envs/solar/lib/python3.6/site-packages/pandas/core/frame.py:3940: SettingWithCopyWarning: \n",
      "A value is trying to be set on a copy of a slice from a DataFrame\n",
      "\n",
      "See the caveats in the documentation: http://pandas.pydata.org/pandas-docs/stable/indexing.html#indexing-view-versus-copy\n",
      "  errors=errors)\n"
     ]
    }
   ],
   "source": [
    "# We load the info of the sensors to extract the longitude information\n",
    "info = pd.read_csv('/home/SHARED/SOLAR/data/info.csv')\n",
    "\n",
    "info.Location = info.Location.apply(lambda x: (x[:2] + x[-2:]).replace('_', ''))\n",
    "info.index = info.Location\n",
    "# Sorted longitudes\n",
    "longs = info['Longitude'].sort_values(ascending=False)\n",
    "\n",
    "# We drop two sensors (they are different compared to the other 17, since they are \"tilted\")\n",
    "X_tr1.drop('GT_AP6', inplace=True, axis=1)\n",
    "y_tr1.drop('GT_AP6', inplace=True, axis=1)\n",
    "X_tr1.drop('GT_DH1', inplace=True, axis=1)\n",
    "y_tr1.drop('GT_DH1', inplace=True, axis=1)\n",
    "X_te1.drop('GT_AP6', inplace=True, axis=1)\n",
    "y_te1.drop('GT_AP6', inplace=True, axis=1)\n",
    "X_te1.drop('GT_DH1', inplace=True, axis=1)\n",
    "y_te1.drop('GT_DH1', inplace=True, axis=1)\n",
    "\n",
    "# Just some auxiliar code to homogeneize name of sensors across different tables\n",
    "homogen_name = lambda x: x[-4:].replace('_', '')\n",
    "X_tr1.columns = [homogen_name(x) for x in X_tr1.columns.values.tolist()]\n",
    "y_tr1.columns = [homogen_name(x) for x in y_tr1.columns.values.tolist()]\n",
    "X_te1.columns = [homogen_name(x) for x in X_te1.columns.values.tolist()]\n",
    "y_te1.columns = [homogen_name(x) for x in y_te1.columns.values.tolist()]\n",
    "\n",
    "\n",
    "# Finally, we sort the data according to sensor's longitude\n",
    "X_tr1_1 = X_tr1[longs.index]\n",
    "y_tr1_1 = y_tr1[longs.index]\n",
    "X_te1_1 = X_te1[longs.index]\n",
    "y_te1_1 = y_te1[longs.index]"
   ]
  },
  {
   "cell_type": "markdown",
   "metadata": {
    "hidden": true
   },
   "source": [
    "Now we specify which sensor do we want to predict and test.\n",
    "\n",
    "(In the future, we need to discuss how are we going to predict, if just by looping over each sensor, or just give a vectorial prediction)"
   ]
  },
  {
   "cell_type": "code",
   "execution_count": 28,
   "metadata": {
    "ExecuteTime": {
     "end_time": "2019-04-23T14:42:03.128524Z",
     "start_time": "2019-04-23T14:42:03.123293Z"
    },
    "hidden": true
   },
   "outputs": [],
   "source": [
    "import keras\n",
    "\n",
    "from keras.datasets import cifar10\n",
    "# from keras.preprocessing.image import ImageDataGenerator\n",
    "from keras.models import Sequential, Model\n",
    "from keras.layers import Dense, Dropout, Activation, Flatten, Input, Lambda, Reshape, Add, Multiply, Subtract, Dropout\n",
    "from keras.layers import Conv2D, MaxPooling2D, LocallyConnected1D, Conv1D, UpSampling1D, MaxPooling1D, Dot, Concatenate\n",
    "from keras.layers import LocallyConnected2D, Conv2D\n",
    "from keras import backend as K"
   ]
  },
  {
   "cell_type": "code",
   "execution_count": 2,
   "metadata": {
    "ExecuteTime": {
     "end_time": "2019-04-23T12:43:07.469574Z",
     "start_time": "2019-04-23T12:43:07.463305Z"
    },
    "hidden": true
   },
   "outputs": [],
   "source": [
    "\n",
    "# from keras.datasets import cifar10\n",
    "from keras.preprocessing.image import ImageDataGenerator\n",
    "# from keras.models import Sequential, Model\n",
    "# from keras.layers import Dense, Dropout, Activation, Flatten, Input, Lambda, Reshape, Add, Multiply, Subtract, Dropout\n",
    "# from keras.layers import Conv2D, MaxPooling2D, LocallyConnected1D, Conv1D, UpSampling1D, MaxPooling1D, Dot, Concatenate\n",
    "\n",
    "# from keras import backend as K"
   ]
  },
  {
   "cell_type": "markdown",
   "metadata": {
    "hidden": true
   },
   "source": [
    "Model architecture is defined below.\n",
    "\n",
    "Some highlights:\n",
    "* Locally connected works better than pure convolutional at the first layers (probably because the sensors at not located in a uniform grid)\n",
    "* Trick to improve acc: add a final layer combining the convolutional prediction with the persistance prediction, so in case the input is \"strange\", the model could learn to output the persistance prediction (i.e., the previous time-step), which is somewhat reasonable"
   ]
  },
  {
   "cell_type": "code",
   "execution_count": 17,
   "metadata": {
    "ExecuteTime": {
     "end_time": "2019-04-23T12:43:38.963052Z",
     "start_time": "2019-04-23T12:43:38.950629Z"
    },
    "hidden": true
   },
   "outputs": [],
   "source": [
    "def make_model_sensor(index_sensor, n_sensors=17):\n",
    "    ''' Returns a model using all the sensors to predict index_sensor '''\n",
    "    xin = Input(shape=(n_sensors,1), name='main_input')\n",
    "    x = LocallyConnected1D(8, 7, data_format = 'channels_last', padding='valid')(xin)\n",
    "    x = Activation('relu')(x)\n",
    "    x = LocallyConnected1D(16, 5, data_format = 'channels_last', padding='valid')(x)\n",
    "    x = Activation('relu')(x)\n",
    "    x = Conv1D(32, 3, data_format = 'channels_last', padding='causal')(x)\n",
    "    xl = Flatten()(x)\n",
    "    xl = Dropout(0.2)(xl)\n",
    "    xo = Dense(1)(xl)\n",
    "\n",
    "    # use date info here?\n",
    "    xinf = Flatten()(xin)\n",
    "    s  = Dense(5)(xinf)\n",
    "    s = Activation('tanh')(s)\n",
    "    s = Dense(2)(s)\n",
    "    s = Activation('softmax')(s)\n",
    "\n",
    "    # sort of residual connection\n",
    "    xin_0 = Activation('relu')(xin)\n",
    "    xin_1 = Lambda(lambda x : x[:,index_sensor,:])(xin_0)\n",
    "    xo_m = Dot(axes=1)([Concatenate()([xo,xin_1]), s])\n",
    "    xo_m = Activation('relu')(xo_m)\n",
    "\n",
    "    model = Model(inputs=[xin], outputs=[xo_m])\n",
    "    return model"
   ]
  },
  {
   "cell_type": "code",
   "execution_count": 18,
   "metadata": {
    "ExecuteTime": {
     "end_time": "2019-04-23T12:43:39.991849Z",
     "start_time": "2019-04-23T12:43:39.970984Z"
    },
    "hidden": true
   },
   "outputs": [],
   "source": [
    "lr = 0.0001\n",
    "lr = 0.0001\n",
    "opt = keras.optimizers.Adam(lr=lr)\n",
    "\n",
    "# We add a callback to log metrics and another one to schedule the learning rate\n",
    "\n",
    "#see clr.py in this same folder\n",
    "from clr import CyclicLR\n",
    "\n",
    "c1 = keras.callbacks.BaseLogger(stateful_metrics=None)\n",
    "c2 = CyclicLR(step_size=250, base_lr=lr)\n",
    "c3 = keras.callbacks.History()"
   ]
  },
  {
   "cell_type": "markdown",
   "metadata": {
    "hidden": true
   },
   "source": [
    "Now we are ready to train. The below configuration should take 2 minutes in a 16 core CPU\n",
    "(no GPU needed). We are using a huge batch-size to speed up things"
   ]
  },
  {
   "cell_type": "code",
   "execution_count": 19,
   "metadata": {
    "ExecuteTime": {
     "end_time": "2019-04-23T12:43:42.886599Z",
     "start_time": "2019-04-23T12:43:42.881097Z"
    },
    "hidden": true
   },
   "outputs": [],
   "source": [
    "n_sensors = 17\n",
    "\n",
    "def to_array(sensor='AP5', val=0.1):\n",
    "    ''' Converts dataframe to numpy array for predicting any given sensor. val specifies the fraction\n",
    "    of training samples to be used as validation. '''\n",
    "    X_tr1_1_np = X_tr1_1.values\n",
    "    y_tr1_1_np = y_tr1_1[sensor].values\n",
    "    \n",
    "    #val_idx = int((1 - val)*len(y_tr1_1_np))\n",
    "\n",
    "    X_te1_1_np = X_te1_1.values\n",
    "    y_te1_1_np = y_te1_1[sensor].values\n",
    "    \n",
    "    #return X_tr1_1_np[:val_idx], y_tr1_1_np[:val_idx], X_tr1_1_np[val_idx:], y_tr1_1_np[val_idx:], X_te1_1_np, y_te1_1_np\n",
    "    return X_tr1_1_np, y_tr1_1_np, X_te1_1_np, y_te1_1_np"
   ]
  },
  {
   "cell_type": "code",
   "execution_count": 20,
   "metadata": {
    "ExecuteTime": {
     "end_time": "2019-04-23T12:43:44.133881Z",
     "start_time": "2019-04-23T12:43:44.131216Z"
    },
    "hidden": true,
    "scrolled": true
   },
   "outputs": [],
   "source": [
    "batch_size = 1 << 11   # as big as possible so we can explore many models\n",
    "epochs = 1 << 5"
   ]
  },
  {
   "cell_type": "code",
   "execution_count": 22,
   "metadata": {
    "ExecuteTime": {
     "end_time": "2019-04-23T12:44:01.101770Z",
     "start_time": "2019-04-23T12:44:00.724918Z"
    },
    "hidden": true
   },
   "outputs": [],
   "source": [
    "from sklearn.model_selection import TimeSeriesSplit\n",
    "\n",
    "longs_np = longs.index.values"
   ]
  },
  {
   "cell_type": "code",
   "execution_count": 23,
   "metadata": {
    "ExecuteTime": {
     "end_time": "2019-04-23T12:44:03.227212Z",
     "start_time": "2019-04-23T12:44:03.217516Z"
    },
    "hidden": true
   },
   "outputs": [],
   "source": [
    "def train_and_test_sensor(id_sensor=4):\n",
    "    X_tr, y_tr, X_te, y_te = to_array(sensor=longs_np[id_sensor])\n",
    "    \n",
    "    \n",
    "    # Validation using TS split (just to obtain different MAE estimations, no hyperoptimization for the moment)\n",
    "    for tr_idx, va_idx in TimeSeriesSplit(n_splits=5).split(X_tr):\n",
    "        model = make_model_sensor(id_sensor, n_sensors=17)\n",
    "        model.compile(opt, loss='mean_absolute_error')\n",
    "        model.fit(np.atleast_3d(X_tr[tr_idx]), y_tr[tr_idx], batch_size=batch_size, epochs=epochs, validation_data=\n",
    "              (np.atleast_3d(X_tr[va_idx]),y_tr[va_idx]), callbacks=[c2, c3], verbose=0)\n",
    "        print('MAE_val ', c3.history['val_loss'][-1])\n",
    "    \n",
    "    # Testing\n",
    "    model = make_model_sensor(id_sensor, n_sensors=17)\n",
    "    model.compile(opt, loss='mean_absolute_error')\n",
    "    model.fit(np.atleast_3d(X_tr), y_tr, batch_size=batch_size, epochs=epochs, validation_data=\n",
    "              (np.atleast_3d(X_te),y_te), callbacks=[c2, c3], verbose=0)\n",
    "    \n",
    "    print('MAE_test ', c3.history['val_loss'][-1])\n",
    "    return longs_np[id_sensor], c3.history['val_loss'][-1]"
   ]
  },
  {
   "cell_type": "code",
   "execution_count": 24,
   "metadata": {
    "ExecuteTime": {
     "end_time": "2019-04-23T14:28:11.698489Z",
     "start_time": "2019-04-23T12:44:04.812219Z"
    },
    "hidden": true
   },
   "outputs": [
    {
     "name": "stdout",
     "output_type": "stream",
     "text": [
      "0 AP7\n",
      "MAE_val  75.80979736120578\n",
      "MAE_val  51.144046569770296\n",
      "MAE_val  23.682809347927705\n",
      "MAE_val  48.48229516641444\n",
      "MAE_val  77.36800727015067\n",
      "MAE_test  56.7753012248093\n",
      "1 AP6\n",
      "MAE_val  74.61921432023048\n",
      "MAE_val  49.396017061638695\n",
      "MAE_val  22.354893112182616\n",
      "MAE_val  45.92701640405692\n",
      "MAE_val  76.46450659658674\n",
      "MAE_test  56.88833060529433\n",
      "2 AP4\n",
      "MAE_val  66.64517080325065\n",
      "MAE_val  44.6123261167234\n",
      "MAE_val  22.224348633040396\n",
      "MAE_val  46.57306654620193\n",
      "MAE_val  70.25389557251026\n",
      "MAE_test  53.94465374119383\n",
      "3 AP3\n",
      "MAE_val  53.7360220670414\n",
      "MAE_val  40.76224770307509\n",
      "MAE_val  21.362736480505344\n",
      "MAE_val  73.05565114166914\n",
      "MAE_val  46.59384850912657\n",
      "MAE_test  6.656649084376051\n",
      "4 AP5\n",
      "MAE_val  55.24970045057928\n",
      "MAE_val  36.355663239521924\n",
      "MAE_val  22.087352481755055\n",
      "MAE_val  37.961037127287135\n",
      "MAE_val  57.43544904833747\n",
      "MAE_test  41.17154105209058\n",
      "5 AP1\n",
      "MAE_val  53.48813401489421\n",
      "MAE_val  41.610838796882916\n",
      "MAE_val  20.758525616729365\n",
      "MAE_val  41.51859642320799\n",
      "MAE_val  60.26669131750933\n",
      "MAE_test  51.893634877690175\n",
      "6 DH5\n",
      "MAE_val  57.29523281021617\n",
      "MAE_val  44.95631776589173\n",
      "MAE_val  22.097038118622116\n",
      "MAE_val  58.38963878472371\n",
      "MAE_val  59.86065306082966\n",
      "MAE_test  49.663516282770665\n",
      "7 DH3\n",
      "MAE_val  56.15551522978943\n",
      "MAE_val  41.695836925773655\n",
      "MAE_val  21.07067036077426\n",
      "MAE_val  44.61714998085764\n",
      "MAE_val  69.94008512088722\n",
      "MAE_test  50.24999291806046\n",
      "8 DH4\n",
      "MAE_val  57.03879248963338\n",
      "MAE_val  41.81020250848205\n",
      "MAE_val  20.58031594662654\n",
      "MAE_val  80.65033825025954\n",
      "MAE_val  62.94722596578144\n",
      "MAE_test  48.43372359733948\n",
      "9 DH11\n",
      "MAE_val  51.35145165351474\n",
      "MAE_val  36.128722275427336\n",
      "MAE_val  20.718283615946564\n",
      "MAE_val  38.69213656211697\n",
      "MAE_val  54.965672217904604\n",
      "MAE_test  40.680962499743615\n",
      "10 DH2\n",
      "MAE_val  65.52352382722482\n",
      "MAE_val  47.42712075406034\n",
      "MAE_val  22.381900362034354\n",
      "MAE_val  45.257302432906584\n",
      "MAE_val  65.48225004310878\n",
      "MAE_test  51.12946275584873\n",
      "11 DH10\n",
      "MAE_val  52.04082090065215\n",
      "MAE_val  36.190239527511956\n",
      "MAE_val  21.169756854065323\n",
      "MAE_val  52.10983741089795\n",
      "MAE_val  60.50605036512599\n",
      "MAE_test  43.26168022262528\n",
      "12 DH8\n",
      "MAE_val  50.15223863944799\n",
      "MAE_val  35.42386604814724\n",
      "MAE_val  19.3684672676002\n",
      "MAE_val  37.72427639786379\n",
      "MAE_val  55.4202511810433\n",
      "MAE_test  40.13945658812219\n",
      "13 DH6\n",
      "MAE_val  50.76259777467399\n",
      "MAE_val  38.30799087303641\n",
      "MAE_val  20.780452662395597\n",
      "MAE_val  50.36524102119052\n",
      "MAE_val  59.98051964515272\n",
      "MAE_test  43.37830131794733\n",
      "14 DH7\n",
      "MAE_val  61.80947955485455\n",
      "MAE_val  42.680288692041465\n",
      "MAE_val  21.494445962189896\n",
      "MAE_val  42.520794908071075\n",
      "MAE_val  62.52751524788266\n",
      "MAE_test  45.890827926505416\n",
      "15 DH9\n",
      "MAE_val  57.69496536672012\n",
      "MAE_val  39.67647462591265\n",
      "MAE_val  21.154198369688633\n",
      "MAE_val  44.21872705321484\n",
      "MAE_val  66.29857143621346\n",
      "MAE_test  44.516582787960175\n",
      "16 DH1\n",
      "MAE_val  67.35860088911512\n",
      "MAE_val  46.34590546226069\n",
      "MAE_val  22.069913599563925\n",
      "MAE_val  44.927284179984575\n",
      "MAE_val  66.5199438832445\n",
      "MAE_test  50.18902113883702\n"
     ]
    }
   ],
   "source": [
    "maes = {}\n",
    "for i in range(len(longs_np)):\n",
    "    print(i, longs_np[i])\n",
    "    sensor, mae = train_and_test_sensor(i)\n",
    "    maes[sensor] = mae "
   ]
  },
  {
   "cell_type": "code",
   "execution_count": 25,
   "metadata": {
    "ExecuteTime": {
     "end_time": "2019-04-23T14:29:13.525875Z",
     "start_time": "2019-04-23T14:29:13.520942Z"
    },
    "hidden": true
   },
   "outputs": [],
   "source": [
    "maes = pd.Series(maes, name='MAE').sort_values()"
   ]
  },
  {
   "cell_type": "code",
   "execution_count": 26,
   "metadata": {
    "ExecuteTime": {
     "end_time": "2019-04-23T14:29:15.071965Z",
     "start_time": "2019-04-23T14:29:15.058928Z"
    },
    "hidden": true
   },
   "outputs": [
    {
     "data": {
      "text/plain": [
       "AP3      6.656649\n",
       "DH8     40.139457\n",
       "DH11    40.680962\n",
       "AP5     41.171541\n",
       "DH10    43.261680\n",
       "DH6     43.378301\n",
       "DH9     44.516583\n",
       "DH7     45.890828\n",
       "DH4     48.433724\n",
       "DH5     49.663516\n",
       "DH1     50.189021\n",
       "DH3     50.249993\n",
       "DH2     51.129463\n",
       "AP1     51.893635\n",
       "AP4     53.944654\n",
       "AP7     56.775301\n",
       "AP6     56.888331\n",
       "Name: MAE, dtype: float64"
      ]
     },
     "execution_count": 26,
     "metadata": {},
     "output_type": "execute_result"
    }
   ],
   "source": [
    "maes"
   ]
  },
  {
   "cell_type": "markdown",
   "metadata": {
    "heading_collapsed": true
   },
   "source": [
    "# Convolutional 1D over time (longitude,time)"
   ]
  },
  {
   "cell_type": "markdown",
   "metadata": {
    "hidden": true
   },
   "source": [
    "In this case, we are going to select more than one time slice as inputs. In this case X is a numpy array of rank 3.\n",
    "\n",
    "X : (item,sensor,time_slice)"
   ]
  },
  {
   "cell_type": "code",
   "execution_count": 189,
   "metadata": {
    "ExecuteTime": {
     "end_time": "2019-04-23T15:58:57.403571Z",
     "start_time": "2019-04-23T15:58:57.396003Z"
    },
    "hidden": true
   },
   "outputs": [
    {
     "data": {
      "text/plain": [
       "array(['AP7', 'AP6', 'AP4', 'AP3', 'AP5', 'AP1', 'DH5', 'DH3', 'DH4',\n",
       "       'DH11', 'DH2', 'DH10', 'DH8', 'DH6', 'DH7', 'DH9', 'DH1'],\n",
       "      dtype=object)"
      ]
     },
     "execution_count": 189,
     "metadata": {},
     "output_type": "execute_result"
    }
   ],
   "source": [
    "longs.index.to_numpy()"
   ]
  },
  {
   "cell_type": "code",
   "execution_count": 191,
   "metadata": {
    "ExecuteTime": {
     "end_time": "2019-04-23T15:59:19.783440Z",
     "start_time": "2019-04-23T15:59:19.777363Z"
    },
    "hidden": true
   },
   "outputs": [
    {
     "name": "stdout",
     "output_type": "stream",
     "text": [
      "Number of sensors considered: 17\n"
     ]
    }
   ],
   "source": [
    "longs_np = longs.index.to_numpy()\n",
    "n_sensors = len(longs_np)\n",
    "print('Number of sensors considered:',n_sensors)"
   ]
  },
  {
   "cell_type": "code",
   "execution_count": 281,
   "metadata": {
    "ExecuteTime": {
     "end_time": "2019-04-23T16:45:25.563723Z",
     "start_time": "2019-04-23T16:45:25.557808Z"
    },
    "hidden": true
   },
   "outputs": [
    {
     "name": "stdout",
     "output_type": "stream",
     "text": [
      "Chosen times as features ['t-1', 't-2', 't-3', 't-4', 't-5', 't-6', 't-7', 't-8', 't-9']\n"
     ]
    }
   ],
   "source": [
    "chosen_times = times[1:10:1]\n",
    "print('Chosen times as features',chosen_times)"
   ]
  },
  {
   "cell_type": "code",
   "execution_count": 282,
   "metadata": {
    "ExecuteTime": {
     "end_time": "2019-04-23T16:45:25.753378Z",
     "start_time": "2019-04-23T16:45:25.719019Z"
    },
    "hidden": true
   },
   "outputs": [],
   "source": [
    "lr = 0.0001\n",
    "lr = 0.0001\n",
    "opt = keras.optimizers.Adam(lr=lr)\n",
    "\n",
    "# We add a callback to log metrics and another one to schedule the learning rate\n",
    "\n",
    "#see clr.py in this same folder\n",
    "from clr import CyclicLR\n",
    "\n",
    "c1 = keras.callbacks.BaseLogger(stateful_metrics=None)\n",
    "c2 = CyclicLR(step_size=250, base_lr=lr)\n",
    "c3 = keras.callbacks.History()\n",
    "\n",
    "batch_size = 1 << 11   # as big as possible so we can explore many models\n",
    "epochs = 1 << 5"
   ]
  },
  {
   "cell_type": "code",
   "execution_count": 283,
   "metadata": {
    "ExecuteTime": {
     "end_time": "2019-04-23T16:45:25.994073Z",
     "start_time": "2019-04-23T16:45:25.982017Z"
    },
    "hidden": true
   },
   "outputs": [],
   "source": [
    "def to_array(chosen_times, sensor='AP5', order_time = True):\n",
    "    ''' Converts dataframe to numpy array for predicting any given sensor. '''\n",
    "    \n",
    "    X_train_np = []\n",
    "    for time in chosen_times:\n",
    "        X_train_np.append(X_train[time].to_numpy().reshape(-1,n_sensors,1))\n",
    "    X_train_np = np.swapaxes(np.concatenate(X_train_np,axis=2),1,2)\n",
    "\n",
    "    y_train_np = y_train[sensor].to_numpy()\n",
    "\n",
    "    \n",
    "    \n",
    "    \n",
    "    X_test_np = []\n",
    "    for time in chosen_times:\n",
    "        X_test_np.append(X_test[time].to_numpy().reshape(-1,n_sensors,1))\n",
    "    X_test_np = np.swapaxes(np.concatenate(X_test_np,axis=2),1,2)\n",
    "    y_test_np = y_test[sensor].to_numpy()\n",
    "    \n",
    "    if order_time:\n",
    "        X_train_np = X_train_np[:,::-1]\n",
    "        X_test_np = X_test_np[:,::-1]\n",
    "    \n",
    "    #return X_tr1_1_np[:val_idx], y_tr1_1_np[:val_idx], X_tr1_1_np[val_idx:], y_tr1_1_np[val_idx:], X_te1_1_np, y_te1_1_np\n",
    "    return X_train_np, y_train_np, X_test_np, y_test_np"
   ]
  },
  {
   "cell_type": "code",
   "execution_count": 290,
   "metadata": {
    "ExecuteTime": {
     "end_time": "2019-04-23T16:53:04.843266Z",
     "start_time": "2019-04-23T16:53:04.827311Z"
    },
    "hidden": true
   },
   "outputs": [],
   "source": [
    "def make_model_sensor_conv_time(index_sensor, n_sensors=17, time_slices = 2):\n",
    "    ''' Returns a model using all the sensors to predict index_sensor '''\n",
    "    xin = Input(shape=(time_slices,n_sensors), name='main_input')\n",
    "    '''\n",
    "    When using this layer as the first layer in a model, provide an input_shape argument \n",
    "    (tuple of integers or None, does not include the batch axis), e.g. input_shape=(10, 128) \n",
    "    for time series sequences of 10 time steps with 128 features per step in data_format=\"channels_last\", \n",
    "    or (None, 128) for variable-length sequences with 128 features per step.\n",
    "    '''\n",
    "    # The convolution is across time, and each sensor is a channel\n",
    "    x = LocallyConnected1D(20, 3, data_format = 'channels_last', padding='valid')(xin)\n",
    "    x = Activation('relu')(x)\n",
    "    x = LocallyConnected1D(12, 3, data_format = 'channels_last', padding='valid')(x)\n",
    "    x = Activation('relu')(x)\n",
    "    x = Conv1D(32, 3, data_format = 'channels_last', padding='causal')(x)\n",
    "    xl = Flatten()(x)\n",
    "    xl = Dropout(0.2)(xl)\n",
    "    xo = Dense(1)(xl)\n",
    "\n",
    "    # use date info here?\n",
    "    xinf = Flatten()(xin)\n",
    "    s  = Dense(5)(xinf)\n",
    "    s = Activation('tanh')(s)\n",
    "    s = Dense(2)(s)\n",
    "    s = Activation('softmax')(s)\n",
    "\n",
    "    # sort of residual connection, we only take the last timestamp of the given sensor x[:,index_sensor,-1:]\n",
    "    xin_0 = Activation('relu')(xin)\n",
    "    xin_1 = Lambda(lambda x : x[:,index_sensor,-1:])(xin_0)\n",
    "#     xin_1 = Flatten()(xin_1)\n",
    "    xo_m = Dot(axes=1)([Concatenate()([xo,xin_1]), s])\n",
    "    xo_m = Activation('relu')(xo_m)\n",
    "\n",
    "    model = Model(inputs=[xin], outputs=[xo_m])\n",
    "    return model"
   ]
  },
  {
   "cell_type": "code",
   "execution_count": 291,
   "metadata": {
    "ExecuteTime": {
     "end_time": "2019-04-23T16:53:05.641566Z",
     "start_time": "2019-04-23T16:53:05.412654Z"
    },
    "hidden": true
   },
   "outputs": [
    {
     "name": "stdout",
     "output_type": "stream",
     "text": [
      "__________________________________________________________________________________________________\n",
      "Layer (type)                    Output Shape         Param #     Connected to                     \n",
      "==================================================================================================\n",
      "main_input (InputLayer)         (None, 9, 17)        0                                            \n",
      "__________________________________________________________________________________________________\n",
      "locally_connected1d_248 (Locall (None, 7, 20)        7280        main_input[0][0]                 \n",
      "__________________________________________________________________________________________________\n",
      "activation_708 (Activation)     (None, 7, 20)        0           locally_connected1d_248[0][0]    \n",
      "__________________________________________________________________________________________________\n",
      "locally_connected1d_249 (Locall (None, 5, 12)        3660        activation_708[0][0]             \n",
      "__________________________________________________________________________________________________\n",
      "activation_709 (Activation)     (None, 5, 12)        0           locally_connected1d_249[0][0]    \n",
      "__________________________________________________________________________________________________\n",
      "conv1d_119 (Conv1D)             (None, 5, 32)        1184        activation_709[0][0]             \n",
      "__________________________________________________________________________________________________\n",
      "flatten_239 (Flatten)           (None, 153)          0           main_input[0][0]                 \n",
      "__________________________________________________________________________________________________\n",
      "flatten_238 (Flatten)           (None, 160)          0           conv1d_119[0][0]                 \n",
      "__________________________________________________________________________________________________\n",
      "dense_356 (Dense)               (None, 5)            770         flatten_239[0][0]                \n",
      "__________________________________________________________________________________________________\n",
      "dropout_119 (Dropout)           (None, 160)          0           flatten_238[0][0]                \n",
      "__________________________________________________________________________________________________\n",
      "activation_712 (Activation)     (None, 9, 17)        0           main_input[0][0]                 \n",
      "__________________________________________________________________________________________________\n",
      "activation_710 (Activation)     (None, 5)            0           dense_356[0][0]                  \n",
      "__________________________________________________________________________________________________\n",
      "dense_355 (Dense)               (None, 1)            161         dropout_119[0][0]                \n",
      "__________________________________________________________________________________________________\n",
      "lambda_119 (Lambda)             (None, 1)            0           activation_712[0][0]             \n",
      "__________________________________________________________________________________________________\n",
      "dense_357 (Dense)               (None, 2)            12          activation_710[0][0]             \n",
      "__________________________________________________________________________________________________\n",
      "concatenate_118 (Concatenate)   (None, 2)            0           dense_355[0][0]                  \n",
      "                                                                 lambda_119[0][0]                 \n",
      "__________________________________________________________________________________________________\n",
      "activation_711 (Activation)     (None, 2)            0           dense_357[0][0]                  \n",
      "__________________________________________________________________________________________________\n",
      "dot_118 (Dot)                   (None, 1)            0           concatenate_118[0][0]            \n",
      "                                                                 activation_711[0][0]             \n",
      "__________________________________________________________________________________________________\n",
      "activation_713 (Activation)     (None, 1)            0           dot_118[0][0]                    \n",
      "==================================================================================================\n",
      "Total params: 13,067\n",
      "Trainable params: 13,067\n",
      "Non-trainable params: 0\n",
      "__________________________________________________________________________________________________\n"
     ]
    }
   ],
   "source": [
    "model = make_model_sensor_conv_time(0, n_sensors=n_sensors,time_slices=len(chosen_times))\n",
    "model.summary()"
   ]
  },
  {
   "cell_type": "code",
   "execution_count": 292,
   "metadata": {
    "ExecuteTime": {
     "end_time": "2019-04-23T16:53:42.392733Z",
     "start_time": "2019-04-23T16:53:42.376743Z"
    },
    "hidden": true
   },
   "outputs": [],
   "source": [
    "def train_and_test_sensor(id_sensor=4):\n",
    "    \n",
    "    X_tr, y_tr, X_te, y_te = to_array(chosen_times,sensor=longs_np[id_sensor])\n",
    "    print(X_tr.shape)\n",
    "    # Validation using TS split (just to obtain different MAE estimations, no hyperoptimization for the moment)\n",
    "    for tr_idx, va_idx in TimeSeriesSplit(n_splits=5).split(X_tr):\n",
    "        model = make_model_sensor_conv_time(id_sensor, n_sensors=n_sensors,time_slices=len(chosen_times))\n",
    "        model.compile(opt, loss='mean_absolute_error')\n",
    "        \n",
    "        model.fit(np.atleast_3d(X_tr[tr_idx]), y_tr[tr_idx], batch_size=batch_size, epochs=epochs, validation_data=\n",
    "              (np.atleast_3d(X_tr[va_idx]),y_tr[va_idx]), callbacks=[c2, c3], verbose=0)\n",
    "        print('MAE_val ', c3.history['val_loss'][-1])\n",
    "    \n",
    "    # Testing\n",
    "    model = make_model_sensor_conv_time(id_sensor, n_sensors=n_sensors,time_slices=len(chosen_times))\n",
    "    model.compile(opt, loss='mean_absolute_error')\n",
    "    model.fit(np.atleast_3d(X_tr), y_tr, batch_size=batch_size, epochs=epochs, validation_data=\n",
    "              (np.atleast_3d(X_te),y_te), callbacks=[c2, c3], verbose=0)\n",
    "    \n",
    "    print('MAE_test ', c3.history['val_loss'][-1])\n",
    "    return longs_np[id_sensor], c3.history['val_loss'][-1]"
   ]
  },
  {
   "cell_type": "markdown",
   "metadata": {
    "hidden": true
   },
   "source": [
    "0 AP7\n",
    "\n",
    "MAE_val  75.80979736120578\n",
    "\n",
    "MAE_val  51.144046569770296\n",
    "\n",
    "MAE_val  23.682809347927705\n",
    "\n",
    "MAE_val  48.48229516641444\n",
    "\n",
    "MAE_val  77.36800727015067\n",
    "\n",
    "MAE_test  56.7753012248093"
   ]
  },
  {
   "cell_type": "code",
   "execution_count": 293,
   "metadata": {
    "ExecuteTime": {
     "end_time": "2019-04-23T17:04:43.137632Z",
     "start_time": "2019-04-23T16:53:43.198382Z"
    },
    "hidden": true
   },
   "outputs": [
    {
     "name": "stdout",
     "output_type": "stream",
     "text": [
      "0 AP7\n",
      "(449885, 9, 17)\n"
     ]
    },
    {
     "name": "stderr",
     "output_type": "stream",
     "text": [
      "/home/davidgg/anaconda3/envs/solar/lib/python3.6/site-packages/keras/callbacks.py:122: UserWarning: Method on_batch_end() is slow compared to the batch update (0.517210). Check your callbacks.\n",
      "  % delta_t_median)\n"
     ]
    },
    {
     "name": "stdout",
     "output_type": "stream",
     "text": [
      "MAE_val  77.5054547008434\n",
      "MAE_val  52.17530269164917\n",
      "MAE_val  24.86432486753141\n",
      "MAE_val  53.33971921361647\n",
      "MAE_val  79.15222348050138\n",
      "MAE_test  58.97714640068765\n"
     ]
    }
   ],
   "source": [
    "i=0\n",
    "print(i, longs_np[i])\n",
    "sensor, mae = train_and_test_sensor(i)"
   ]
  },
  {
   "cell_type": "code",
   "execution_count": null,
   "metadata": {
    "hidden": true
   },
   "outputs": [],
   "source": [
    "maes = {}\n",
    "for i in range(len(longs_np)):\n",
    "    print(i, longs_np[i])\n",
    "    sensor, mae = train_and_test_sensor(i)\n",
    "    maes[sensor] = mae "
   ]
  },
  {
   "cell_type": "markdown",
   "metadata": {},
   "source": [
    "# Convolutional 2D"
   ]
  },
  {
   "cell_type": "code",
   "execution_count": 294,
   "metadata": {
    "ExecuteTime": {
     "end_time": "2019-04-23T17:05:57.848217Z",
     "start_time": "2019-04-23T17:05:57.834756Z"
    }
   },
   "outputs": [],
   "source": [
    "def to_array(chosen_times, sensor='AP5', order_time = True):\n",
    "    ''' Converts dataframe to numpy array for predicting any given sensor. '''\n",
    "    \n",
    "    X_train_np = []\n",
    "    for time in chosen_times:\n",
    "        X_train_np.append(X_train[time].to_numpy().reshape(-1,n_sensors,1))\n",
    "    X_train_np = np.swapaxes(np.concatenate(X_train_np,axis=2),1,2)\n",
    "\n",
    "    y_train_np = y_train[sensor].to_numpy()\n",
    "\n",
    "    \n",
    "    \n",
    "    \n",
    "    X_test_np = []\n",
    "    for time in chosen_times:\n",
    "        X_test_np.append(X_test[time].to_numpy().reshape(-1,n_sensors,1))\n",
    "    X_test_np = np.swapaxes(np.concatenate(X_test_np,axis=2),1,2)\n",
    "    y_test_np = y_test[sensor].to_numpy()\n",
    "    \n",
    "    if order_time:\n",
    "        X_train_np = np.expand_dims(X_train_np[:,::-1],axis=3)\n",
    "        X_test_np = np.expand_dims(X_test_np[:,::-1],axis=3)\n",
    "    \n",
    "    #return X_tr1_1_np[:val_idx], y_tr1_1_np[:val_idx], X_tr1_1_np[val_idx:], y_tr1_1_np[val_idx:], X_te1_1_np, y_te1_1_np\n",
    "    return X_train_np, y_train_np, X_test_np, y_test_np"
   ]
  },
  {
   "cell_type": "code",
   "execution_count": 302,
   "metadata": {
    "ExecuteTime": {
     "end_time": "2019-04-23T17:07:11.139445Z",
     "start_time": "2019-04-23T17:07:11.122770Z"
    }
   },
   "outputs": [],
   "source": [
    "def make_model_sensor_conv_time(index_sensor, n_sensors=17, time_slices = 2):\n",
    "    ''' Returns a model using all the sensors to predict index_sensor '''\n",
    "    xin = Input(shape=(time_slices,n_sensors,1), name='main_input')\n",
    "    '''\n",
    "    When using this layer as the first layer in a model, provide an input_shape argument \n",
    "    (tuple of integers or None, does not include the batch axis), e.g. input_shape=(10, 128) \n",
    "    for time series sequences of 10 time steps with 128 features per step in data_format=\"channels_last\", \n",
    "    or (None, 128) for variable-length sequences with 128 features per step.\n",
    "    '''\n",
    "    # The convolution is across time, and each sensor is a channel\n",
    "    x = LocallyConnected2D(20, 3, data_format = 'channels_last', padding='valid')(xin)\n",
    "    x = Activation('relu')(x)\n",
    "    x = LocallyConnected2D(12, 3, data_format = 'channels_last', padding='valid')(x)\n",
    "    x = Activation('relu')(x)\n",
    "    x = Conv2D(32, 3, data_format = 'channels_last', padding='valid')(x)\n",
    "    xl = Flatten()(x)\n",
    "    xl = Dropout(0.2)(xl)\n",
    "    xo = Dense(1)(xl)\n",
    "\n",
    "    # use date info here?\n",
    "    xinf = Flatten()(xin)\n",
    "    s  = Dense(5)(xinf)\n",
    "    s = Activation('tanh')(s)\n",
    "    s = Dense(2)(s)\n",
    "    s = Activation('softmax')(s)\n",
    "\n",
    "    # sort of residual connection, we only take the last timestamp of the given sensor x[:,index_sensor,-1:]\n",
    "    xin_0 = Activation('relu')(xin)\n",
    "    xin_1 = Lambda(lambda x : x[:,index_sensor,-1:,-1])(xin_0)\n",
    "#     xin_1 = Flatten()(xin_1)\n",
    "    xo_m = Dot(axes=1)([Concatenate()([xo,xin_1]), s])\n",
    "    xo_m = Activation('relu')(xo_m)\n",
    "\n",
    "    model = Model(inputs=[xin], outputs=[xo_m])\n",
    "    return model"
   ]
  },
  {
   "cell_type": "code",
   "execution_count": 303,
   "metadata": {
    "ExecuteTime": {
     "end_time": "2019-04-23T17:07:12.557612Z",
     "start_time": "2019-04-23T17:07:11.806381Z"
    }
   },
   "outputs": [
    {
     "name": "stdout",
     "output_type": "stream",
     "text": [
      "__________________________________________________________________________________________________\n",
      "Layer (type)                    Output Shape         Param #     Connected to                     \n",
      "==================================================================================================\n",
      "main_input (InputLayer)         (None, 9, 17, 1)     0                                            \n",
      "__________________________________________________________________________________________________\n",
      "locally_connected2d_7 (LocallyC (None, 7, 15, 20)    21000       main_input[0][0]                 \n",
      "__________________________________________________________________________________________________\n",
      "activation_757 (Activation)     (None, 7, 15, 20)    0           locally_connected2d_7[0][0]      \n",
      "__________________________________________________________________________________________________\n",
      "locally_connected2d_8 (LocallyC (None, 5, 13, 12)    141180      activation_757[0][0]             \n",
      "__________________________________________________________________________________________________\n",
      "activation_758 (Activation)     (None, 5, 13, 12)    0           locally_connected2d_8[0][0]      \n",
      "__________________________________________________________________________________________________\n",
      "conv2d_3 (Conv2D)               (None, 3, 11, 32)    3488        activation_758[0][0]             \n",
      "__________________________________________________________________________________________________\n",
      "flatten_255 (Flatten)           (None, 153)          0           main_input[0][0]                 \n",
      "__________________________________________________________________________________________________\n",
      "flatten_254 (Flatten)           (None, 1056)         0           conv2d_3[0][0]                   \n",
      "__________________________________________________________________________________________________\n",
      "dense_380 (Dense)               (None, 5)            770         flatten_255[0][0]                \n",
      "__________________________________________________________________________________________________\n",
      "dropout_127 (Dropout)           (None, 1056)         0           flatten_254[0][0]                \n",
      "__________________________________________________________________________________________________\n",
      "activation_761 (Activation)     (None, 9, 17, 1)     0           main_input[0][0]                 \n",
      "__________________________________________________________________________________________________\n",
      "activation_759 (Activation)     (None, 5)            0           dense_380[0][0]                  \n",
      "__________________________________________________________________________________________________\n",
      "dense_379 (Dense)               (None, 1)            1057        dropout_127[0][0]                \n",
      "__________________________________________________________________________________________________\n",
      "lambda_127 (Lambda)             (None, 1)            0           activation_761[0][0]             \n",
      "__________________________________________________________________________________________________\n",
      "dense_381 (Dense)               (None, 2)            12          activation_759[0][0]             \n",
      "__________________________________________________________________________________________________\n",
      "concatenate_125 (Concatenate)   (None, 2)            0           dense_379[0][0]                  \n",
      "                                                                 lambda_127[0][0]                 \n",
      "__________________________________________________________________________________________________\n",
      "activation_760 (Activation)     (None, 2)            0           dense_381[0][0]                  \n",
      "__________________________________________________________________________________________________\n",
      "dot_125 (Dot)                   (None, 1)            0           concatenate_125[0][0]            \n",
      "                                                                 activation_760[0][0]             \n",
      "__________________________________________________________________________________________________\n",
      "activation_762 (Activation)     (None, 1)            0           dot_125[0][0]                    \n",
      "==================================================================================================\n",
      "Total params: 167,507\n",
      "Trainable params: 167,507\n",
      "Non-trainable params: 0\n",
      "__________________________________________________________________________________________________\n"
     ]
    }
   ],
   "source": [
    "model = make_model_sensor_conv_time(0, n_sensors=n_sensors,time_slices=len(chosen_times))\n",
    "model.summary()"
   ]
  },
  {
   "cell_type": "code",
   "execution_count": 304,
   "metadata": {
    "ExecuteTime": {
     "end_time": "2019-04-23T17:07:19.610661Z",
     "start_time": "2019-04-23T17:07:19.595271Z"
    }
   },
   "outputs": [],
   "source": [
    "def train_and_test_sensor(id_sensor=4):\n",
    "    X_tr, y_tr, X_te, y_te = to_array(chosen_times,sensor=longs_np[id_sensor])\n",
    "    print(X_tr.shape)\n",
    "    # Validation using TS split (just to obtain different MAE estimations, no hyperoptimization for the moment)\n",
    "    for tr_idx, va_idx in TimeSeriesSplit(n_splits=5).split(X_tr):\n",
    "        model = make_model_sensor_conv_time(id_sensor, n_sensors=n_sensors,time_slices=len(chosen_times))\n",
    "        model.compile(opt, loss='mean_absolute_error')\n",
    "        \n",
    "        model.fit(np.atleast_3d(X_tr[tr_idx]), y_tr[tr_idx], batch_size=batch_size, epochs=epochs, validation_data=\n",
    "              (np.atleast_3d(X_tr[va_idx]),y_tr[va_idx]), callbacks=[c2, c3], verbose=0)\n",
    "        print('MAE_val ', c3.history['val_loss'][-1])\n",
    "    \n",
    "    # Testing\n",
    "    model = make_model_sensor_conv_time(id_sensor, n_sensors=n_sensors,time_slices=len(chosen_times))\n",
    "    model.compile(opt, loss='mean_absolute_error')\n",
    "    model.fit(np.atleast_3d(X_tr), y_tr, batch_size=batch_size, epochs=epochs, validation_data=\n",
    "              (np.atleast_3d(X_te),y_te), callbacks=[c2, c3], verbose=0)\n",
    "    \n",
    "    print('MAE_test ', c3.history['val_loss'][-1])\n",
    "    return longs_np[id_sensor], c3.history['val_loss'][-1]"
   ]
  },
  {
   "cell_type": "markdown",
   "metadata": {},
   "source": [
    "0 AP7\n",
    "\n",
    "MAE_val  75.80979736120578\n",
    "\n",
    "MAE_val  51.144046569770296\n",
    "\n",
    "MAE_val  23.682809347927705\n",
    "\n",
    "MAE_val  48.48229516641444\n",
    "\n",
    "MAE_val  77.36800727015067\n",
    "\n",
    "MAE_test  56.7753012248093"
   ]
  },
  {
   "cell_type": "code",
   "execution_count": 305,
   "metadata": {
    "ExecuteTime": {
     "end_time": "2019-04-23T17:33:12.395597Z",
     "start_time": "2019-04-23T17:07:22.869043Z"
    }
   },
   "outputs": [
    {
     "name": "stdout",
     "output_type": "stream",
     "text": [
      "0 AP7\n",
      "(449885, 9, 17, 1)\n",
      "MAE_val  76.37582733040334\n",
      "MAE_val  58.20910274600245\n",
      "MAE_val  29.512727100253265\n",
      "MAE_val  48.84466819946338\n",
      "MAE_val  77.00408122626646\n",
      "MAE_test  56.87768337969694\n"
     ]
    }
   ],
   "source": [
    "i=0\n",
    "print(i, longs_np[i])\n",
    "sensor, mae = train_and_test_sensor(i)"
   ]
  },
  {
   "cell_type": "code",
   "execution_count": null,
   "metadata": {},
   "outputs": [],
   "source": []
  }
 ],
 "metadata": {
  "kernelspec": {
   "display_name": "solar",
   "language": "python",
   "name": "solar"
  },
  "language_info": {
   "codemirror_mode": {
    "name": "ipython",
    "version": 3
   },
   "file_extension": ".py",
   "mimetype": "text/x-python",
   "name": "python",
   "nbconvert_exporter": "python",
   "pygments_lexer": "ipython3",
   "version": "3.6.8"
  }
 },
 "nbformat": 4,
 "nbformat_minor": 2
}
