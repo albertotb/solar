{
 "cells": [
  {
   "cell_type": "code",
   "execution_count": 2,
   "metadata": {},
   "outputs": [],
   "source": [
    "import pandas as pd\n",
    "import numpy as np\n",
    "import feather\n",
    "\n",
    "df = feather.read_dataframe('/home/atorres/SHARED/SOLAR/data/oahu.feather')\n",
    "\n",
    "df1 = (df.replace(to_replace=-99999.0, value=np.nan)\n",
    "         .drop(columns=['Date', 'Seconds', 'Year', 'DOY', 'HST']))"
   ]
  },
  {
   "cell_type": "code",
   "execution_count": 3,
   "metadata": {},
   "outputs": [
    {
     "name": "stdout",
     "output_type": "stream",
     "text": [
      "(32022593, 20)\n",
      "GH_DH3      0.001686\n",
      "GH_DH4      0.001686\n",
      "GH_DH5      0.001686\n",
      "GH_DH10     0.001686\n",
      "GH_DH11     0.001686\n",
      "GH_DH9      0.001686\n",
      "GH_DH2      0.001686\n",
      "GH_DH1      0.002726\n",
      "GT_DH1      0.002726\n",
      "GH_AP6      0.000000\n",
      "GT_AP6      0.000000\n",
      "GH_AP1      0.000558\n",
      "GH_AP3      0.315256\n",
      "GH_AP5      0.000000\n",
      "GH_AP4      0.000000\n",
      "GH_AP7      0.001061\n",
      "GH_DH6      0.001686\n",
      "GH_DH7      0.001686\n",
      "GH_DH8      0.001686\n",
      "Datetime    0.000000\n",
      "dtype: float64\n"
     ]
    }
   ],
   "source": [
    "print(df1.shape)\n",
    "print(df1.isnull().mean())"
   ]
  },
  {
   "cell_type": "code",
   "execution_count": 4,
   "metadata": {
    "collapsed": true
   },
   "outputs": [],
   "source": [
    "df2 = (df1.set_index('Datetime')\n",
    "          .ffill())"
   ]
  },
  {
   "cell_type": "code",
   "execution_count": 5,
   "metadata": {},
   "outputs": [
    {
     "name": "stdout",
     "output_type": "stream",
     "text": [
      "GH_DH3     0.001686\n",
      "GH_DH4     0.001686\n",
      "GH_DH5     0.001686\n",
      "GH_DH10    0.001686\n",
      "GH_DH11    0.001686\n",
      "GH_DH9     0.001686\n",
      "GH_DH2     0.001686\n",
      "GH_DH1     0.002726\n",
      "GT_DH1     0.002726\n",
      "GH_AP6     0.000000\n",
      "GT_AP6     0.000000\n",
      "GH_AP1     0.000000\n",
      "GH_AP3     0.000000\n",
      "GH_AP5     0.000000\n",
      "GH_AP4     0.000000\n",
      "GH_AP7     0.000000\n",
      "GH_DH6     0.001686\n",
      "GH_DH7     0.001686\n",
      "GH_DH8     0.001686\n",
      "dtype: float64\n"
     ]
    }
   ],
   "source": [
    "print(df2.isnull().mean())"
   ]
  },
  {
   "cell_type": "code",
   "execution_count": 8,
   "metadata": {},
   "outputs": [
    {
     "data": {
      "text/plain": [
       "19    2134800\n",
       "18    2134800\n",
       "17    2134800\n",
       "16    2134800\n",
       "15    2134800\n",
       "14    2134800\n",
       "13    2134800\n",
       "12    2134800\n",
       "11    2134800\n",
       "10    2134800\n",
       "9     2134800\n",
       "8     2134800\n",
       "7     2134800\n",
       "6     2134800\n",
       "5     2134800\n",
       "20        593\n",
       "Name: Datetime, dtype: int64"
      ]
     },
     "execution_count": 8,
     "metadata": {},
     "output_type": "execute_result"
    }
   ],
   "source": [
    "df2.index.hour.value_counts()"
   ]
  },
  {
   "cell_type": "code",
   "execution_count": 55,
   "metadata": {},
   "outputs": [
    {
     "name": "stdout",
     "output_type": "stream",
     "text": [
      "(1786, 19)\n",
      "GH_DH3     0.301792\n",
      "GH_DH4     0.301792\n",
      "GH_DH5     0.301792\n",
      "GH_DH10    0.301792\n",
      "GH_DH11    0.301792\n",
      "GH_DH9     0.301792\n",
      "GH_DH2     0.301792\n",
      "GH_DH1     0.301792\n",
      "GT_DH1     0.301792\n",
      "GH_AP6     0.301792\n",
      "GT_AP6     0.301792\n",
      "GH_AP1     0.301792\n",
      "GH_AP3     0.301792\n",
      "GH_AP5     0.301792\n",
      "GH_AP4     0.301792\n",
      "GH_AP7     0.301792\n",
      "GH_DH6     0.301792\n",
      "GH_DH7     0.301792\n",
      "GH_DH8     0.301792\n",
      "dtype: float64\n"
     ]
    }
   ],
   "source": [
    "df3 = df2.loc['2010-03-18':'2010-03-20', :].dropna().resample('min').first()\n",
    "print(df3.shape)\n",
    "print(df3.isnull().mean())"
   ]
  },
  {
   "cell_type": "code",
   "execution_count": 28,
   "metadata": {
    "collapsed": true
   },
   "outputs": [],
   "source": [
    "df3 = df2.dropna().groupby(pd.Grouper(freq='min')).nth(0)"
   ]
  },
  {
   "cell_type": "code",
   "execution_count": 29,
   "metadata": {},
   "outputs": [
    {
     "name": "stdout",
     "output_type": "stream",
     "text": [
      "(532837, 19)\n",
      "GH_DH3     0.0\n",
      "GH_DH4     0.0\n",
      "GH_DH5     0.0\n",
      "GH_DH10    0.0\n",
      "GH_DH11    0.0\n",
      "GH_DH9     0.0\n",
      "GH_DH2     0.0\n",
      "GH_DH1     0.0\n",
      "GT_DH1     0.0\n",
      "GH_AP6     0.0\n",
      "GT_AP6     0.0\n",
      "GH_AP1     0.0\n",
      "GH_AP3     0.0\n",
      "GH_AP5     0.0\n",
      "GH_AP4     0.0\n",
      "GH_AP7     0.0\n",
      "GH_DH6     0.0\n",
      "GH_DH7     0.0\n",
      "GH_DH8     0.0\n",
      "dtype: float64\n"
     ]
    }
   ],
   "source": [
    "print(df3.shape)\n",
    "print(df3.isnull().mean())"
   ]
  },
  {
   "cell_type": "code",
   "execution_count": 20,
   "metadata": {},
   "outputs": [
    {
     "data": {
      "text/plain": [
       "19    35520\n",
       "18    35520\n",
       "17    35520\n",
       "16    35520\n",
       "15    35520\n",
       "14    35505\n",
       "13    35460\n",
       "12    35460\n",
       "11    35460\n",
       "10    35460\n",
       "9     35460\n",
       "8     35460\n",
       "7     35460\n",
       "6     35460\n",
       "5     35460\n",
       "20      592\n",
       "Name: Datetime, dtype: int64"
      ]
     },
     "execution_count": 20,
     "metadata": {},
     "output_type": "execute_result"
    }
   ],
   "source": [
    "df3.index.hour.value_counts()"
   ]
  },
  {
   "cell_type": "code",
   "execution_count": 41,
   "metadata": {},
   "outputs": [],
   "source": [
    "s = df1.set_index('Datetime').iloc[(100000-39-60):(100000-39-60+181), 0]"
   ]
  },
  {
   "cell_type": "code",
   "execution_count": 43,
   "metadata": {},
   "outputs": [
    {
     "data": {
      "text/plain": [
       "Datetime\n",
       "2010-03-19 17:45:00    173.609\n",
       "2010-03-19 17:46:00    168.891\n",
       "2010-03-19 17:47:00    164.174\n",
       "2010-03-19 17:48:00    159.456\n",
       "Freq: T, Name: GH_DH3, dtype: float64"
      ]
     },
     "execution_count": 43,
     "metadata": {},
     "output_type": "execute_result"
    }
   ],
   "source": [
    "s.resample('min').first()"
   ]
  },
  {
   "cell_type": "code",
   "execution_count": 86,
   "metadata": {},
   "outputs": [],
   "source": [
    "df4 = df2.loc['2010-03-19':'2010-03-20', 'GH_DH3']"
   ]
  },
  {
   "cell_type": "code",
   "execution_count": 87,
   "metadata": {},
   "outputs": [],
   "source": [
    "df5 = df4.resample('min').first()"
   ]
  },
  {
   "cell_type": "code",
   "execution_count": 88,
   "metadata": {
    "collapsed": true
   },
   "outputs": [],
   "source": [
    "df6 = df4.groupby(pd.Grouper(freq='min')).nth(0)"
   ]
  },
  {
   "cell_type": "code",
   "execution_count": 90,
   "metadata": {},
   "outputs": [
    {
     "name": "stdout",
     "output_type": "stream",
     "text": [
      "(108002,)\n",
      "0.0\n",
      "(2341,)\n",
      "0.23024348568987613\n",
      "(1802,)\n",
      "0.0\n",
      "(1802,)\n"
     ]
    }
   ],
   "source": [
    "print(df4.shape)\n",
    "print(df4.isnull().mean())\n",
    "\n",
    "print(df5.shape)\n",
    "print(df5.isnull().mean())\n",
    "\n",
    "print(df6.shape)\n",
    "print(df6.isnull().mean())\n",
    "\n",
    "print(df5.dropna().shape)"
   ]
  },
  {
   "cell_type": "code",
   "execution_count": 92,
   "metadata": {},
   "outputs": [
    {
     "data": {
      "text/plain": [
       "5     120\n",
       "7     120\n",
       "12    120\n",
       "14    120\n",
       "16    120\n",
       "18    120\n",
       "6     120\n",
       "8     120\n",
       "10    120\n",
       "9     120\n",
       "11    120\n",
       "13    120\n",
       "15    120\n",
       "17    120\n",
       "19    120\n",
       "20     61\n",
       "2      60\n",
       "4      60\n",
       "23     60\n",
       "22     60\n",
       "21     60\n",
       "1      60\n",
       "3      60\n",
       "0      60\n",
       "Name: Datetime, dtype: int64"
      ]
     },
     "execution_count": 92,
     "metadata": {},
     "output_type": "execute_result"
    }
   ],
   "source": [
    "df5.index.hour.value_counts()"
   ]
  },
  {
   "cell_type": "code",
   "execution_count": 96,
   "metadata": {},
   "outputs": [
    {
     "data": {
      "text/plain": [
       "Datetime\n",
       "2010-03-19 20:01:00   NaN\n",
       "2010-03-19 20:02:00   NaN\n",
       "2010-03-19 20:03:00   NaN\n",
       "2010-03-19 20:04:00   NaN\n",
       "2010-03-19 20:05:00   NaN\n",
       "2010-03-19 20:06:00   NaN\n",
       "2010-03-19 20:07:00   NaN\n",
       "2010-03-19 20:08:00   NaN\n",
       "2010-03-19 20:09:00   NaN\n",
       "2010-03-19 20:10:00   NaN\n",
       "2010-03-19 20:11:00   NaN\n",
       "2010-03-19 20:12:00   NaN\n",
       "2010-03-19 20:13:00   NaN\n",
       "2010-03-19 20:14:00   NaN\n",
       "2010-03-19 20:15:00   NaN\n",
       "2010-03-19 20:16:00   NaN\n",
       "2010-03-19 20:17:00   NaN\n",
       "2010-03-19 20:18:00   NaN\n",
       "2010-03-19 20:19:00   NaN\n",
       "2010-03-19 20:20:00   NaN\n",
       "2010-03-19 20:21:00   NaN\n",
       "2010-03-19 20:22:00   NaN\n",
       "2010-03-19 20:23:00   NaN\n",
       "2010-03-19 20:24:00   NaN\n",
       "2010-03-19 20:25:00   NaN\n",
       "2010-03-19 20:26:00   NaN\n",
       "2010-03-19 20:27:00   NaN\n",
       "2010-03-19 20:28:00   NaN\n",
       "2010-03-19 20:29:00   NaN\n",
       "2010-03-19 20:30:00   NaN\n",
       "                       ..\n",
       "2010-03-20 04:30:00   NaN\n",
       "2010-03-20 04:31:00   NaN\n",
       "2010-03-20 04:32:00   NaN\n",
       "2010-03-20 04:33:00   NaN\n",
       "2010-03-20 04:34:00   NaN\n",
       "2010-03-20 04:35:00   NaN\n",
       "2010-03-20 04:36:00   NaN\n",
       "2010-03-20 04:37:00   NaN\n",
       "2010-03-20 04:38:00   NaN\n",
       "2010-03-20 04:39:00   NaN\n",
       "2010-03-20 04:40:00   NaN\n",
       "2010-03-20 04:41:00   NaN\n",
       "2010-03-20 04:42:00   NaN\n",
       "2010-03-20 04:43:00   NaN\n",
       "2010-03-20 04:44:00   NaN\n",
       "2010-03-20 04:45:00   NaN\n",
       "2010-03-20 04:46:00   NaN\n",
       "2010-03-20 04:47:00   NaN\n",
       "2010-03-20 04:48:00   NaN\n",
       "2010-03-20 04:49:00   NaN\n",
       "2010-03-20 04:50:00   NaN\n",
       "2010-03-20 04:51:00   NaN\n",
       "2010-03-20 04:52:00   NaN\n",
       "2010-03-20 04:53:00   NaN\n",
       "2010-03-20 04:54:00   NaN\n",
       "2010-03-20 04:55:00   NaN\n",
       "2010-03-20 04:56:00   NaN\n",
       "2010-03-20 04:57:00   NaN\n",
       "2010-03-20 04:58:00   NaN\n",
       "2010-03-20 04:59:00   NaN\n",
       "Freq: T, Name: GH_DH3, Length: 539, dtype: float64"
      ]
     },
     "execution_count": 96,
     "metadata": {},
     "output_type": "execute_result"
    }
   ],
   "source": [
    "df5[df5.isnull()]"
   ]
  },
  {
   "cell_type": "code",
   "execution_count": null,
   "metadata": {
    "collapsed": true
   },
   "outputs": [],
   "source": []
  }
 ],
 "metadata": {
  "kernelspec": {
   "display_name": "Python 3",
   "language": "python",
   "name": "python3"
  },
  "language_info": {
   "codemirror_mode": {
    "name": "ipython",
    "version": 3
   },
   "file_extension": ".py",
   "mimetype": "text/x-python",
   "name": "python",
   "nbconvert_exporter": "python",
   "pygments_lexer": "ipython3",
   "version": "3.6.3"
  }
 },
 "nbformat": 4,
 "nbformat_minor": 2
}
