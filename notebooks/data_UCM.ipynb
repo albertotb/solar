{
 "cells": [
  {
   "cell_type": "code",
   "execution_count": 1,
   "metadata": {
    "collapsed": true
   },
   "outputs": [],
   "source": [
    "import pandas as pd\n",
    "import numpy as np"
   ]
  },
  {
   "cell_type": "code",
   "execution_count": 2,
   "metadata": {
    "collapsed": true
   },
   "outputs": [],
   "source": [
    "PATH = '/home/SHARED/SOLAR/matrices'"
   ]
  },
  {
   "cell_type": "code",
   "execution_count": 3,
   "metadata": {},
   "outputs": [],
   "source": [
    "X_train = pd.read_csv('{}/train_validation/X_tr_val.csv'.format(PATH))\n",
    "y_train = pd.read_csv('{}/train_validation/Y_tr_val.csv'.format(PATH))"
   ]
  },
  {
   "cell_type": "code",
   "execution_count": 4,
   "metadata": {},
   "outputs": [],
   "source": [
    "X_test = pd.read_csv('{}/test/X_test.csv'.format(PATH))\n",
    "y_test = pd.read_csv('{}/test/Y_test.csv'.format(PATH))"
   ]
  },
  {
   "cell_type": "code",
   "execution_count": 5,
   "metadata": {},
   "outputs": [
    {
     "data": {
      "text/plain": [
       "(1790808, 50)"
      ]
     },
     "execution_count": 5,
     "metadata": {},
     "output_type": "execute_result"
    }
   ],
   "source": [
    "X_train.shape"
   ]
  },
  {
   "cell_type": "code",
   "execution_count": 6,
   "metadata": {},
   "outputs": [
    {
     "data": {
      "text/plain": [
       "(1790808, 1)"
      ]
     },
     "execution_count": 6,
     "metadata": {},
     "output_type": "execute_result"
    }
   ],
   "source": [
    "y_train.shape"
   ]
  },
  {
   "cell_type": "code",
   "execution_count": 8,
   "metadata": {},
   "outputs": [
    {
     "data": {
      "text/html": [
       "<div>\n",
       "<style scoped>\n",
       "    .dataframe tbody tr th:only-of-type {\n",
       "        vertical-align: middle;\n",
       "    }\n",
       "\n",
       "    .dataframe tbody tr th {\n",
       "        vertical-align: top;\n",
       "    }\n",
       "\n",
       "    .dataframe thead th {\n",
       "        text-align: right;\n",
       "    }\n",
       "</style>\n",
       "<table border=\"1\" class=\"dataframe\">\n",
       "  <thead>\n",
       "    <tr style=\"text-align: right;\">\n",
       "      <th></th>\n",
       "      <th>ap1_rel_ns0</th>\n",
       "      <th>ap1_rel_ns1</th>\n",
       "      <th>ap1_rel_ns2</th>\n",
       "      <th>ap4_rel_ns0</th>\n",
       "      <th>ap4_rel_ns1</th>\n",
       "      <th>ap4_rel_ns2</th>\n",
       "      <th>ap5_rel_ns0</th>\n",
       "      <th>ap5_rel_ns1</th>\n",
       "      <th>ap5_rel_ns2</th>\n",
       "      <th>ap6_rel_ns0</th>\n",
       "      <th>...</th>\n",
       "      <th>dh9_rel_ns1</th>\n",
       "      <th>dh9_rel_ns2</th>\n",
       "      <th>dh10_rel_ns0</th>\n",
       "      <th>dh10_rel_ns1</th>\n",
       "      <th>dh10_rel_ns2</th>\n",
       "      <th>dh11_rel_ns0</th>\n",
       "      <th>dh11_rel_ns1</th>\n",
       "      <th>dh11_rel_ns2</th>\n",
       "      <th>elevation</th>\n",
       "      <th>azimut</th>\n",
       "    </tr>\n",
       "  </thead>\n",
       "  <tbody>\n",
       "    <tr>\n",
       "      <th>0</th>\n",
       "      <td>0.52726</td>\n",
       "      <td>0.53004</td>\n",
       "      <td>0.53213</td>\n",
       "      <td>0.50775</td>\n",
       "      <td>0.51230</td>\n",
       "      <td>0.51711</td>\n",
       "      <td>0.52005</td>\n",
       "      <td>0.52365</td>\n",
       "      <td>0.52726</td>\n",
       "      <td>0.49682</td>\n",
       "      <td>...</td>\n",
       "      <td>0.50054</td>\n",
       "      <td>0.50100</td>\n",
       "      <td>0.53873</td>\n",
       "      <td>0.53988</td>\n",
       "      <td>0.54103</td>\n",
       "      <td>0.53131</td>\n",
       "      <td>0.53331</td>\n",
       "      <td>0.53445</td>\n",
       "      <td>0.18812</td>\n",
       "      <td>0.29707</td>\n",
       "    </tr>\n",
       "    <tr>\n",
       "      <th>1</th>\n",
       "      <td>0.52543</td>\n",
       "      <td>0.52726</td>\n",
       "      <td>0.53004</td>\n",
       "      <td>0.50390</td>\n",
       "      <td>0.50775</td>\n",
       "      <td>0.51230</td>\n",
       "      <td>0.51658</td>\n",
       "      <td>0.52005</td>\n",
       "      <td>0.52365</td>\n",
       "      <td>0.49263</td>\n",
       "      <td>...</td>\n",
       "      <td>0.50054</td>\n",
       "      <td>0.50054</td>\n",
       "      <td>0.53654</td>\n",
       "      <td>0.53873</td>\n",
       "      <td>0.53988</td>\n",
       "      <td>0.52869</td>\n",
       "      <td>0.53131</td>\n",
       "      <td>0.53331</td>\n",
       "      <td>0.18855</td>\n",
       "      <td>0.29704</td>\n",
       "    </tr>\n",
       "    <tr>\n",
       "      <th>2</th>\n",
       "      <td>0.52267</td>\n",
       "      <td>0.52543</td>\n",
       "      <td>0.52726</td>\n",
       "      <td>0.50031</td>\n",
       "      <td>0.50390</td>\n",
       "      <td>0.50775</td>\n",
       "      <td>0.51338</td>\n",
       "      <td>0.51658</td>\n",
       "      <td>0.52005</td>\n",
       "      <td>0.48871</td>\n",
       "      <td>...</td>\n",
       "      <td>0.49948</td>\n",
       "      <td>0.50054</td>\n",
       "      <td>0.53413</td>\n",
       "      <td>0.53654</td>\n",
       "      <td>0.53873</td>\n",
       "      <td>0.52732</td>\n",
       "      <td>0.52869</td>\n",
       "      <td>0.53131</td>\n",
       "      <td>0.18897</td>\n",
       "      <td>0.29701</td>\n",
       "    </tr>\n",
       "    <tr>\n",
       "      <th>3</th>\n",
       "      <td>0.52086</td>\n",
       "      <td>0.52267</td>\n",
       "      <td>0.52543</td>\n",
       "      <td>0.49753</td>\n",
       "      <td>0.50031</td>\n",
       "      <td>0.50390</td>\n",
       "      <td>0.51032</td>\n",
       "      <td>0.51338</td>\n",
       "      <td>0.51658</td>\n",
       "      <td>0.48543</td>\n",
       "      <td>...</td>\n",
       "      <td>0.49842</td>\n",
       "      <td>0.49948</td>\n",
       "      <td>0.53300</td>\n",
       "      <td>0.53413</td>\n",
       "      <td>0.53654</td>\n",
       "      <td>0.52448</td>\n",
       "      <td>0.52732</td>\n",
       "      <td>0.52869</td>\n",
       "      <td>0.18940</td>\n",
       "      <td>0.29697</td>\n",
       "    </tr>\n",
       "    <tr>\n",
       "      <th>4</th>\n",
       "      <td>0.51930</td>\n",
       "      <td>0.52086</td>\n",
       "      <td>0.52267</td>\n",
       "      <td>0.49499</td>\n",
       "      <td>0.49753</td>\n",
       "      <td>0.50031</td>\n",
       "      <td>0.50739</td>\n",
       "      <td>0.51032</td>\n",
       "      <td>0.51338</td>\n",
       "      <td>0.48254</td>\n",
       "      <td>...</td>\n",
       "      <td>0.49736</td>\n",
       "      <td>0.49842</td>\n",
       "      <td>0.53188</td>\n",
       "      <td>0.53300</td>\n",
       "      <td>0.53413</td>\n",
       "      <td>0.52276</td>\n",
       "      <td>0.52448</td>\n",
       "      <td>0.52732</td>\n",
       "      <td>0.18983</td>\n",
       "      <td>0.29694</td>\n",
       "    </tr>\n",
       "  </tbody>\n",
       "</table>\n",
       "<p>5 rows × 50 columns</p>\n",
       "</div>"
      ],
      "text/plain": [
       "   ap1_rel_ns0  ap1_rel_ns1  ap1_rel_ns2  ap4_rel_ns0  ap4_rel_ns1  \\\n",
       "0      0.52726      0.53004      0.53213      0.50775      0.51230   \n",
       "1      0.52543      0.52726      0.53004      0.50390      0.50775   \n",
       "2      0.52267      0.52543      0.52726      0.50031      0.50390   \n",
       "3      0.52086      0.52267      0.52543      0.49753      0.50031   \n",
       "4      0.51930      0.52086      0.52267      0.49499      0.49753   \n",
       "\n",
       "   ap4_rel_ns2  ap5_rel_ns0  ap5_rel_ns1  ap5_rel_ns2  ap6_rel_ns0  ...  \\\n",
       "0      0.51711      0.52005      0.52365      0.52726      0.49682  ...   \n",
       "1      0.51230      0.51658      0.52005      0.52365      0.49263  ...   \n",
       "2      0.50775      0.51338      0.51658      0.52005      0.48871  ...   \n",
       "3      0.50390      0.51032      0.51338      0.51658      0.48543  ...   \n",
       "4      0.50031      0.50739      0.51032      0.51338      0.48254  ...   \n",
       "\n",
       "   dh9_rel_ns1  dh9_rel_ns2  dh10_rel_ns0  dh10_rel_ns1  dh10_rel_ns2  \\\n",
       "0      0.50054      0.50100       0.53873       0.53988       0.54103   \n",
       "1      0.50054      0.50054       0.53654       0.53873       0.53988   \n",
       "2      0.49948      0.50054       0.53413       0.53654       0.53873   \n",
       "3      0.49842      0.49948       0.53300       0.53413       0.53654   \n",
       "4      0.49736      0.49842       0.53188       0.53300       0.53413   \n",
       "\n",
       "   dh11_rel_ns0  dh11_rel_ns1  dh11_rel_ns2  elevation   azimut  \n",
       "0       0.53131       0.53331       0.53445    0.18812  0.29707  \n",
       "1       0.52869       0.53131       0.53331    0.18855  0.29704  \n",
       "2       0.52732       0.52869       0.53131    0.18897  0.29701  \n",
       "3       0.52448       0.52732       0.52869    0.18940  0.29697  \n",
       "4       0.52276       0.52448       0.52732    0.18983  0.29694  \n",
       "\n",
       "[5 rows x 50 columns]"
      ]
     },
     "execution_count": 8,
     "metadata": {},
     "output_type": "execute_result"
    }
   ],
   "source": [
    "X_train.head()"
   ]
  },
  {
   "cell_type": "code",
   "execution_count": null,
   "metadata": {
    "collapsed": true
   },
   "outputs": [],
   "source": []
  }
 ],
 "metadata": {
  "kernelspec": {
   "display_name": "Python 3",
   "language": "python",
   "name": "python3"
  },
  "language_info": {
   "codemirror_mode": {
    "name": "ipython",
    "version": 3
   },
   "file_extension": ".py",
   "mimetype": "text/x-python",
   "name": "python",
   "nbconvert_exporter": "python",
   "pygments_lexer": "ipython3",
   "version": "3.6.3"
  }
 },
 "nbformat": 4,
 "nbformat_minor": 2
}
