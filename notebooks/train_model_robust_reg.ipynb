{
 "cells": [
  {
   "cell_type": "markdown",
   "metadata": {},
   "source": [
    "# Build train and test matrices"
   ]
  },
  {
   "cell_type": "code",
   "execution_count": 35,
   "metadata": {
    "collapsed": true
   },
   "outputs": [],
   "source": [
    "import pandas as pd\n",
    "import numpy as np\n",
    "import feather\n",
    "\n",
    "df = (feather.read_dataframe('/home/SHARED/SOLAR/data/oahu_min.feather')\n",
    "             .set_index('Datetime'))"
   ]
  },
  {
   "cell_type": "code",
   "execution_count": 36,
   "metadata": {},
   "outputs": [
    {
     "data": {
      "text/html": [
       "<div>\n",
       "<style scoped>\n",
       "    .dataframe tbody tr th:only-of-type {\n",
       "        vertical-align: middle;\n",
       "    }\n",
       "\n",
       "    .dataframe tbody tr th {\n",
       "        vertical-align: top;\n",
       "    }\n",
       "\n",
       "    .dataframe thead th {\n",
       "        text-align: right;\n",
       "    }\n",
       "</style>\n",
       "<table border=\"1\" class=\"dataframe\">\n",
       "  <thead>\n",
       "    <tr style=\"text-align: right;\">\n",
       "      <th></th>\n",
       "      <th>GH_DH3</th>\n",
       "      <th>GH_DH4</th>\n",
       "      <th>GH_DH5</th>\n",
       "      <th>GH_DH10</th>\n",
       "      <th>GH_DH11</th>\n",
       "      <th>GH_DH9</th>\n",
       "      <th>GH_DH2</th>\n",
       "      <th>GH_DH1</th>\n",
       "      <th>GT_DH1</th>\n",
       "      <th>GH_AP6</th>\n",
       "      <th>GT_AP6</th>\n",
       "      <th>GH_AP1</th>\n",
       "      <th>GH_AP3</th>\n",
       "      <th>GH_AP5</th>\n",
       "      <th>GH_AP4</th>\n",
       "      <th>GH_AP7</th>\n",
       "      <th>GH_DH6</th>\n",
       "      <th>GH_DH7</th>\n",
       "      <th>GH_DH8</th>\n",
       "    </tr>\n",
       "    <tr>\n",
       "      <th>Datetime</th>\n",
       "      <th></th>\n",
       "      <th></th>\n",
       "      <th></th>\n",
       "      <th></th>\n",
       "      <th></th>\n",
       "      <th></th>\n",
       "      <th></th>\n",
       "      <th></th>\n",
       "      <th></th>\n",
       "      <th></th>\n",
       "      <th></th>\n",
       "      <th></th>\n",
       "      <th></th>\n",
       "      <th></th>\n",
       "      <th></th>\n",
       "      <th></th>\n",
       "      <th></th>\n",
       "      <th></th>\n",
       "      <th></th>\n",
       "    </tr>\n",
       "  </thead>\n",
       "  <tbody>\n",
       "    <tr>\n",
       "      <th>2010-03-19 14:15:00</th>\n",
       "      <td>593.280</td>\n",
       "      <td>772.944</td>\n",
       "      <td>494.340</td>\n",
       "      <td>965.019</td>\n",
       "      <td>547.240</td>\n",
       "      <td>1020.850</td>\n",
       "      <td>407.945</td>\n",
       "      <td>382.189</td>\n",
       "      <td>361.729</td>\n",
       "      <td>353.928</td>\n",
       "      <td>343.313</td>\n",
       "      <td>476.328</td>\n",
       "      <td>382.777</td>\n",
       "      <td>390.092</td>\n",
       "      <td>351.610</td>\n",
       "      <td>354.152</td>\n",
       "      <td>1107.310</td>\n",
       "      <td>497.199</td>\n",
       "      <td>659.911</td>\n",
       "    </tr>\n",
       "    <tr>\n",
       "      <th>2010-03-19 14:16:00</th>\n",
       "      <td>363.136</td>\n",
       "      <td>360.969</td>\n",
       "      <td>331.889</td>\n",
       "      <td>633.846</td>\n",
       "      <td>412.742</td>\n",
       "      <td>453.608</td>\n",
       "      <td>330.478</td>\n",
       "      <td>690.880</td>\n",
       "      <td>702.998</td>\n",
       "      <td>336.387</td>\n",
       "      <td>315.673</td>\n",
       "      <td>336.512</td>\n",
       "      <td>331.889</td>\n",
       "      <td>334.530</td>\n",
       "      <td>338.346</td>\n",
       "      <td>362.713</td>\n",
       "      <td>1078.800</td>\n",
       "      <td>530.448</td>\n",
       "      <td>1156.020</td>\n",
       "    </tr>\n",
       "    <tr>\n",
       "      <th>2010-03-19 14:17:00</th>\n",
       "      <td>320.692</td>\n",
       "      <td>325.264</td>\n",
       "      <td>343.064</td>\n",
       "      <td>319.268</td>\n",
       "      <td>318.324</td>\n",
       "      <td>314.508</td>\n",
       "      <td>513.484</td>\n",
       "      <td>1132.580</td>\n",
       "      <td>1176.440</td>\n",
       "      <td>407.717</td>\n",
       "      <td>373.860</td>\n",
       "      <td>335.044</td>\n",
       "      <td>431.793</td>\n",
       "      <td>334.528</td>\n",
       "      <td>369.882</td>\n",
       "      <td>555.355</td>\n",
       "      <td>331.587</td>\n",
       "      <td>363.059</td>\n",
       "      <td>329.172</td>\n",
       "    </tr>\n",
       "    <tr>\n",
       "      <th>2010-03-19 14:18:00</th>\n",
       "      <td>1213.910</td>\n",
       "      <td>1156.670</td>\n",
       "      <td>1161.930</td>\n",
       "      <td>595.967</td>\n",
       "      <td>511.785</td>\n",
       "      <td>1178.340</td>\n",
       "      <td>1140.330</td>\n",
       "      <td>1132.940</td>\n",
       "      <td>1174.390</td>\n",
       "      <td>1087.110</td>\n",
       "      <td>1064.840</td>\n",
       "      <td>1160.360</td>\n",
       "      <td>1177.520</td>\n",
       "      <td>1094.640</td>\n",
       "      <td>1194.570</td>\n",
       "      <td>1160.130</td>\n",
       "      <td>853.309</td>\n",
       "      <td>1151.470</td>\n",
       "      <td>365.224</td>\n",
       "    </tr>\n",
       "    <tr>\n",
       "      <th>2010-03-19 14:19:00</th>\n",
       "      <td>1174.300</td>\n",
       "      <td>1140.190</td>\n",
       "      <td>1145.850</td>\n",
       "      <td>1138.180</td>\n",
       "      <td>1143.040</td>\n",
       "      <td>1165.140</td>\n",
       "      <td>1134.990</td>\n",
       "      <td>1128.280</td>\n",
       "      <td>1170.710</td>\n",
       "      <td>1197.790</td>\n",
       "      <td>1204.110</td>\n",
       "      <td>1142.380</td>\n",
       "      <td>1149.080</td>\n",
       "      <td>1162.150</td>\n",
       "      <td>1150.490</td>\n",
       "      <td>333.524</td>\n",
       "      <td>1153.340</td>\n",
       "      <td>1144.970</td>\n",
       "      <td>1142.700</td>\n",
       "    </tr>\n",
       "  </tbody>\n",
       "</table>\n",
       "</div>"
      ],
      "text/plain": [
       "                       GH_DH3    GH_DH4    GH_DH5   GH_DH10   GH_DH11  \\\n",
       "Datetime                                                                \n",
       "2010-03-19 14:15:00   593.280   772.944   494.340   965.019   547.240   \n",
       "2010-03-19 14:16:00   363.136   360.969   331.889   633.846   412.742   \n",
       "2010-03-19 14:17:00   320.692   325.264   343.064   319.268   318.324   \n",
       "2010-03-19 14:18:00  1213.910  1156.670  1161.930   595.967   511.785   \n",
       "2010-03-19 14:19:00  1174.300  1140.190  1145.850  1138.180  1143.040   \n",
       "\n",
       "                       GH_DH9    GH_DH2    GH_DH1    GT_DH1    GH_AP6  \\\n",
       "Datetime                                                                \n",
       "2010-03-19 14:15:00  1020.850   407.945   382.189   361.729   353.928   \n",
       "2010-03-19 14:16:00   453.608   330.478   690.880   702.998   336.387   \n",
       "2010-03-19 14:17:00   314.508   513.484  1132.580  1176.440   407.717   \n",
       "2010-03-19 14:18:00  1178.340  1140.330  1132.940  1174.390  1087.110   \n",
       "2010-03-19 14:19:00  1165.140  1134.990  1128.280  1170.710  1197.790   \n",
       "\n",
       "                       GT_AP6    GH_AP1    GH_AP3    GH_AP5    GH_AP4  \\\n",
       "Datetime                                                                \n",
       "2010-03-19 14:15:00   343.313   476.328   382.777   390.092   351.610   \n",
       "2010-03-19 14:16:00   315.673   336.512   331.889   334.530   338.346   \n",
       "2010-03-19 14:17:00   373.860   335.044   431.793   334.528   369.882   \n",
       "2010-03-19 14:18:00  1064.840  1160.360  1177.520  1094.640  1194.570   \n",
       "2010-03-19 14:19:00  1204.110  1142.380  1149.080  1162.150  1150.490   \n",
       "\n",
       "                       GH_AP7    GH_DH6    GH_DH7    GH_DH8  \n",
       "Datetime                                                     \n",
       "2010-03-19 14:15:00   354.152  1107.310   497.199   659.911  \n",
       "2010-03-19 14:16:00   362.713  1078.800   530.448  1156.020  \n",
       "2010-03-19 14:17:00   555.355   331.587   363.059   329.172  \n",
       "2010-03-19 14:18:00  1160.130   853.309  1151.470   365.224  \n",
       "2010-03-19 14:19:00   333.524  1153.340  1144.970  1142.700  "
      ]
     },
     "execution_count": 36,
     "metadata": {},
     "output_type": "execute_result"
    }
   ],
   "source": [
    "df.head()"
   ]
  },
  {
   "cell_type": "code",
   "execution_count": 37,
   "metadata": {
    "collapsed": true
   },
   "outputs": [],
   "source": [
    "# https://stackoverflow.com/questions/15722324/sliding-window-in-numpy\n",
    "def window_stack_forward(a, stepsize=1, width=3):\n",
    "    return np.hstack( a[i:1+i-width or None:stepsize] for i in range(0, width) )"
   ]
  },
  {
   "cell_type": "code",
   "execution_count": 38,
   "metadata": {
    "collapsed": true
   },
   "outputs": [],
   "source": [
    "# I feel this function can also be done for pd.DataFrame\n",
    "def window_stack(a, width=3):\n",
    "    n = a.shape[0]\n",
    "    return np.hstack(list(a[(width-1-i):(n-i)] for i in range(0, width)))"
   ]
  },
  {
   "cell_type": "code",
   "execution_count": 64,
   "metadata": {
    "collapsed": true
   },
   "outputs": [],
   "source": [
    "# In pandas 0.24, use df.to_numpy() instead of df.values. Also care with non-numeric columns\n",
    "width = 2\n",
    "a = window_stack(df.values, width=width)"
   ]
  },
  {
   "cell_type": "code",
   "execution_count": 65,
   "metadata": {
    "collapsed": true
   },
   "outputs": [],
   "source": [
    "times   = [ ('t' if not idx else 't-{:d}'.format(idx)) for idx in range(width) ]\n",
    "columns = pd.MultiIndex.from_product((times, df.columns), names=('time', 'location'))"
   ]
  },
  {
   "cell_type": "code",
   "execution_count": 66,
   "metadata": {
    "collapsed": true
   },
   "outputs": [],
   "source": [
    "# Convert back to DataFrame, just for convenience of having indexes\n",
    "df_roll = pd.DataFrame(a, index=df.index[width-1:], columns=columns)"
   ]
  },
  {
   "cell_type": "code",
   "execution_count": 67,
   "metadata": {
    "collapsed": true
   },
   "outputs": [],
   "source": [
    "# Split target (time t) and variables (times t-1 to t-width+1)\n",
    "y = df_roll['t']\n",
    "X = df_roll.drop(columns='t', level='time')"
   ]
  },
  {
   "cell_type": "code",
   "execution_count": 68,
   "metadata": {
    "collapsed": true
   },
   "outputs": [],
   "source": [
    "# Split train-test, approximately 12 and 4 months respectively\n",
    "X_train, X_test = X[:'2011-07-31'], X['2011-08-01':]\n",
    "y_train, y_test = y[:'2011-07-31'], y['2011-08-01':]"
   ]
  },
  {
   "cell_type": "code",
   "execution_count": 69,
   "metadata": {},
   "outputs": [
    {
     "name": "stdout",
     "output_type": "stream",
     "text": [
      "(449944, 19)\n",
      "(82892, 19)\n",
      "(449944, 19)\n",
      "(82892, 19)\n"
     ]
    }
   ],
   "source": [
    "print(X_train.shape)\n",
    "print(X_test.shape)\n",
    "print(y_train.shape)\n",
    "print(y_test.shape)"
   ]
  },
  {
   "cell_type": "markdown",
   "metadata": {},
   "source": [
    "# Train Robust Regression model"
   ]
  },
  {
   "cell_type": "code",
   "execution_count": 71,
   "metadata": {},
   "outputs": [
    {
     "name": "stdout",
     "output_type": "stream",
     "text": [
      "54.439773944320734\n"
     ]
    }
   ],
   "source": [
    "from sklearn.linear_model import (\n",
    "    LinearRegression, TheilSenRegressor, RANSACRegressor, HuberRegressor)\n",
    "from sklearn.pipeline import make_pipeline\n",
    "##\n",
    "from sklearn.metrics import mean_absolute_error\n",
    "from sklearn.model_selection import TimeSeriesSplit\n",
    "\n",
    "estimators = [('HuberRegressor', HuberRegressor())]\n",
    "\n",
    "for name, estimator in estimators:\n",
    "        model = estimator\n",
    "        model.fit(X, y.GH_DH11)\n",
    "        mae = mean_absolute_error(model.predict(X_test), y_test.GH_AP1)\n",
    "        print(mae)"
   ]
  },
  {
   "cell_type": "code",
   "execution_count": 72,
   "metadata": {},
   "outputs": [
    {
     "data": {
      "text/plain": [
       "MultiOutputRegressor(estimator=HuberRegressor(alpha=0.0001, epsilon=1.35, fit_intercept=True, max_iter=100,\n",
       "        tol=1e-05, warm_start=False),\n",
       "           n_jobs=1)"
      ]
     },
     "execution_count": 72,
     "metadata": {},
     "output_type": "execute_result"
    }
   ],
   "source": [
    "from sklearn.linear_model import MultiTaskElasticNetCV\n",
    "from sklearn.multioutput import MultiOutputRegressor\n",
    "\n",
    "huber_reg = MultiOutputRegressor(HuberRegressor())\n",
    "huber_reg.fit(X_train, y_train)"
   ]
  },
  {
   "cell_type": "code",
   "execution_count": 73,
   "metadata": {
    "collapsed": true
   },
   "outputs": [],
   "source": [
    "y_test_pred = pd.DataFrame(huber_reg.predict(X_test), index=y_test.index, columns=y_test.columns)"
   ]
  },
  {
   "cell_type": "code",
   "execution_count": 74,
   "metadata": {
    "collapsed": true
   },
   "outputs": [],
   "source": [
    "res = pd.concat((y_test, y_test_pred), axis=1, keys=['Actual', 'Pred'])"
   ]
  },
  {
   "cell_type": "code",
   "execution_count": 75,
   "metadata": {
    "scrolled": false
   },
   "outputs": [
    {
     "data": {
      "text/plain": [
       "location\n",
       "GH_AP3      3.569474\n",
       "GT_DH1     41.994406\n",
       "GH_AP5     42.463516\n",
       "GH_DH8     42.530231\n",
       "GH_DH11    43.688298\n",
       "GH_DH6     44.380105\n",
       "GT_AP6     44.657527\n",
       "GH_DH9     44.734481\n",
       "GH_DH10    44.886628\n",
       "GH_DH7     47.039244\n",
       "GH_DH4     48.944709\n",
       "GH_AP1     49.950864\n",
       "GH_DH5     51.607809\n",
       "GH_DH1     51.899124\n",
       "GH_DH3     52.270199\n",
       "GH_DH2     52.747690\n",
       "GH_AP4     53.320186\n",
       "GH_AP7     56.597601\n",
       "GH_AP6     57.321147\n",
       "dtype: float64"
      ]
     },
     "execution_count": 75,
     "metadata": {},
     "output_type": "execute_result"
    }
   ],
   "source": [
    "res.stack(level='location').groupby('location').apply(lambda s: mean_absolute_error(s['Actual'], s['Pred'])).sort_values()"
   ]
  },
  {
   "cell_type": "code",
   "execution_count": null,
   "metadata": {
    "collapsed": true
   },
   "outputs": [],
   "source": []
  }
 ],
 "metadata": {
  "kernelspec": {
   "display_name": "Python 3",
   "language": "python",
   "name": "python3"
  },
  "language_info": {
   "codemirror_mode": {
    "name": "ipython",
    "version": 3
   },
   "file_extension": ".py",
   "mimetype": "text/x-python",
   "name": "python",
   "nbconvert_exporter": "python",
   "pygments_lexer": "ipython3",
   "version": "3.6.3"
  }
 },
 "nbformat": 4,
 "nbformat_minor": 2
}
