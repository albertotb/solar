{
 "cells": [
  {
   "cell_type": "code",
   "execution_count": 1,
   "metadata": {
    "collapsed": true
   },
   "outputs": [],
   "source": [
    "import pandas as pd\n",
    "import numpy as np\n",
    "import pickle\n",
    "import matplotlib.pyplot as plt\n",
    "import seaborn as sns\n",
    "import glob\n",
    "%matplotlib inline"
   ]
  },
  {
   "cell_type": "code",
   "execution_count": 2,
   "metadata": {
    "collapsed": true
   },
   "outputs": [],
   "source": [
    "PATH = '../results'"
   ]
  },
  {
   "cell_type": "code",
   "execution_count": 3,
   "metadata": {},
   "outputs": [],
   "source": [
    "df_list = [ pd.read_pickle(file) for file in glob.glob('{}/*.pkl'.format(PATH)) ]"
   ]
  },
  {
   "cell_type": "code",
   "execution_count": 4,
   "metadata": {},
   "outputs": [],
   "source": [
    "res = pd.concat(df_list, sort=True, axis=1)"
   ]
  },
  {
   "cell_type": "code",
   "execution_count": 5,
   "metadata": {
    "collapsed": true
   },
   "outputs": [],
   "source": [
    "info = pd.read_pickle('/home/SHARED/SOLAR/data/info.pkl')"
   ]
  },
  {
   "cell_type": "code",
   "execution_count": 6,
   "metadata": {},
   "outputs": [],
   "source": [
    "data = info[['Latitude', 'Longitude']].join(res, how='inner').reset_index().rename({'index': 'Location'}, axis=1)"
   ]
  },
  {
   "cell_type": "code",
   "execution_count": 7,
   "metadata": {},
   "outputs": [
    {
     "data": {
      "text/html": [
       "<div>\n",
       "<style scoped>\n",
       "    .dataframe tbody tr th:only-of-type {\n",
       "        vertical-align: middle;\n",
       "    }\n",
       "\n",
       "    .dataframe tbody tr th {\n",
       "        vertical-align: top;\n",
       "    }\n",
       "\n",
       "    .dataframe thead th {\n",
       "        text-align: right;\n",
       "    }\n",
       "</style>\n",
       "<table border=\"1\" class=\"dataframe\">\n",
       "  <thead>\n",
       "    <tr style=\"text-align: right;\">\n",
       "      <th></th>\n",
       "      <th>Location</th>\n",
       "      <th>Latitude</th>\n",
       "      <th>Longitude</th>\n",
       "      <th>GPconstant_Conv2D_LSTM_3times</th>\n",
       "      <th>conv1D_lon</th>\n",
       "      <th>conv1D_lon_lat</th>\n",
       "      <th>GPconstant_LocCon2D_LSTM</th>\n",
       "      <th>GPtorch_LocCon2D_LSTM_periods9</th>\n",
       "    </tr>\n",
       "  </thead>\n",
       "  <tbody>\n",
       "    <tr>\n",
       "      <th>0</th>\n",
       "      <td>DH3</td>\n",
       "      <td>21.31236</td>\n",
       "      <td>-158.08463</td>\n",
       "      <td>0.084423</td>\n",
       "      <td>0.076607</td>\n",
       "      <td>0.076290</td>\n",
       "      <td>0.072774</td>\n",
       "      <td>0.081986</td>\n",
       "    </tr>\n",
       "    <tr>\n",
       "      <th>1</th>\n",
       "      <td>DH4</td>\n",
       "      <td>21.31303</td>\n",
       "      <td>-158.08505</td>\n",
       "      <td>0.081165</td>\n",
       "      <td>0.073832</td>\n",
       "      <td>0.075552</td>\n",
       "      <td>0.070560</td>\n",
       "      <td>0.078645</td>\n",
       "    </tr>\n",
       "    <tr>\n",
       "      <th>2</th>\n",
       "      <td>DH5</td>\n",
       "      <td>21.31357</td>\n",
       "      <td>-158.08424</td>\n",
       "      <td>0.084074</td>\n",
       "      <td>0.079791</td>\n",
       "      <td>0.078194</td>\n",
       "      <td>0.074141</td>\n",
       "      <td>0.083463</td>\n",
       "    </tr>\n",
       "    <tr>\n",
       "      <th>3</th>\n",
       "      <td>DH10</td>\n",
       "      <td>21.31183</td>\n",
       "      <td>-158.08554</td>\n",
       "      <td>0.075382</td>\n",
       "      <td>0.072230</td>\n",
       "      <td>0.073613</td>\n",
       "      <td>0.066954</td>\n",
       "      <td>0.074156</td>\n",
       "    </tr>\n",
       "    <tr>\n",
       "      <th>4</th>\n",
       "      <td>DH11</td>\n",
       "      <td>21.31042</td>\n",
       "      <td>-158.08530</td>\n",
       "      <td>0.075014</td>\n",
       "      <td>0.067408</td>\n",
       "      <td>0.066987</td>\n",
       "      <td>0.065842</td>\n",
       "      <td>0.073996</td>\n",
       "    </tr>\n",
       "    <tr>\n",
       "      <th>5</th>\n",
       "      <td>DH9</td>\n",
       "      <td>21.31268</td>\n",
       "      <td>-158.08688</td>\n",
       "      <td>0.075371</td>\n",
       "      <td>0.071434</td>\n",
       "      <td>0.071547</td>\n",
       "      <td>0.069958</td>\n",
       "      <td>0.076799</td>\n",
       "    </tr>\n",
       "    <tr>\n",
       "      <th>6</th>\n",
       "      <td>DH2</td>\n",
       "      <td>21.31451</td>\n",
       "      <td>-158.08534</td>\n",
       "      <td>0.089349</td>\n",
       "      <td>0.081243</td>\n",
       "      <td>0.084085</td>\n",
       "      <td>0.078675</td>\n",
       "      <td>0.086989</td>\n",
       "    </tr>\n",
       "    <tr>\n",
       "      <th>7</th>\n",
       "      <td>DH1</td>\n",
       "      <td>21.31533</td>\n",
       "      <td>-158.08700</td>\n",
       "      <td>0.603756</td>\n",
       "      <td>0.084343</td>\n",
       "      <td>0.084156</td>\n",
       "      <td>0.085600</td>\n",
       "      <td>0.091706</td>\n",
       "    </tr>\n",
       "    <tr>\n",
       "      <th>8</th>\n",
       "      <td>AP6</td>\n",
       "      <td>21.30812</td>\n",
       "      <td>-158.07935</td>\n",
       "      <td>0.105224</td>\n",
       "      <td>0.096274</td>\n",
       "      <td>0.096021</td>\n",
       "      <td>0.099207</td>\n",
       "      <td>0.106122</td>\n",
       "    </tr>\n",
       "    <tr>\n",
       "      <th>9</th>\n",
       "      <td>AP1</td>\n",
       "      <td>21.31276</td>\n",
       "      <td>-158.08389</td>\n",
       "      <td>0.080547</td>\n",
       "      <td>0.076775</td>\n",
       "      <td>0.077138</td>\n",
       "      <td>0.071073</td>\n",
       "      <td>0.079839</td>\n",
       "    </tr>\n",
       "    <tr>\n",
       "      <th>10</th>\n",
       "      <td>AP5</td>\n",
       "      <td>21.30983</td>\n",
       "      <td>-158.08249</td>\n",
       "      <td>0.072439</td>\n",
       "      <td>0.068812</td>\n",
       "      <td>0.069878</td>\n",
       "      <td>0.069007</td>\n",
       "      <td>0.079142</td>\n",
       "    </tr>\n",
       "    <tr>\n",
       "      <th>11</th>\n",
       "      <td>AP4</td>\n",
       "      <td>21.31141</td>\n",
       "      <td>-158.07947</td>\n",
       "      <td>0.088463</td>\n",
       "      <td>0.089975</td>\n",
       "      <td>0.092182</td>\n",
       "      <td>0.086244</td>\n",
       "      <td>0.094465</td>\n",
       "    </tr>\n",
       "    <tr>\n",
       "      <th>12</th>\n",
       "      <td>AP7</td>\n",
       "      <td>21.31478</td>\n",
       "      <td>-158.07785</td>\n",
       "      <td>0.100364</td>\n",
       "      <td>0.093904</td>\n",
       "      <td>0.094259</td>\n",
       "      <td>0.095933</td>\n",
       "      <td>0.108917</td>\n",
       "    </tr>\n",
       "    <tr>\n",
       "      <th>13</th>\n",
       "      <td>DH6</td>\n",
       "      <td>21.31179</td>\n",
       "      <td>-158.08678</td>\n",
       "      <td>0.076486</td>\n",
       "      <td>0.071633</td>\n",
       "      <td>0.070775</td>\n",
       "      <td>0.070165</td>\n",
       "      <td>0.078608</td>\n",
       "    </tr>\n",
       "    <tr>\n",
       "      <th>14</th>\n",
       "      <td>DH7</td>\n",
       "      <td>21.31418</td>\n",
       "      <td>-158.08685</td>\n",
       "      <td>0.084959</td>\n",
       "      <td>0.077141</td>\n",
       "      <td>0.078278</td>\n",
       "      <td>0.075046</td>\n",
       "      <td>0.082244</td>\n",
       "    </tr>\n",
       "    <tr>\n",
       "      <th>15</th>\n",
       "      <td>DH8</td>\n",
       "      <td>21.31034</td>\n",
       "      <td>-158.08675</td>\n",
       "      <td>0.078010</td>\n",
       "      <td>0.066924</td>\n",
       "      <td>0.067150</td>\n",
       "      <td>0.068040</td>\n",
       "      <td>0.073867</td>\n",
       "    </tr>\n",
       "  </tbody>\n",
       "</table>\n",
       "</div>"
      ],
      "text/plain": [
       "   Location  Latitude  Longitude  GPconstant_Conv2D_LSTM_3times  conv1D_lon  \\\n",
       "0       DH3  21.31236 -158.08463                       0.084423    0.076607   \n",
       "1       DH4  21.31303 -158.08505                       0.081165    0.073832   \n",
       "2       DH5  21.31357 -158.08424                       0.084074    0.079791   \n",
       "3      DH10  21.31183 -158.08554                       0.075382    0.072230   \n",
       "4      DH11  21.31042 -158.08530                       0.075014    0.067408   \n",
       "5       DH9  21.31268 -158.08688                       0.075371    0.071434   \n",
       "6       DH2  21.31451 -158.08534                       0.089349    0.081243   \n",
       "7       DH1  21.31533 -158.08700                       0.603756    0.084343   \n",
       "8       AP6  21.30812 -158.07935                       0.105224    0.096274   \n",
       "9       AP1  21.31276 -158.08389                       0.080547    0.076775   \n",
       "10      AP5  21.30983 -158.08249                       0.072439    0.068812   \n",
       "11      AP4  21.31141 -158.07947                       0.088463    0.089975   \n",
       "12      AP7  21.31478 -158.07785                       0.100364    0.093904   \n",
       "13      DH6  21.31179 -158.08678                       0.076486    0.071633   \n",
       "14      DH7  21.31418 -158.08685                       0.084959    0.077141   \n",
       "15      DH8  21.31034 -158.08675                       0.078010    0.066924   \n",
       "\n",
       "    conv1D_lon_lat  GPconstant_LocCon2D_LSTM  GPtorch_LocCon2D_LSTM_periods9  \n",
       "0         0.076290                  0.072774                        0.081986  \n",
       "1         0.075552                  0.070560                        0.078645  \n",
       "2         0.078194                  0.074141                        0.083463  \n",
       "3         0.073613                  0.066954                        0.074156  \n",
       "4         0.066987                  0.065842                        0.073996  \n",
       "5         0.071547                  0.069958                        0.076799  \n",
       "6         0.084085                  0.078675                        0.086989  \n",
       "7         0.084156                  0.085600                        0.091706  \n",
       "8         0.096021                  0.099207                        0.106122  \n",
       "9         0.077138                  0.071073                        0.079839  \n",
       "10        0.069878                  0.069007                        0.079142  \n",
       "11        0.092182                  0.086244                        0.094465  \n",
       "12        0.094259                  0.095933                        0.108917  \n",
       "13        0.070775                  0.070165                        0.078608  \n",
       "14        0.078278                  0.075046                        0.082244  \n",
       "15        0.067150                  0.068040                        0.073867  "
      ]
     },
     "execution_count": 7,
     "metadata": {},
     "output_type": "execute_result"
    }
   ],
   "source": [
    "data"
   ]
  },
  {
   "cell_type": "code",
   "execution_count": 8,
   "metadata": {
    "collapsed": true
   },
   "outputs": [],
   "source": [
    "data.to_csv('../results/all.csv', index=False)"
   ]
  },
  {
   "cell_type": "code",
   "execution_count": 9,
   "metadata": {},
   "outputs": [
    {
     "data": {
      "image/png": "[encoded data removed]",
      "text/plain": [
       "<Figure size 720x360 with 1 Axes>"
      ]
     },
     "metadata": {},
     "output_type": "display_data"
    }
   ],
   "source": [
    "plt.subplots(figsize=(10, 5))\n",
    "p = sns.scatterplot(x='Longitude', y='Latitude', hue='conv1D_lon_lat', size='conv1D_lon_lat', data=data, sizes=(20, 150))\n",
    "\n",
    "for idx, row in data.iterrows():\n",
    "     p.text(row['Longitude']-1.5e-4, row['Latitude'], row['Location'], \n",
    "            horizontalalignment='right', size='medium', color='black')"
   ]
  },
  {
   "cell_type": "code",
   "execution_count": null,
   "metadata": {
    "collapsed": true
   },
   "outputs": [],
   "source": []
  },
  {
   "cell_type": "code",
   "execution_count": null,
   "metadata": {
    "collapsed": true
   },
   "outputs": [],
   "source": []
  }
 ],
 "metadata": {
  "kernelspec": {
   "display_name": "Python 3",
   "language": "python",
   "name": "python3"
  },
  "language_info": {
   "codemirror_mode": {
    "name": "ipython",
    "version": 3
   },
   "file_extension": ".py",
   "mimetype": "text/x-python",
   "name": "python",
   "nbconvert_exporter": "python",
   "pygments_lexer": "ipython3",
   "version": "3.6.3"
  }
 },
 "nbformat": 4,
 "nbformat_minor": 2
}
