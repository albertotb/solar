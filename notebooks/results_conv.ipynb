{
 "cells": [
  {
   "cell_type": "code",
   "execution_count": 3,
   "metadata": {
    "collapsed": true
   },
   "outputs": [],
   "source": [
    "import pandas as pd\n",
    "import numpy as np\n",
    "import pickle\n",
    "import matplotlib.pyplot as plt\n",
    "import seaborn as sns\n",
    "%matplotlib inline"
   ]
  },
  {
   "cell_type": "code",
   "execution_count": 4,
   "metadata": {
    "collapsed": true
   },
   "outputs": [],
   "source": [
    "res  = pd.read_pickle('../results/conv1D.pkl')\n",
    "info = pd.read_pickle('/home/SHARED/SOLAR/data/info.pkl')"
   ]
  },
  {
   "cell_type": "code",
   "execution_count": 5,
   "metadata": {},
   "outputs": [
    {
     "data": {
      "text/html": [
       "<div>\n",
       "<style scoped>\n",
       "    .dataframe tbody tr th:only-of-type {\n",
       "        vertical-align: middle;\n",
       "    }\n",
       "\n",
       "    .dataframe tbody tr th {\n",
       "        vertical-align: top;\n",
       "    }\n",
       "\n",
       "    .dataframe thead th {\n",
       "        text-align: right;\n",
       "    }\n",
       "</style>\n",
       "<table border=\"1\" class=\"dataframe\">\n",
       "  <thead>\n",
       "    <tr style=\"text-align: right;\">\n",
       "      <th></th>\n",
       "      <th>conv1D_lon</th>\n",
       "      <th>conv1D_lon_lat</th>\n",
       "    </tr>\n",
       "  </thead>\n",
       "  <tbody>\n",
       "    <tr>\n",
       "      <th>AP1</th>\n",
       "      <td>0.076775</td>\n",
       "      <td>0.077138</td>\n",
       "    </tr>\n",
       "    <tr>\n",
       "      <th>AP4</th>\n",
       "      <td>0.089975</td>\n",
       "      <td>0.092182</td>\n",
       "    </tr>\n",
       "    <tr>\n",
       "      <th>AP5</th>\n",
       "      <td>0.068812</td>\n",
       "      <td>0.069878</td>\n",
       "    </tr>\n",
       "    <tr>\n",
       "      <th>AP6</th>\n",
       "      <td>0.096274</td>\n",
       "      <td>0.096021</td>\n",
       "    </tr>\n",
       "    <tr>\n",
       "      <th>AP7</th>\n",
       "      <td>0.093904</td>\n",
       "      <td>0.094259</td>\n",
       "    </tr>\n",
       "    <tr>\n",
       "      <th>DH1</th>\n",
       "      <td>0.084343</td>\n",
       "      <td>0.084156</td>\n",
       "    </tr>\n",
       "    <tr>\n",
       "      <th>DH10</th>\n",
       "      <td>0.072230</td>\n",
       "      <td>0.073613</td>\n",
       "    </tr>\n",
       "    <tr>\n",
       "      <th>DH11</th>\n",
       "      <td>0.067408</td>\n",
       "      <td>0.066987</td>\n",
       "    </tr>\n",
       "    <tr>\n",
       "      <th>DH2</th>\n",
       "      <td>0.081243</td>\n",
       "      <td>0.084085</td>\n",
       "    </tr>\n",
       "    <tr>\n",
       "      <th>DH3</th>\n",
       "      <td>0.076607</td>\n",
       "      <td>0.076290</td>\n",
       "    </tr>\n",
       "    <tr>\n",
       "      <th>DH4</th>\n",
       "      <td>0.073832</td>\n",
       "      <td>0.075552</td>\n",
       "    </tr>\n",
       "    <tr>\n",
       "      <th>DH5</th>\n",
       "      <td>0.079791</td>\n",
       "      <td>0.078194</td>\n",
       "    </tr>\n",
       "    <tr>\n",
       "      <th>DH6</th>\n",
       "      <td>0.071633</td>\n",
       "      <td>0.070775</td>\n",
       "    </tr>\n",
       "    <tr>\n",
       "      <th>DH7</th>\n",
       "      <td>0.077141</td>\n",
       "      <td>0.078278</td>\n",
       "    </tr>\n",
       "    <tr>\n",
       "      <th>DH8</th>\n",
       "      <td>0.066924</td>\n",
       "      <td>0.067150</td>\n",
       "    </tr>\n",
       "    <tr>\n",
       "      <th>DH9</th>\n",
       "      <td>0.071434</td>\n",
       "      <td>0.071547</td>\n",
       "    </tr>\n",
       "  </tbody>\n",
       "</table>\n",
       "</div>"
      ],
      "text/plain": [
       "      conv1D_lon  conv1D_lon_lat\n",
       "AP1     0.076775        0.077138\n",
       "AP4     0.089975        0.092182\n",
       "AP5     0.068812        0.069878\n",
       "AP6     0.096274        0.096021\n",
       "AP7     0.093904        0.094259\n",
       "DH1     0.084343        0.084156\n",
       "DH10    0.072230        0.073613\n",
       "DH11    0.067408        0.066987\n",
       "DH2     0.081243        0.084085\n",
       "DH3     0.076607        0.076290\n",
       "DH4     0.073832        0.075552\n",
       "DH5     0.079791        0.078194\n",
       "DH6     0.071633        0.070775\n",
       "DH7     0.077141        0.078278\n",
       "DH8     0.066924        0.067150\n",
       "DH9     0.071434        0.071547"
      ]
     },
     "execution_count": 5,
     "metadata": {},
     "output_type": "execute_result"
    }
   ],
   "source": [
    "data = info[['Latitude', 'Longitude']].join(res).reset_index()"
   ]
  },
  {
   "cell_type": "code",
   "execution_count": 6,
   "metadata": {
    "collapsed": true
   },
   "outputs": [],
   "source": [
    "data.to_csv('../results/all.csv', index=False)"
   ]
  },
  {
   "cell_type": "code",
   "execution_count": 8,
   "metadata": {},
   "outputs": [
    {
     "data": {
      "image/png": "[encoded data removed]",
      "text/plain": [
       "<Figure size 720x360 with 1 Axes>"
      ]
     },
     "metadata": {},
     "output_type": "display_data"
    }
   ],
   "source": [
    "plt.subplots(figsize=(10, 5))\n",
    "p = sns.scatterplot(x='Longitude', y='Latitude', hue='conv1D_lon_lat', size='conv1D_lon_lat', data=info.join(res), sizes=(20, 150))\n",
    "\n",
    "for idx, row in data.iterrows():\n",
    "     p.text(row['Longitude']-1.5e-4, row['Latitude'], row['Location'], \n",
    "            horizontalalignment='right', size='medium', color='black')"
   ]
  },
  {
   "cell_type": "code",
   "execution_count": null,
   "metadata": {},
   "outputs": [],
   "source": []
  },
  {
   "cell_type": "code",
   "execution_count": null,
   "metadata": {
    "collapsed": true
   },
   "outputs": [],
   "source": []
  }
 ],
 "metadata": {
  "kernelspec": {
   "display_name": "Python 3",
   "language": "python",
   "name": "python3"
  },
  "language_info": {
   "codemirror_mode": {
    "name": "ipython",
    "version": 3
   },
   "file_extension": ".py",
   "mimetype": "text/x-python",
   "name": "python",
   "nbconvert_exporter": "python",
   "pygments_lexer": "ipython3",
   "version": "3.6.8"
  }
 },
 "nbformat": 4,
 "nbformat_minor": 2
}
