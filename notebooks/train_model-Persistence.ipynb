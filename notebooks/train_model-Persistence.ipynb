{
 "cells": [
  {
   "cell_type": "markdown",
   "metadata": {},
   "source": [
    "# Build train and test matrices"
   ]
  },
  {
   "cell_type": "code",
   "execution_count": 1,
   "metadata": {},
   "outputs": [],
   "source": [
    "import pandas as pd\n",
    "import numpy as np\n",
    "import feather\n",
    "\n",
    "df = (feather.read_dataframe('/home/SHARED/SOLAR/data/oahu_min.feather')\n",
    "             .set_index('Datetime'))"
   ]
  },
  {
   "cell_type": "code",
   "execution_count": 2,
   "metadata": {},
   "outputs": [],
   "source": [
    "# https://stackoverflow.com/questions/15722324/sliding-window-in-numpy\n",
    "def window_stack_forward(a, stepsize=1, width=3):\n",
    "    return np.hstack( a[i:1+i-width or None:stepsize] for i in range(0, width) )"
   ]
  },
  {
   "cell_type": "code",
   "execution_count": 3,
   "metadata": {},
   "outputs": [],
   "source": [
    "# I feel this function can also be done for pd.DataFrame\n",
    "def window_stack(a, width=3):\n",
    "    n = a.shape[0]\n",
    "    return np.hstack(list(a[(width-1-i):(n-i)] for i in range(0, width)))"
   ]
  },
  {
   "cell_type": "code",
   "execution_count": 4,
   "metadata": {},
   "outputs": [],
   "source": [
    "# In pandas 0.24, use df.to_numpy() instead of df.values. Also care with non-numeric columns\n",
    "width = 61\n",
    "a = window_stack(df.values, width=width)"
   ]
  },
  {
   "cell_type": "code",
   "execution_count": 5,
   "metadata": {},
   "outputs": [],
   "source": [
    "times   = [ ('t' if not idx else 't-{:d}'.format(idx)) for idx in range(width) ]\n",
    "columns = pd.MultiIndex.from_product((times, df.columns), names=('time', 'location'))"
   ]
  },
  {
   "cell_type": "code",
   "execution_count": 6,
   "metadata": {},
   "outputs": [],
   "source": [
    "# Convert back to DataFrame, just for convenience of having indexes\n",
    "df_roll = pd.DataFrame(a, index=df.index[width-1:], columns=columns)"
   ]
  },
  {
   "cell_type": "code",
   "execution_count": 7,
   "metadata": {},
   "outputs": [],
   "source": [
    "# Split target (time t) and variables (times t-1 to t-width+1)\n",
    "y = df_roll['t']\n",
    "X = df_roll.drop(columns='t', level='time')"
   ]
  },
  {
   "cell_type": "code",
   "execution_count": 8,
   "metadata": {},
   "outputs": [],
   "source": [
    "# Split train-test, approximately 12 and 4 months respectively\n",
    "X_train, X_test = X[:'2011-07-31'], X['2011-08-01':]\n",
    "y_train, y_test = y[:'2011-07-31'], y['2011-08-01':]"
   ]
  },
  {
   "cell_type": "code",
   "execution_count": 9,
   "metadata": {},
   "outputs": [
    {
     "name": "stdout",
     "output_type": "stream",
     "text": [
      "(449885, 1140)\n",
      "(82892, 1140)\n",
      "(449885, 19)\n",
      "(82892, 19)\n"
     ]
    }
   ],
   "source": [
    "print(X_train.shape)\n",
    "print(X_test.shape)\n",
    "print(y_train.shape)\n",
    "print(y_test.shape)"
   ]
  },
  {
   "cell_type": "markdown",
   "metadata": {},
   "source": [
    "# Naive (aka persistence) predictor\n",
    "\n",
    "We compute the error while predicting with the inmediately previous observation, for each sensor. Intended to use as a simple (though sometimes effective) baseline."
   ]
  },
  {
   "cell_type": "code",
   "execution_count": 10,
   "metadata": {},
   "outputs": [],
   "source": [
    "y_pred = np.zeros_like(y_test.values)\n",
    "y_pred = X_test['t-1']"
   ]
  },
  {
   "cell_type": "code",
   "execution_count": 11,
   "metadata": {},
   "outputs": [
    {
     "data": {
      "text/plain": [
       "Index(['GH_DH3', 'GH_DH4', 'GH_DH5', 'GH_DH10', 'GH_DH11', 'GH_DH9', 'GH_DH2',\n",
       "       'GH_DH1', 'GT_DH1', 'GH_AP6', 'GT_AP6', 'GH_AP1', 'GH_AP3', 'GH_AP5',\n",
       "       'GH_AP4', 'GH_AP7', 'GH_DH6', 'GH_DH7', 'GH_DH8'],\n",
       "      dtype='object', name='location')"
      ]
     },
     "execution_count": 11,
     "metadata": {},
     "output_type": "execute_result"
    }
   ],
   "source": [
    "y_pred.columns"
   ]
  },
  {
   "cell_type": "code",
   "execution_count": 12,
   "metadata": {},
   "outputs": [],
   "source": [
    "from sklearn.metrics import mean_absolute_error"
   ]
  },
  {
   "cell_type": "code",
   "execution_count": 13,
   "metadata": {},
   "outputs": [
    {
     "data": {
      "text/plain": [
       "location\n",
       "GH_AP3      0.000000\n",
       "GT_DH1     43.546326\n",
       "GT_AP6     45.910107\n",
       "GH_DH2     55.875255\n",
       "GH_DH1     56.050096\n",
       "GH_DH4     56.824072\n",
       "GH_AP7     57.005657\n",
       "GH_DH11    57.096757\n",
       "GH_DH10    57.214625\n",
       "GH_DH8     57.261513\n",
       "GH_DH7     57.296253\n",
       "GH_AP4     57.439284\n",
       "GH_DH5     57.471329\n",
       "GH_AP1     57.739932\n",
       "GH_DH6     58.379390\n",
       "GH_AP5     58.714546\n",
       "GH_DH9     59.378966\n",
       "GH_DH3     60.004030\n",
       "GH_AP6     60.582939\n",
       "dtype: float64"
      ]
     },
     "execution_count": 13,
     "metadata": {},
     "output_type": "execute_result"
    }
   ],
   "source": [
    "mae = mean_absolute_error(y_test, y_pred, multioutput='raw_values')\n",
    "mae = pd.Series(mae, index=y_test.columns)\n",
    "mae.sort_values()"
   ]
  },
  {
   "cell_type": "code",
   "execution_count": null,
   "metadata": {},
   "outputs": [],
   "source": []
  }
 ],
 "metadata": {
  "kernelspec": {
   "display_name": "Python [default]",
   "language": "python",
   "name": "python3"
  },
  "language_info": {
   "codemirror_mode": {
    "name": "ipython",
    "version": 3
   },
   "file_extension": ".py",
   "mimetype": "text/x-python",
   "name": "python",
   "nbconvert_exporter": "python",
   "pygments_lexer": "ipython3",
   "version": "3.6.0"
  }
 },
 "nbformat": 4,
 "nbformat_minor": 2
}
