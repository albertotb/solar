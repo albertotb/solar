{
 "cells": [
  {
   "cell_type": "markdown",
   "metadata": {},
   "source": [
    "# Build train and test matrices"
   ]
  },
  {
   "cell_type": "code",
   "execution_count": 1,
   "metadata": {},
   "outputs": [],
   "source": [
    "import pandas as pd\n",
    "import numpy as np\n",
    "import feather\n",
    "\n",
    "df = (feather.read_dataframe('/home/SHARED/SOLAR/data/oahu_min.feather')\n",
    "             .set_index('Datetime'))"
   ]
  },
  {
   "cell_type": "code",
   "execution_count": 2,
   "metadata": {},
   "outputs": [],
   "source": [
    "# https://stackoverflow.com/questions/15722324/sliding-window-in-numpy\n",
    "def window_stack_forward(a, stepsize=1, width=3):\n",
    "    return np.hstack( a[i:1+i-width or None:stepsize] for i in range(0, width) )"
   ]
  },
  {
   "cell_type": "code",
   "execution_count": 3,
   "metadata": {},
   "outputs": [],
   "source": [
    "# I feel this function can also be done for pd.DataFrame\n",
    "def window_stack(a, width=3):\n",
    "    n = a.shape[0]\n",
    "    return np.hstack(list(a[(width-1-i):(n-i)] for i in range(0, width)))"
   ]
  },
  {
   "cell_type": "code",
   "execution_count": 4,
   "metadata": {},
   "outputs": [],
   "source": [
    "# In pandas 0.24, use df.to_numpy() instead of df.values. Also care with non-numeric columns\n",
    "width = 61\n",
    "a = window_stack(df.values, width=width)"
   ]
  },
  {
   "cell_type": "code",
   "execution_count": 5,
   "metadata": {},
   "outputs": [],
   "source": [
    "times   = [ ('t' if not idx else 't-{:d}'.format(idx)) for idx in range(width) ]\n",
    "columns = pd.MultiIndex.from_product((times, df.columns), names=('time', 'location'))"
   ]
  },
  {
   "cell_type": "code",
   "execution_count": 6,
   "metadata": {},
   "outputs": [],
   "source": [
    "# Convert back to DataFrame, just for convenience of having indexes\n",
    "df_roll = pd.DataFrame(a, index=df.index[width-1:], columns=columns)"
   ]
  },
  {
   "cell_type": "code",
   "execution_count": 7,
   "metadata": {},
   "outputs": [],
   "source": [
    "# Split target (time t) and variables (times t-1 to t-width+1)\n",
    "y = df_roll['t']\n",
    "X = df_roll.drop(columns='t', level='time')"
   ]
  },
  {
   "cell_type": "code",
   "execution_count": 8,
   "metadata": {},
   "outputs": [],
   "source": [
    "# Split train-test, approximately 12 and 4 months respectively\n",
    "X_train, X_test = X[:'2011-07-31'], X['2011-08-01':]\n",
    "y_train, y_test = y[:'2011-07-31'], y['2011-08-01':]"
   ]
  },
  {
   "cell_type": "code",
   "execution_count": 9,
   "metadata": {},
   "outputs": [
    {
     "name": "stdout",
     "output_type": "stream",
     "text": [
      "(449885, 1140)\n",
      "(82892, 1140)\n",
      "(449885, 19)\n",
      "(82892, 19)\n"
     ]
    }
   ],
   "source": [
    "print(X_train.shape)\n",
    "print(X_test.shape)\n",
    "print(y_train.shape)\n",
    "print(y_test.shape)"
   ]
  },
  {
   "cell_type": "markdown",
   "metadata": {},
   "source": [
    "# Naive predictor\n",
    "\n",
    "We compute the error while predicting with the inmediately previous observation, for each sensor"
   ]
  },
  {
   "cell_type": "code",
   "execution_count": 10,
   "metadata": {},
   "outputs": [],
   "source": [
    "y_pred = np.zeros_like(y_test.values)\n",
    "y_pred = X_test['t-1']"
   ]
  },
  {
   "cell_type": "code",
   "execution_count": 11,
   "metadata": {},
   "outputs": [
    {
     "data": {
      "text/plain": [
       "Index(['GH_DH3', 'GH_DH4', 'GH_DH5', 'GH_DH10', 'GH_DH11', 'GH_DH9', 'GH_DH2',\n",
       "       'GH_DH1', 'GT_DH1', 'GH_AP6', 'GT_AP6', 'GH_AP1', 'GH_AP3', 'GH_AP5',\n",
       "       'GH_AP4', 'GH_AP7', 'GH_DH6', 'GH_DH7', 'GH_DH8'],\n",
       "      dtype='object', name='location')"
      ]
     },
     "execution_count": 11,
     "metadata": {},
     "output_type": "execute_result"
    }
   ],
   "source": [
    "y_pred.columns"
   ]
  },
  {
   "cell_type": "code",
   "execution_count": 12,
   "metadata": {},
   "outputs": [],
   "source": [
    "from sklearn.metrics import mean_absolute_error"
   ]
  },
  {
   "cell_type": "code",
   "execution_count": 13,
   "metadata": {},
   "outputs": [
    {
     "data": {
      "text/plain": [
       "location\n",
       "GH_AP3      0.000000\n",
       "GT_DH1     43.546326\n",
       "GT_AP6     45.910107\n",
       "GH_DH2     55.875255\n",
       "GH_DH1     56.050096\n",
       "GH_DH4     56.824072\n",
       "GH_AP7     57.005657\n",
       "GH_DH11    57.096757\n",
       "GH_DH10    57.214625\n",
       "GH_DH8     57.261513\n",
       "GH_DH7     57.296253\n",
       "GH_AP4     57.439284\n",
       "GH_DH5     57.471329\n",
       "GH_AP1     57.739932\n",
       "GH_DH6     58.379390\n",
       "GH_AP5     58.714546\n",
       "GH_DH9     59.378966\n",
       "GH_DH3     60.004030\n",
       "GH_AP6     60.582939\n",
       "dtype: float64"
      ]
     },
     "execution_count": 13,
     "metadata": {},
     "output_type": "execute_result"
    }
   ],
   "source": [
    "mae = mean_absolute_error(y_test, y_pred, multioutput='raw_values')\n",
    "mae = pd.Series(mae, index=y_test.columns)\n",
    "mae.sort_values()"
   ]
  },
  {
   "cell_type": "markdown",
   "metadata": {},
   "source": [
    "# Convolutional predictor\n"
   ]
  },
  {
   "cell_type": "code",
   "execution_count": 14,
   "metadata": {},
   "outputs": [],
   "source": [
    "# First test: we only use the previous timestep as features\n",
    "X_tr1 = X_train['t-1']\n",
    "y_tr1 = y_train\n",
    "\n",
    "X_te1 = X_test['t-1']\n",
    "y_te1 = y_test"
   ]
  },
  {
   "cell_type": "code",
   "execution_count": null,
   "metadata": {},
   "outputs": [],
   "source": []
  },
  {
   "cell_type": "code",
   "execution_count": 15,
   "metadata": {},
   "outputs": [],
   "source": [
    "info = pd.read_csv('/home/SHARED/SOLAR/data/info.csv')"
   ]
  },
  {
   "cell_type": "code",
   "execution_count": 16,
   "metadata": {},
   "outputs": [],
   "source": [
    "info.Location = info.Location.apply(lambda x: (x[:2] + x[-2:]).replace('_', ''))"
   ]
  },
  {
   "cell_type": "code",
   "execution_count": 17,
   "metadata": {},
   "outputs": [],
   "source": [
    "info.index = info.Location"
   ]
  },
  {
   "cell_type": "code",
   "execution_count": 18,
   "metadata": {},
   "outputs": [],
   "source": [
    "longs = info['       Longitude'].sort_values(ascending=False)"
   ]
  },
  {
   "cell_type": "code",
   "execution_count": 19,
   "metadata": {},
   "outputs": [
    {
     "data": {
      "text/plain": [
       "Location\n",
       "AP7    -158.07785\n",
       "AP6    -158.07935\n",
       "AP4    -158.07947\n",
       "AP3    -158.08163\n",
       "AP5    -158.08249\n",
       "AP1    -158.08389\n",
       "DH5    -158.08424\n",
       "DH3    -158.08463\n",
       "DH4    -158.08505\n",
       "DH11   -158.08530\n",
       "DH2    -158.08534\n",
       "DH10   -158.08554\n",
       "DH8    -158.08675\n",
       "DH6    -158.08678\n",
       "DH7    -158.08685\n",
       "DH9    -158.08688\n",
       "DH1    -158.08700\n",
       "Name:        Longitude, dtype: float64"
      ]
     },
     "execution_count": 19,
     "metadata": {},
     "output_type": "execute_result"
    }
   ],
   "source": [
    "longs"
   ]
  },
  {
   "cell_type": "code",
   "execution_count": 20,
   "metadata": {},
   "outputs": [
    {
     "name": "stderr",
     "output_type": "stream",
     "text": [
      "/home/victor/miniconda3/lib/python3.6/site-packages/pandas/core/frame.py:3940: SettingWithCopyWarning: \n",
      "A value is trying to be set on a copy of a slice from a DataFrame\n",
      "\n",
      "See the caveats in the documentation: http://pandas.pydata.org/pandas-docs/stable/indexing.html#indexing-view-versus-copy\n",
      "  errors=errors)\n"
     ]
    }
   ],
   "source": [
    "X_tr1.drop('GT_AP6', inplace=True, axis=1)\n",
    "y_tr1.drop('GT_AP6', inplace=True, axis=1)"
   ]
  },
  {
   "cell_type": "code",
   "execution_count": 21,
   "metadata": {},
   "outputs": [
    {
     "name": "stderr",
     "output_type": "stream",
     "text": [
      "/home/victor/miniconda3/lib/python3.6/site-packages/pandas/core/frame.py:3940: SettingWithCopyWarning: \n",
      "A value is trying to be set on a copy of a slice from a DataFrame\n",
      "\n",
      "See the caveats in the documentation: http://pandas.pydata.org/pandas-docs/stable/indexing.html#indexing-view-versus-copy\n",
      "  errors=errors)\n"
     ]
    }
   ],
   "source": [
    "X_tr1.drop('GT_DH1', inplace=True, axis=1)\n",
    "y_tr1.drop('GT_DH1', inplace=True, axis=1)"
   ]
  },
  {
   "cell_type": "code",
   "execution_count": 22,
   "metadata": {},
   "outputs": [
    {
     "name": "stderr",
     "output_type": "stream",
     "text": [
      "/home/victor/miniconda3/lib/python3.6/site-packages/pandas/core/frame.py:3940: SettingWithCopyWarning: \n",
      "A value is trying to be set on a copy of a slice from a DataFrame\n",
      "\n",
      "See the caveats in the documentation: http://pandas.pydata.org/pandas-docs/stable/indexing.html#indexing-view-versus-copy\n",
      "  errors=errors)\n"
     ]
    }
   ],
   "source": [
    "X_te1.drop('GT_AP6', inplace=True, axis=1)\n",
    "y_te1.drop('GT_AP6', inplace=True, axis=1)\n",
    "X_te1.drop('GT_DH1', inplace=True, axis=1)\n",
    "y_te1.drop('GT_DH1', inplace=True, axis=1)"
   ]
  },
  {
   "cell_type": "code",
   "execution_count": 23,
   "metadata": {},
   "outputs": [
    {
     "data": {
      "text/plain": [
       "((449885, 17), (449885, 17))"
      ]
     },
     "execution_count": 23,
     "metadata": {},
     "output_type": "execute_result"
    }
   ],
   "source": [
    "X_tr1.shape, y_tr1.shape"
   ]
  },
  {
   "cell_type": "code",
   "execution_count": 24,
   "metadata": {},
   "outputs": [],
   "source": [
    "homogen_name = lambda x: x[-4:].replace('_', '')\n",
    "\n",
    "X_tr1.columns = [homogen_name(x) for x in X_tr1.columns.values.tolist()]\n",
    "y_tr1.columns = [homogen_name(x) for x in y_tr1.columns.values.tolist()]"
   ]
  },
  {
   "cell_type": "code",
   "execution_count": 25,
   "metadata": {},
   "outputs": [],
   "source": [
    "homogen_name = lambda x: x[-4:].replace('_', '')\n",
    "\n",
    "X_te1.columns = [homogen_name(x) for x in X_te1.columns.values.tolist()]\n",
    "y_te1.columns = [homogen_name(x) for x in y_te1.columns.values.tolist()]"
   ]
  },
  {
   "cell_type": "code",
   "execution_count": 801,
   "metadata": {},
   "outputs": [],
   "source": [
    "# This should be inside the generator...\n",
    "\n",
    "X_tr1_1 = X_tr1[longs.index]\n",
    "y_tr1_1 = y_tr1[longs.index]"
   ]
  },
  {
   "cell_type": "code",
   "execution_count": 805,
   "metadata": {},
   "outputs": [],
   "source": [
    "#X_tr1_1['ts'] = X_tr1_1.index\n",
    "#X_tr1_1.ts.dt.dayofyear"
   ]
  },
  {
   "cell_type": "code",
   "execution_count": null,
   "metadata": {},
   "outputs": [],
   "source": []
  },
  {
   "cell_type": "code",
   "execution_count": 806,
   "metadata": {},
   "outputs": [],
   "source": [
    "# This should be inside the generator...\n",
    "\n",
    "X_te1_1 = X_te1[longs.index]\n",
    "y_te1_1 = y_te1[longs.index]"
   ]
  },
  {
   "cell_type": "code",
   "execution_count": 807,
   "metadata": {},
   "outputs": [],
   "source": [
    "# Some other ordenations..."
   ]
  },
  {
   "cell_type": "code",
   "execution_count": 808,
   "metadata": {},
   "outputs": [
    {
     "name": "stdout",
     "output_type": "stream",
     "text": [
      "[[872.649 854.032 852.806 872.566 873.924 876.666 881.786 900.766 886.728\n",
      "  767.687 886.599 886.013 788.85  883.372 906.51  881.742 900.617]\n",
      " [867.215 852.863 850.657 868.076 870.454 874.832 882.485 901.238 886.335\n",
      "  873.668 888.742 880.241 896.622 904.673 896.193 920.883 873.728]] [870.454 870.456]\n",
      "(2, 17) (2,)\n"
     ]
    }
   ],
   "source": [
    "def generator(batch_size):\n",
    "    while True:\n",
    "        for ((_,g),(_,gy)) in zip( X_tr1_1.groupby(np.arange(len(X_tr1_1))//batch_size), y_tr1_1.groupby(np.arange(len(y_tr1_1))//batch_size)):\n",
    "            # Perform channeling here\n",
    "            \n",
    "            yield (g.values,gy['AP5'].values)\n",
    "            \n",
    "for g,v in generator(2):\n",
    "    print(g, v)\n",
    "    print(g.shape, v.shape)\n",
    "    break"
   ]
  },
  {
   "cell_type": "code",
   "execution_count": 809,
   "metadata": {},
   "outputs": [],
   "source": [
    "n_sensors = 17\n",
    "sensor = 'AP3'  \n",
    "index_sensor = 3\n",
    "\n",
    "sensor = 'AP5'  # 'AP5' initial\n",
    "index_sensor = 4\n",
    "\n",
    "X_tr1_1_np = X_tr1_1.values\n",
    "y_tr1_1_np = y_tr1_1[sensor].values\n",
    "\n",
    "y_tr1_1_np_list = [y_tr1_1.values[:,i] for i in range(n_sensors)]"
   ]
  },
  {
   "cell_type": "code",
   "execution_count": 810,
   "metadata": {},
   "outputs": [],
   "source": [
    "X_te1_1_np = X_te1_1.values\n",
    "y_te1_1_np = y_te1_1[sensor].values\n",
    "\n",
    "y_te1_1_np_list = [y_te1_1.values[:,i] for i in range(n_sensors)]"
   ]
  },
  {
   "cell_type": "code",
   "execution_count": 811,
   "metadata": {},
   "outputs": [],
   "source": [
    "import keras\n",
    "from keras.datasets import cifar10\n",
    "from keras.preprocessing.image import ImageDataGenerator\n",
    "from keras.models import Sequential, Model\n",
    "from keras.layers import Dense, Dropout, Activation, Flatten, Input, Lambda, Reshape, Add, Multiply, Subtract, Dropout\n",
    "from keras.layers import Conv2D, MaxPooling2D, LocallyConnected1D, Conv1D, UpSampling1D, MaxPooling1D, Dot, Concatenate\n",
    "\n",
    "from keras import backend as K"
   ]
  },
  {
   "cell_type": "code",
   "execution_count": null,
   "metadata": {},
   "outputs": [],
   "source": []
  },
  {
   "cell_type": "code",
   "execution_count": 812,
   "metadata": {},
   "outputs": [],
   "source": [
    "xin = Input(shape=(n_sensors,1), name='main_input')\n",
    "x = LocallyConnected1D(8, 5, data_format = 'channels_last', padding='valid')(xin)\n",
    "x = MaxPooling1D()(x)  # potentially bad?\n",
    "\n",
    "\n",
    "hard = False\n",
    "\n",
    "if hard: # fuck this branch\n",
    "    x = Conv1D(2, 3, data_format = 'channels_last', padding='causal')(x)\n",
    "    x = UpSampling1D()(x)\n",
    "    x = Conv1D(1, 3, data_format = 'channels_last', padding='causal')(x)\n",
    "    x = UpSampling1D()(x)\n",
    "    x = LocallyConnected1D(1, 4, data_format = 'channels_last', padding='valid')(x)\n",
    "    #x = Flatten()(x)\n",
    "    #x = Dense(1)(x)\n",
    "    xo = Activation('relu')(x)\n",
    "\n",
    "    # this is to compute the loss per sensor:\n",
    "    xoo = [Lambda(lambda x : x[:,i,:], name='sensor_'+str(i)+'_'+str(longs.index[i]))(xo) for i in range(n_sensors)]\n",
    "else:\n",
    "    x = Activation('relu')(x)\n",
    "    \n",
    "    x = Conv1D(2, 3, data_format = 'channels_last', padding='causal')(x)\n",
    "    x = Activation('relu')(x)\n",
    "    \n",
    "    x = Flatten()(x)\n",
    "    x = Dense(n_sensors)(x)\n",
    "    x = Reshape((n_sensors, 1)) (x)\n",
    "    xo = Activation('relu')(x)\n",
    "    xoo = [Lambda(lambda x : x[:,i,:], name='sensor_'+str(i)+'_'+str(longs.index[i]))(xo) for i in range(n_sensors)]\n",
    "    \n",
    "    # Add residual connection with input in order to learn persitence?\n",
    "\n",
    "\n",
    "model = Model(inputs=[xin], outputs=xoo)"
   ]
  },
  {
   "cell_type": "code",
   "execution_count": 818,
   "metadata": {},
   "outputs": [],
   "source": [
    "# causal better\n",
    "\n",
    "xin = Input(shape=(n_sensors,1), name='main_input')\n",
    "x = LocallyConnected1D(8, 7, data_format = 'channels_last', padding='valid')(xin)\n",
    "x = Activation('relu')(x)\n",
    "x = LocallyConnected1D(16, 5, data_format = 'channels_last', padding='valid')(x)\n",
    "x = Activation('relu')(x)\n",
    "x = Conv1D(32, 3, data_format = 'channels_last', padding='causal')(x)\n",
    "xl = Flatten()(x)\n",
    "xl = Dropout(0.2)(xl)\n",
    "xo = Dense(1)(xl)\n",
    "\n",
    "\n",
    "# use date info here?\n",
    "xinf = Flatten()(xin)\n",
    "s  = Dense(5)(xinf)\n",
    "s = Activation('tanh')(s)\n",
    "s = Dense(2)(s)\n",
    "s = Activation('softmax')(s)\n",
    "\n",
    "\n",
    "xin_0 = Activation('relu')(xin)\n",
    "xin_1 = Lambda(lambda x : x[:,index_sensor,:])(xin_0)\n",
    "xo_m = Dot(axes=1)([Concatenate()([xo,xin_1]), s])\n",
    "# instead of this, use a residual connection\n",
    "\n",
    "xom = Add()([xo, xin_1])\n",
    "\n",
    "# better than just residual (xom)\n",
    "xo_m = Activation('relu')(xo_m)\n",
    "\n",
    "\n",
    "model = Model(inputs=[xin], outputs=[xo_m])"
   ]
  },
  {
   "cell_type": "code",
   "execution_count": 819,
   "metadata": {},
   "outputs": [],
   "source": [
    "opt = keras.optimizers.Adam(lr=0.0001)"
   ]
  },
  {
   "cell_type": "code",
   "execution_count": null,
   "metadata": {},
   "outputs": [],
   "source": []
  },
  {
   "cell_type": "code",
   "execution_count": 820,
   "metadata": {},
   "outputs": [],
   "source": [
    "#losses = ['mean_absolute_error'] * n_sensors\n",
    "#model.compile(opt, loss=losses)\n",
    "model.compile(opt, loss='mean_absolute_error')"
   ]
  },
  {
   "cell_type": "code",
   "execution_count": null,
   "metadata": {},
   "outputs": [],
   "source": []
  },
  {
   "cell_type": "code",
   "execution_count": 821,
   "metadata": {},
   "outputs": [],
   "source": [
    "c1 = keras.callbacks.BaseLogger(stateful_metrics=None)\n",
    "c2 = keras.callbacks.ReduceLROnPlateau(patience=3)\n",
    "c2 = CyclicLR(step_size=250, base_lr=0.0001)"
   ]
  },
  {
   "cell_type": "code",
   "execution_count": null,
   "metadata": {
    "scrolled": true
   },
   "outputs": [
    {
     "name": "stdout",
     "output_type": "stream",
     "text": [
      "Train on 449885 samples, validate on 82892 samples\n",
      "Epoch 1/2048\n",
      " 10240/449885 [..............................] - ETA: 3:09 - loss: 168.6659"
     ]
    },
    {
     "name": "stderr",
     "output_type": "stream",
     "text": [
      "/home/victor/miniconda3/lib/python3.6/site-packages/keras/callbacks.py:122: UserWarning: Method on_batch_end() is slow compared to the batch update (0.875416). Check your callbacks.\n",
      "  % delta_t_median)\n"
     ]
    },
    {
     "name": "stdout",
     "output_type": "stream",
     "text": [
      "449885/449885 [==============================] - 17s 37us/step - loss: 64.0640 - val_loss: 45.3073\n",
      "Epoch 2/2048\n",
      "449885/449885 [==============================] - 11s 23us/step - loss: 46.5949 - val_loss: 41.7792\n",
      "Epoch 3/2048\n",
      "449885/449885 [==============================] - 11s 24us/step - loss: 45.6498 - val_loss: 42.0581\n",
      "Epoch 4/2048\n",
      "449885/449885 [==============================] - 11s 24us/step - loss: 45.4986 - val_loss: 41.2992\n",
      "Epoch 5/2048\n",
      "449885/449885 [==============================] - 11s 24us/step - loss: 44.7784 - val_loss: 40.7198\n",
      "Epoch 6/2048\n",
      "449885/449885 [==============================] - 10s 23us/step - loss: 44.7606 - val_loss: 40.7064\n",
      "Epoch 7/2048\n",
      "449885/449885 [==============================] - 11s 24us/step - loss: 44.3997 - val_loss: 40.5302\n",
      "Epoch 8/2048\n",
      "449885/449885 [==============================] - 10s 23us/step - loss: 44.5682 - val_loss: 41.3216\n",
      "Epoch 9/2048\n",
      "449885/449885 [==============================] - 11s 24us/step - loss: 44.3154 - val_loss: 40.5269\n",
      "Epoch 10/2048\n",
      "449885/449885 [==============================] - 11s 23us/step - loss: 44.1542 - val_loss: 40.5280\n",
      "Epoch 11/2048\n",
      "449885/449885 [==============================] - 11s 24us/step - loss: 44.2271 - val_loss: 40.5060\n",
      "Epoch 12/2048\n",
      "449885/449885 [==============================] - 11s 24us/step - loss: 44.0462 - val_loss: 40.6529\n",
      "Epoch 13/2048\n",
      "449885/449885 [==============================] - 11s 24us/step - loss: 44.2397 - val_loss: 40.6612\n",
      "Epoch 14/2048\n",
      "449885/449885 [==============================] - 11s 23us/step - loss: 44.0106 - val_loss: 40.7069\n",
      "Epoch 15/2048\n",
      "449885/449885 [==============================] - 11s 24us/step - loss: 44.1430 - val_loss: 40.8408\n",
      "Epoch 16/2048\n",
      "449885/449885 [==============================] - 11s 24us/step - loss: 43.9661 - val_loss: 40.3122\n",
      "Epoch 17/2048\n",
      "449885/449885 [==============================] - 11s 24us/step - loss: 44.0351 - val_loss: 40.8338\n",
      "Epoch 18/2048\n",
      "449885/449885 [==============================] - 11s 24us/step - loss: 44.0181 - val_loss: 40.4182\n",
      "Epoch 19/2048\n",
      "449885/449885 [==============================] - 10s 23us/step - loss: 43.8241 - val_loss: 40.5296\n",
      "Epoch 20/2048\n",
      "449885/449885 [==============================] - 11s 24us/step - loss: 43.9711 - val_loss: 40.6876\n",
      "Epoch 21/2048\n",
      "449885/449885 [==============================] - 11s 23us/step - loss: 43.7177 - val_loss: 40.2849\n",
      "Epoch 22/2048\n",
      "449885/449885 [==============================] - 11s 24us/step - loss: 43.9453 - val_loss: 40.2820\n",
      "Epoch 23/2048\n",
      "449885/449885 [==============================] - 11s 23us/step - loss: 43.6819 - val_loss: 40.1952\n",
      "Epoch 24/2048\n",
      "449885/449885 [==============================] - 11s 24us/step - loss: 43.8291 - val_loss: 40.8628\n",
      "Epoch 25/2048\n",
      "449885/449885 [==============================] - 11s 24us/step - loss: 43.7762 - val_loss: 40.0834\n",
      "Epoch 26/2048\n",
      "449885/449885 [==============================] - 11s 24us/step - loss: 43.6993 - val_loss: 41.1312\n",
      "Epoch 27/2048\n",
      "449885/449885 [==============================] - 11s 24us/step - loss: 43.8461 - val_loss: 40.0935\n",
      "Epoch 28/2048\n",
      "449885/449885 [==============================] - 11s 24us/step - loss: 43.5876 - val_loss: 40.1785\n",
      "Epoch 29/2048\n",
      "449885/449885 [==============================] - 11s 23us/step - loss: 43.8162 - val_loss: 40.2155\n",
      "Epoch 30/2048\n",
      "449885/449885 [==============================] - 11s 23us/step - loss: 43.4903 - val_loss: 40.1432\n",
      "Epoch 31/2048\n",
      "449885/449885 [==============================] - 11s 24us/step - loss: 43.7690 - val_loss: 40.5978\n",
      "Epoch 32/2048\n",
      "449885/449885 [==============================] - 11s 24us/step - loss: 43.5101 - val_loss: 39.9795\n",
      "Epoch 33/2048\n",
      "311296/449885 [===================>..........] - ETA: 3s - loss: 43.6220"
     ]
    }
   ],
   "source": [
    "batch_size = 1 << 11   # as big as possible so we can explore many models\n",
    "epochs = 1 << 11\n",
    "model.fit(np.atleast_3d(X_tr1_1_np), y_tr1_1_np, batch_size=batch_size, epochs=epochs, validation_data=\n",
    "          (np.atleast_3d(X_te1_1_np),y_te1_1_np), callbacks=[c1, c2])\n"
   ]
  },
  {
   "cell_type": "code",
   "execution_count": 744,
   "metadata": {},
   "outputs": [
    {
     "name": "stdout",
     "output_type": "stream",
     "text": [
      "__________________________________________________________________________________________________\n",
      "Layer (type)                    Output Shape         Param #     Connected to                     \n",
      "==================================================================================================\n",
      "main_input (InputLayer)         (None, 17, 1)        0                                            \n",
      "__________________________________________________________________________________________________\n",
      "locally_connected1d_240 (Locall (None, 11, 8)        704         main_input[0][0]                 \n",
      "__________________________________________________________________________________________________\n",
      "activation_460 (Activation)     (None, 11, 8)        0           locally_connected1d_240[0][0]    \n",
      "__________________________________________________________________________________________________\n",
      "locally_connected1d_241 (Locall (None, 7, 16)        4592        activation_460[0][0]             \n",
      "__________________________________________________________________________________________________\n",
      "activation_461 (Activation)     (None, 7, 16)        0           locally_connected1d_241[0][0]    \n",
      "__________________________________________________________________________________________________\n",
      "flatten_153 (Flatten)           (None, 17)           0           main_input[0][0]                 \n",
      "__________________________________________________________________________________________________\n",
      "conv1d_145 (Conv1D)             (None, 7, 32)        1568        activation_461[0][0]             \n",
      "__________________________________________________________________________________________________\n",
      "dense_219 (Dense)               (None, 5)            90          flatten_153[0][0]                \n",
      "__________________________________________________________________________________________________\n",
      "flatten_152 (Flatten)           (None, 224)          0           conv1d_145[0][0]                 \n",
      "__________________________________________________________________________________________________\n",
      "activation_464 (Activation)     (None, 17, 1)        0           main_input[0][0]                 \n",
      "__________________________________________________________________________________________________\n",
      "activation_462 (Activation)     (None, 5)            0           dense_219[0][0]                  \n",
      "__________________________________________________________________________________________________\n",
      "dense_218 (Dense)               (None, 1)            225         flatten_152[0][0]                \n",
      "__________________________________________________________________________________________________\n",
      "lambda_86 (Lambda)              (None, 1)            0           activation_464[0][0]             \n",
      "__________________________________________________________________________________________________\n",
      "dense_220 (Dense)               (None, 2)            12          activation_462[0][0]             \n",
      "__________________________________________________________________________________________________\n",
      "concatenate_43 (Concatenate)    (None, 2)            0           dense_218[0][0]                  \n",
      "                                                                 lambda_86[0][0]                  \n",
      "__________________________________________________________________________________________________\n",
      "activation_463 (Activation)     (None, 2)            0           dense_220[0][0]                  \n",
      "__________________________________________________________________________________________________\n",
      "dot_43 (Dot)                    (None, 1)            0           concatenate_43[0][0]             \n",
      "                                                                 activation_463[0][0]             \n",
      "__________________________________________________________________________________________________\n",
      "activation_465 (Activation)     (None, 1)            0           dot_43[0][0]                     \n",
      "==================================================================================================\n",
      "Total params: 7,191\n",
      "Trainable params: 7,191\n",
      "Non-trainable params: 0\n",
      "__________________________________________________________________________________________________\n"
     ]
    }
   ],
   "source": [
    "model.summary()"
   ]
  },
  {
   "cell_type": "code",
   "execution_count": null,
   "metadata": {},
   "outputs": [],
   "source": []
  },
  {
   "cell_type": "code",
   "execution_count": null,
   "metadata": {},
   "outputs": [],
   "source": []
  },
  {
   "cell_type": "code",
   "execution_count": null,
   "metadata": {},
   "outputs": [],
   "source": []
  },
  {
   "cell_type": "code",
   "execution_count": 461,
   "metadata": {},
   "outputs": [
    {
     "ename": "ValueError",
     "evalue": "Error when checking model target: the list of Numpy arrays that you are passing to your model is not the size the model expected. Expected to see 1 array(s), but instead got the following list of 17 arrays: [array([[867.215],\n       [860.998],\n       [844.272],\n       ...,\n       [  0.   ],\n       [  0.   ],\n       [  0.   ]]), array([[852.863],\n       [845.067],\n       [838.051],\n       ...,\n       [  0...",
     "output_type": "error",
     "traceback": [
      "\u001b[0;31m---------------------------------------------------------------------------\u001b[0m",
      "\u001b[0;31mValueError\u001b[0m                                Traceback (most recent call last)",
      "\u001b[0;32m<ipython-input-461-97820a9e3d07>\u001b[0m in \u001b[0;36m<module>\u001b[0;34m()\u001b[0m\n\u001b[1;32m      3\u001b[0m \u001b[0mepochs\u001b[0m \u001b[0;34m=\u001b[0m \u001b[0;36m1\u001b[0m \u001b[0;34m<<\u001b[0m \u001b[0;36m6\u001b[0m\u001b[0;34m\u001b[0m\u001b[0m\n\u001b[1;32m      4\u001b[0m model.fit(np.atleast_3d(X_tr1_1_np), y_tr1_1_np_list, batch_size=batch_size, epochs=epochs, validation_data=\n\u001b[0;32m----> 5\u001b[0;31m           (np.atleast_3d(X_te1_1_np),y_te1_1_np_list), callbacks=[c1, c2], verbose=2)\n\u001b[0m",
      "\u001b[0;32m~/miniconda3/lib/python3.6/site-packages/keras/engine/training.py\u001b[0m in \u001b[0;36mfit\u001b[0;34m(self, x, y, batch_size, epochs, verbose, callbacks, validation_split, validation_data, shuffle, class_weight, sample_weight, initial_epoch, steps_per_epoch, validation_steps, **kwargs)\u001b[0m\n\u001b[1;32m    950\u001b[0m             \u001b[0msample_weight\u001b[0m\u001b[0;34m=\u001b[0m\u001b[0msample_weight\u001b[0m\u001b[0;34m,\u001b[0m\u001b[0;34m\u001b[0m\u001b[0m\n\u001b[1;32m    951\u001b[0m             \u001b[0mclass_weight\u001b[0m\u001b[0;34m=\u001b[0m\u001b[0mclass_weight\u001b[0m\u001b[0;34m,\u001b[0m\u001b[0;34m\u001b[0m\u001b[0m\n\u001b[0;32m--> 952\u001b[0;31m             batch_size=batch_size)\n\u001b[0m\u001b[1;32m    953\u001b[0m         \u001b[0;31m# Prepare validation data.\u001b[0m\u001b[0;34m\u001b[0m\u001b[0;34m\u001b[0m\u001b[0m\n\u001b[1;32m    954\u001b[0m         \u001b[0mdo_validation\u001b[0m \u001b[0;34m=\u001b[0m \u001b[0;32mFalse\u001b[0m\u001b[0;34m\u001b[0m\u001b[0m\n",
      "\u001b[0;32m~/miniconda3/lib/python3.6/site-packages/keras/engine/training.py\u001b[0m in \u001b[0;36m_standardize_user_data\u001b[0;34m(self, x, y, sample_weight, class_weight, check_array_lengths, batch_size)\u001b[0m\n\u001b[1;32m    787\u001b[0m                 \u001b[0mfeed_output_shapes\u001b[0m\u001b[0;34m,\u001b[0m\u001b[0;34m\u001b[0m\u001b[0m\n\u001b[1;32m    788\u001b[0m                 \u001b[0mcheck_batch_axis\u001b[0m\u001b[0;34m=\u001b[0m\u001b[0;32mFalse\u001b[0m\u001b[0;34m,\u001b[0m  \u001b[0;31m# Don't enforce the batch size.\u001b[0m\u001b[0;34m\u001b[0m\u001b[0m\n\u001b[0;32m--> 789\u001b[0;31m                 exception_prefix='target')\n\u001b[0m\u001b[1;32m    790\u001b[0m \u001b[0;34m\u001b[0m\u001b[0m\n\u001b[1;32m    791\u001b[0m             \u001b[0;31m# Generate sample-wise weight values given the `sample_weight` and\u001b[0m\u001b[0;34m\u001b[0m\u001b[0;34m\u001b[0m\u001b[0m\n",
      "\u001b[0;32m~/miniconda3/lib/python3.6/site-packages/keras/engine/training_utils.py\u001b[0m in \u001b[0;36mstandardize_input_data\u001b[0;34m(data, names, shapes, check_batch_axis, exception_prefix)\u001b[0m\n\u001b[1;32m    100\u001b[0m                 \u001b[0;34m'Expected to see '\u001b[0m \u001b[0;34m+\u001b[0m \u001b[0mstr\u001b[0m\u001b[0;34m(\u001b[0m\u001b[0mlen\u001b[0m\u001b[0;34m(\u001b[0m\u001b[0mnames\u001b[0m\u001b[0;34m)\u001b[0m\u001b[0;34m)\u001b[0m \u001b[0;34m+\u001b[0m \u001b[0;34m' array(s), '\u001b[0m\u001b[0;34m\u001b[0m\u001b[0m\n\u001b[1;32m    101\u001b[0m                 \u001b[0;34m'but instead got the following list of '\u001b[0m \u001b[0;34m+\u001b[0m\u001b[0;34m\u001b[0m\u001b[0m\n\u001b[0;32m--> 102\u001b[0;31m                 str(len(data)) + ' arrays: ' + str(data)[:200] + '...')\n\u001b[0m\u001b[1;32m    103\u001b[0m         \u001b[0;32melif\u001b[0m \u001b[0mlen\u001b[0m\u001b[0;34m(\u001b[0m\u001b[0mnames\u001b[0m\u001b[0;34m)\u001b[0m \u001b[0;34m>\u001b[0m \u001b[0;36m1\u001b[0m\u001b[0;34m:\u001b[0m\u001b[0;34m\u001b[0m\u001b[0m\n\u001b[1;32m    104\u001b[0m             raise ValueError(\n",
      "\u001b[0;31mValueError\u001b[0m: Error when checking model target: the list of Numpy arrays that you are passing to your model is not the size the model expected. Expected to see 1 array(s), but instead got the following list of 17 arrays: [array([[867.215],\n       [860.998],\n       [844.272],\n       ...,\n       [  0.   ],\n       [  0.   ],\n       [  0.   ]]), array([[852.863],\n       [845.067],\n       [838.051],\n       ...,\n       [  0..."
     ]
    }
   ],
   "source": [
    "# as big as possible so we can explore many models\n",
    "batch_size = 1 << 11   \n",
    "epochs = 1 << 6\n",
    "model.fit(np.atleast_3d(X_tr1_1_np), y_tr1_1_np_list, batch_size=batch_size, epochs=epochs, validation_data=\n",
    "          (np.atleast_3d(X_te1_1_np),y_te1_1_np_list), callbacks=[c1, c2], verbose=2)"
   ]
  },
  {
   "cell_type": "code",
   "execution_count": 528,
   "metadata": {},
   "outputs": [
    {
     "ename": "TypeError",
     "evalue": "must be str, not int",
     "output_type": "error",
     "traceback": [
      "\u001b[0;31m---------------------------------------------------------------------------\u001b[0m",
      "\u001b[0;31mTypeError\u001b[0m                                 Traceback (most recent call last)",
      "\u001b[0;32m<ipython-input-528-7d82cdfdea09>\u001b[0m in \u001b[0;36m<module>\u001b[0;34m()\u001b[0m\n\u001b[0;32m----> 1\u001b[0;31m \u001b[0mmodel\u001b[0m\u001b[0;34m.\u001b[0m\u001b[0mget_layer\u001b[0m\u001b[0;34m(\u001b[0m\u001b[0;34m-\u001b[0m\u001b[0;36m1\u001b[0m\u001b[0;34m)\u001b[0m\u001b[0;34m\u001b[0m\u001b[0m\n\u001b[0m",
      "\u001b[0;32m~/miniconda3/lib/python3.6/site-packages/keras/engine/network.py\u001b[0m in \u001b[0;36mget_layer\u001b[0;34m(self, name, index)\u001b[0m\n\u001b[1;32m    356\u001b[0m                 \u001b[0;32mreturn\u001b[0m \u001b[0mlayer\u001b[0m\u001b[0;34m\u001b[0m\u001b[0m\n\u001b[1;32m    357\u001b[0m \u001b[0;34m\u001b[0m\u001b[0m\n\u001b[0;32m--> 358\u001b[0;31m         \u001b[0;32mraise\u001b[0m \u001b[0mValueError\u001b[0m\u001b[0;34m(\u001b[0m\u001b[0;34m'No such layer: '\u001b[0m \u001b[0;34m+\u001b[0m \u001b[0mname\u001b[0m\u001b[0;34m)\u001b[0m\u001b[0;34m\u001b[0m\u001b[0m\n\u001b[0m\u001b[1;32m    359\u001b[0m \u001b[0;34m\u001b[0m\u001b[0m\n\u001b[1;32m    360\u001b[0m     \u001b[0;34m@\u001b[0m\u001b[0mproperty\u001b[0m\u001b[0;34m\u001b[0m\u001b[0m\n",
      "\u001b[0;31mTypeError\u001b[0m: must be str, not int"
     ]
    }
   ],
   "source": []
  },
  {
   "cell_type": "code",
   "execution_count": null,
   "metadata": {},
   "outputs": [],
   "source": []
  },
  {
   "cell_type": "code",
   "execution_count": null,
   "metadata": {},
   "outputs": [],
   "source": []
  },
  {
   "cell_type": "code",
   "execution_count": null,
   "metadata": {},
   "outputs": [],
   "source": []
  },
  {
   "cell_type": "code",
   "execution_count": 208,
   "metadata": {},
   "outputs": [],
   "source": [
    "# AP5 40.5219"
   ]
  },
  {
   "cell_type": "code",
   "execution_count": 319,
   "metadata": {},
   "outputs": [
    {
     "name": "stdout",
     "output_type": "stream",
     "text": [
      "__________________________________________________________________________________________________\n",
      "Layer (type)                    Output Shape         Param #     Connected to                     \n",
      "==================================================================================================\n",
      "main_input (InputLayer)         (None, 17, 1)        0                                            \n",
      "__________________________________________________________________________________________________\n",
      "locally_connected1d_88 (Locally (None, 11, 8)        704         main_input[0][0]                 \n",
      "__________________________________________________________________________________________________\n",
      "max_pooling1d_30 (MaxPooling1D) (None, 5, 8)         0           locally_connected1d_88[0][0]     \n",
      "__________________________________________________________________________________________________\n",
      "conv1d_63 (Conv1D)              (None, 5, 2)         50          max_pooling1d_30[0][0]           \n",
      "__________________________________________________________________________________________________\n",
      "up_sampling1d_34 (UpSampling1D) (None, 10, 2)        0           conv1d_63[0][0]                  \n",
      "__________________________________________________________________________________________________\n",
      "conv1d_64 (Conv1D)              (None, 10, 1)        7           up_sampling1d_34[0][0]           \n",
      "__________________________________________________________________________________________________\n",
      "up_sampling1d_35 (UpSampling1D) (None, 20, 1)        0           conv1d_64[0][0]                  \n",
      "__________________________________________________________________________________________________\n",
      "locally_connected1d_89 (Locally (None, 17, 1)        85          up_sampling1d_35[0][0]           \n",
      "__________________________________________________________________________________________________\n",
      "activation_109 (Activation)     (None, 17, 1)        0           locally_connected1d_89[0][0]     \n",
      "__________________________________________________________________________________________________\n",
      "sensor_0_AP7 (Lambda)           (None, 1)            0           activation_109[0][0]             \n",
      "__________________________________________________________________________________________________\n",
      "sensor_1_AP6 (Lambda)           (None, 1)            0           activation_109[0][0]             \n",
      "__________________________________________________________________________________________________\n",
      "sensor_2_AP4 (Lambda)           (None, 1)            0           activation_109[0][0]             \n",
      "__________________________________________________________________________________________________\n",
      "sensor_3_AP3 (Lambda)           (None, 1)            0           activation_109[0][0]             \n",
      "__________________________________________________________________________________________________\n",
      "sensor_4_AP5 (Lambda)           (None, 1)            0           activation_109[0][0]             \n",
      "__________________________________________________________________________________________________\n",
      "sensor_5_AP1 (Lambda)           (None, 1)            0           activation_109[0][0]             \n",
      "__________________________________________________________________________________________________\n",
      "sensor_6_DH5 (Lambda)           (None, 1)            0           activation_109[0][0]             \n",
      "__________________________________________________________________________________________________\n",
      "sensor_7_DH3 (Lambda)           (None, 1)            0           activation_109[0][0]             \n",
      "__________________________________________________________________________________________________\n",
      "sensor_8_DH4 (Lambda)           (None, 1)            0           activation_109[0][0]             \n",
      "__________________________________________________________________________________________________\n",
      "sensor_9_DH11 (Lambda)          (None, 1)            0           activation_109[0][0]             \n",
      "__________________________________________________________________________________________________\n",
      "sensor_10_DH2 (Lambda)          (None, 1)            0           activation_109[0][0]             \n",
      "__________________________________________________________________________________________________\n",
      "sensor_11_DH10 (Lambda)         (None, 1)            0           activation_109[0][0]             \n",
      "__________________________________________________________________________________________________\n",
      "sensor_12_DH8 (Lambda)          (None, 1)            0           activation_109[0][0]             \n",
      "__________________________________________________________________________________________________\n",
      "sensor_13_DH6 (Lambda)          (None, 1)            0           activation_109[0][0]             \n",
      "__________________________________________________________________________________________________\n",
      "sensor_14_DH7 (Lambda)          (None, 1)            0           activation_109[0][0]             \n",
      "__________________________________________________________________________________________________\n",
      "sensor_15_DH9 (Lambda)          (None, 1)            0           activation_109[0][0]             \n",
      "__________________________________________________________________________________________________\n",
      "sensor_16_DH1 (Lambda)          (None, 1)            0           activation_109[0][0]             \n",
      "==================================================================================================\n",
      "Total params: 846\n",
      "Trainable params: 846\n",
      "Non-trainable params: 0\n",
      "__________________________________________________________________________________________________\n"
     ]
    }
   ],
   "source": [
    "model.summary()"
   ]
  },
  {
   "cell_type": "code",
   "execution_count": null,
   "metadata": {},
   "outputs": [],
   "source": []
  },
  {
   "cell_type": "code",
   "execution_count": null,
   "metadata": {},
   "outputs": [],
   "source": []
  },
  {
   "cell_type": "markdown",
   "metadata": {},
   "source": [
    "# Train Elastic Net model"
   ]
  },
  {
   "cell_type": "code",
   "execution_count": 10,
   "metadata": {
    "collapsed": true
   },
   "outputs": [],
   "source": [
    "from contextlib import contextmanager\n",
    "from timeit import default_timer\n",
    "\n",
    "@contextmanager\n",
    "def timer(tag=None):\n",
    "    start = default_timer()\n",
    "    try:\n",
    "        yield\n",
    "    finally:\n",
    "        end = default_timer()\n",
    "        print(('[{}] '.format(tag) if tag else '') +\n",
    "               'Elapsed time (s): {:.6f}'.format(end - start))"
   ]
  },
  {
   "cell_type": "code",
   "execution_count": 11,
   "metadata": {},
   "outputs": [
    {
     "name": "stdout",
     "output_type": "stream",
     "text": [
      "Elapsed time (s): 646.287442\n"
     ]
    },
    {
     "name": "stderr",
     "output_type": "stream",
     "text": [
      "/usr/local/lib/python3.6/dist-packages/sklearn/linear_model/coordinate_descent.py:491: ConvergenceWarning: Objective did not converge. You might want to increase the number of iterations. Fitting data with very small alpha may cause precision problems.\n",
      "  ConvergenceWarning)\n"
     ]
    }
   ],
   "source": [
    "from sklearn.linear_model import ElasticNetCV\n",
    "from sklearn.model_selection import TimeSeriesSplit\n",
    "\n",
    "enet = ElasticNetCV(n_jobs=10, cv=TimeSeriesSplit(n_splits=5), l1_ratio=0.5)\n",
    "with timer():\n",
    "    enet.fit(X_train, y_train['GH_AP1'])"
   ]
  },
  {
   "cell_type": "code",
   "execution_count": 12,
   "metadata": {},
   "outputs": [
    {
     "name": "stdout",
     "output_type": "stream",
     "text": [
      "R^2 (train): 0.8996642313321442\n",
      "R^2 (test): 0.8810550943484787\n",
      "alpha: 229.09871455104192\n",
      "l1_ratio: 0.5\n"
     ]
    }
   ],
   "source": [
    "print('R^2 (train): {}'.format(enet.score(X_train, y_train['GH_AP1'])))\n",
    "print('R^2 (test): {}'.format(enet.score(X_test, y_test['GH_AP1'])))\n",
    "print('alpha: {}'.format(enet.alpha_))\n",
    "print('l1_ratio: {}'.format(enet.l1_ratio_))"
   ]
  },
  {
   "cell_type": "code",
   "execution_count": 13,
   "metadata": {
    "collapsed": true
   },
   "outputs": [],
   "source": [
    "%matplotlib inline\n",
    "res = pd.DataFrame({'Actual': y_test['GH_AP1'], 'Pred': enet.predict(X_test)})"
   ]
  },
  {
   "cell_type": "code",
   "execution_count": 14,
   "metadata": {},
   "outputs": [
    {
     "data": {
      "image/png": "[encoded data removed]",
      "text/plain": [
       "<Figure size 1080x360 with 1 Axes>"
      ]
     },
     "metadata": {},
     "output_type": "display_data"
    }
   ],
   "source": [
    "res['20110801'].plot(figsize=(15, 5));"
   ]
  },
  {
   "cell_type": "code",
   "execution_count": 15,
   "metadata": {
    "collapsed": true
   },
   "outputs": [],
   "source": [
    "from sklearn.metrics import mean_absolute_error"
   ]
  },
  {
   "cell_type": "code",
   "execution_count": 16,
   "metadata": {
    "collapsed": true
   },
   "outputs": [],
   "source": [
    "res['abs_error'] = res['Actual'].sub(res['Pred']).abs()"
   ]
  },
  {
   "cell_type": "code",
   "execution_count": 17,
   "metadata": {},
   "outputs": [
    {
     "data": {
      "text/plain": [
       "56.42577223776865"
      ]
     },
     "execution_count": 17,
     "metadata": {},
     "output_type": "execute_result"
    }
   ],
   "source": [
    "res['abs_error'].mean()"
   ]
  },
  {
   "cell_type": "code",
   "execution_count": 18,
   "metadata": {},
   "outputs": [
    {
     "name": "stderr",
     "output_type": "stream",
     "text": [
      "/usr/local/lib/python3.6/dist-packages/sklearn/linear_model/coordinate_descent.py:491: ConvergenceWarning: Objective did not converge. You might want to increase the number of iterations. Fitting data with very small alpha may cause precision problems.\n",
      "  ConvergenceWarning)\n",
      "/usr/local/lib/python3.6/dist-packages/sklearn/linear_model/coordinate_descent.py:491: ConvergenceWarning: Objective did not converge. You might want to increase the number of iterations. Fitting data with very small alpha may cause precision problems.\n",
      "  ConvergenceWarning)\n",
      "/usr/local/lib/python3.6/dist-packages/sklearn/linear_model/coordinate_descent.py:491: ConvergenceWarning: Objective did not converge. You might want to increase the number of iterations. Fitting data with very small alpha may cause precision problems.\n",
      "  ConvergenceWarning)\n",
      "/usr/local/lib/python3.6/dist-packages/sklearn/linear_model/coordinate_descent.py:491: ConvergenceWarning: Objective did not converge. You might want to increase the number of iterations. Fitting data with very small alpha may cause precision problems.\n",
      "  ConvergenceWarning)\n",
      "/usr/local/lib/python3.6/dist-packages/sklearn/linear_model/coordinate_descent.py:491: ConvergenceWarning: Objective did not converge. You might want to increase the number of iterations. Fitting data with very small alpha may cause precision problems.\n",
      "  ConvergenceWarning)\n",
      "/usr/local/lib/python3.6/dist-packages/sklearn/linear_model/coordinate_descent.py:491: ConvergenceWarning: Objective did not converge. You might want to increase the number of iterations. Fitting data with very small alpha may cause precision problems.\n",
      "  ConvergenceWarning)\n",
      "/usr/local/lib/python3.6/dist-packages/sklearn/linear_model/coordinate_descent.py:491: ConvergenceWarning: Objective did not converge. You might want to increase the number of iterations. Fitting data with very small alpha may cause precision problems.\n",
      "  ConvergenceWarning)\n"
     ]
    },
    {
     "name": "stdout",
     "output_type": "stream",
     "text": [
      "Elapsed time (s): 4048.463773\n"
     ]
    }
   ],
   "source": [
    "from sklearn.linear_model import MultiTaskElasticNetCV\n",
    "from sklearn.multioutput import MultiOutputRegressor\n",
    "\n",
    "enet = MultiOutputRegressor(ElasticNetCV(cv=TimeSeriesSplit(n_splits=5), l1_ratio=0.5), n_jobs=10)\n",
    "with timer():\n",
    "    enet.fit(X_train, y_train)"
   ]
  },
  {
   "cell_type": "code",
   "execution_count": 27,
   "metadata": {
    "collapsed": true
   },
   "outputs": [],
   "source": [
    "y_test_pred = pd.DataFrame(enet.predict(X_test), index=y_test.index, columns=y_test.columns)"
   ]
  },
  {
   "cell_type": "code",
   "execution_count": 32,
   "metadata": {
    "collapsed": true
   },
   "outputs": [],
   "source": [
    "res = pd.concat((y_test, y_test_pred), axis=1, keys=['Actual', 'Pred'])"
   ]
  },
  {
   "cell_type": "code",
   "execution_count": 45,
   "metadata": {
    "scrolled": false
   },
   "outputs": [
    {
     "data": {
      "text/plain": [
       "location\n",
       "GH_AP3     41.272833\n",
       "GH_DH8     45.940841\n",
       "GH_DH11    49.423486\n",
       "GH_AP5     49.645268\n",
       "GT_DH1     50.232415\n",
       "GH_DH9     51.914226\n",
       "GH_DH6     52.295803\n",
       "GH_DH10    54.067657\n",
       "GT_AP6     54.362009\n",
       "GH_DH7     55.919909\n",
       "GH_AP1     56.425772\n",
       "GH_DH4     57.001618\n",
       "GH_DH5     57.469298\n",
       "GH_DH3     58.028241\n",
       "GH_DH1     59.039559\n",
       "GH_DH2     60.615344\n",
       "GH_AP4     62.791843\n",
       "GH_AP6     68.239365\n",
       "GH_AP7     71.464025\n",
       "dtype: float64"
      ]
     },
     "execution_count": 45,
     "metadata": {},
     "output_type": "execute_result"
    }
   ],
   "source": [
    "res.stack(level='location').groupby('location').apply(lambda s: mean_absolute_error(s['Actual'], s['Pred'])).sort_values()"
   ]
  },
  {
   "cell_type": "markdown",
   "metadata": {},
   "source": [
    "Conclusiones:\n",
    "* Ajustar los 19 modelos ENet tarda poco más de 1h con `n_jobs=10`\n",
    "* Parece que hay bastantes diferencias entre estaciones\n",
    "\n",
    "**TODO**:\n",
    "* Hacer un mapa de las estaciones coloreado por MAE, a ver si tienen alguna distribución espacial\n",
    "* Probar otros modelos\n",
    "* Normalizar las series temporales entre [0, 1]?\n",
    "* Probar con distintos valores de `width`, como si fuera un hiperparámetro\n",
    "* Ver sparsity\n",
    "* Ajustar otros modelos (RandomForest, GradientBoosting, Neural Networks)"
   ]
  },
  {
   "cell_type": "code",
   "execution_count": 47,
   "metadata": {},
   "outputs": [
    {
     "data": {
      "text/html": [
       "<div>\n",
       "<style scoped>\n",
       "    .dataframe tbody tr th:only-of-type {\n",
       "        vertical-align: middle;\n",
       "    }\n",
       "\n",
       "    .dataframe tbody tr th {\n",
       "        vertical-align: top;\n",
       "    }\n",
       "\n",
       "    .dataframe thead th {\n",
       "        text-align: right;\n",
       "    }\n",
       "</style>\n",
       "<table border=\"1\" class=\"dataframe\">\n",
       "  <thead>\n",
       "    <tr style=\"text-align: right;\">\n",
       "      <th></th>\n",
       "      <th>GH_DH3</th>\n",
       "      <th>GH_DH4</th>\n",
       "      <th>GH_DH5</th>\n",
       "      <th>GH_DH10</th>\n",
       "      <th>GH_DH11</th>\n",
       "      <th>GH_DH9</th>\n",
       "      <th>GH_DH2</th>\n",
       "      <th>GH_DH1</th>\n",
       "      <th>GT_DH1</th>\n",
       "      <th>GH_AP6</th>\n",
       "      <th>GT_AP6</th>\n",
       "      <th>GH_AP1</th>\n",
       "      <th>GH_AP3</th>\n",
       "      <th>GH_AP5</th>\n",
       "      <th>GH_AP4</th>\n",
       "      <th>GH_AP7</th>\n",
       "      <th>GH_DH6</th>\n",
       "      <th>GH_DH7</th>\n",
       "      <th>GH_DH8</th>\n",
       "    </tr>\n",
       "  </thead>\n",
       "  <tbody>\n",
       "    <tr>\n",
       "      <th>count</th>\n",
       "      <td>532837.000000</td>\n",
       "      <td>532837.000000</td>\n",
       "      <td>532837.000000</td>\n",
       "      <td>532837.000000</td>\n",
       "      <td>532837.000000</td>\n",
       "      <td>532837.000000</td>\n",
       "      <td>532837.000000</td>\n",
       "      <td>532837.000000</td>\n",
       "      <td>532837.000000</td>\n",
       "      <td>532837.000000</td>\n",
       "      <td>532837.000000</td>\n",
       "      <td>532837.000000</td>\n",
       "      <td>532837.000000</td>\n",
       "      <td>532837.000000</td>\n",
       "      <td>532837.000000</td>\n",
       "      <td>532837.000000</td>\n",
       "      <td>532837.000000</td>\n",
       "      <td>532837.000000</td>\n",
       "      <td>532837.000000</td>\n",
       "    </tr>\n",
       "    <tr>\n",
       "      <th>mean</th>\n",
       "      <td>376.638750</td>\n",
       "      <td>370.034010</td>\n",
       "      <td>373.901195</td>\n",
       "      <td>374.273224</td>\n",
       "      <td>371.089837</td>\n",
       "      <td>374.772595</td>\n",
       "      <td>370.716366</td>\n",
       "      <td>369.618733</td>\n",
       "      <td>315.318571</td>\n",
       "      <td>375.733485</td>\n",
       "      <td>308.801022</td>\n",
       "      <td>369.002688</td>\n",
       "      <td>322.606723</td>\n",
       "      <td>373.845794</td>\n",
       "      <td>370.204234</td>\n",
       "      <td>375.590406</td>\n",
       "      <td>374.534719</td>\n",
       "      <td>376.029534</td>\n",
       "      <td>370.716376</td>\n",
       "    </tr>\n",
       "    <tr>\n",
       "      <th>std</th>\n",
       "      <td>362.964985</td>\n",
       "      <td>350.421419</td>\n",
       "      <td>354.759126</td>\n",
       "      <td>353.021138</td>\n",
       "      <td>351.115238</td>\n",
       "      <td>363.056479</td>\n",
       "      <td>351.535268</td>\n",
       "      <td>349.439053</td>\n",
       "      <td>352.513236</td>\n",
       "      <td>355.910431</td>\n",
       "      <td>336.893122</td>\n",
       "      <td>347.831176</td>\n",
       "      <td>295.782851</td>\n",
       "      <td>355.027967</td>\n",
       "      <td>348.719699</td>\n",
       "      <td>357.166830</td>\n",
       "      <td>354.640874</td>\n",
       "      <td>356.311609</td>\n",
       "      <td>351.467618</td>\n",
       "    </tr>\n",
       "    <tr>\n",
       "      <th>min</th>\n",
       "      <td>-0.472400</td>\n",
       "      <td>-0.392927</td>\n",
       "      <td>-0.350097</td>\n",
       "      <td>-0.361164</td>\n",
       "      <td>-0.386116</td>\n",
       "      <td>-0.472512</td>\n",
       "      <td>-0.711078</td>\n",
       "      <td>-0.358951</td>\n",
       "      <td>-0.409680</td>\n",
       "      <td>-0.390316</td>\n",
       "      <td>-0.364171</td>\n",
       "      <td>0.000000</td>\n",
       "      <td>0.000000</td>\n",
       "      <td>0.000000</td>\n",
       "      <td>-0.358721</td>\n",
       "      <td>-0.389675</td>\n",
       "      <td>-0.383402</td>\n",
       "      <td>-0.382509</td>\n",
       "      <td>-0.392466</td>\n",
       "    </tr>\n",
       "    <tr>\n",
       "      <th>25%</th>\n",
       "      <td>35.866100</td>\n",
       "      <td>39.654200</td>\n",
       "      <td>39.543000</td>\n",
       "      <td>40.775900</td>\n",
       "      <td>38.551100</td>\n",
       "      <td>35.411500</td>\n",
       "      <td>36.950300</td>\n",
       "      <td>36.569700</td>\n",
       "      <td>29.477700</td>\n",
       "      <td>39.798900</td>\n",
       "      <td>33.856200</td>\n",
       "      <td>40.013500</td>\n",
       "      <td>138.069000</td>\n",
       "      <td>39.775800</td>\n",
       "      <td>40.156700</td>\n",
       "      <td>37.754700</td>\n",
       "      <td>39.172700</td>\n",
       "      <td>40.141100</td>\n",
       "      <td>39.567900</td>\n",
       "    </tr>\n",
       "    <tr>\n",
       "      <th>50%</th>\n",
       "      <td>274.736000</td>\n",
       "      <td>276.848000</td>\n",
       "      <td>278.847000</td>\n",
       "      <td>281.729000</td>\n",
       "      <td>278.481000</td>\n",
       "      <td>271.122000</td>\n",
       "      <td>276.924000</td>\n",
       "      <td>277.451000</td>\n",
       "      <td>166.047000</td>\n",
       "      <td>281.771000</td>\n",
       "      <td>174.568000</td>\n",
       "      <td>278.183000</td>\n",
       "      <td>234.346000</td>\n",
       "      <td>279.015000</td>\n",
       "      <td>279.661000</td>\n",
       "      <td>279.862000</td>\n",
       "      <td>280.325000</td>\n",
       "      <td>280.463000</td>\n",
       "      <td>277.053000</td>\n",
       "    </tr>\n",
       "    <tr>\n",
       "      <th>75%</th>\n",
       "      <td>635.739000</td>\n",
       "      <td>624.226000</td>\n",
       "      <td>630.812000</td>\n",
       "      <td>631.830000</td>\n",
       "      <td>625.551000</td>\n",
       "      <td>633.216000</td>\n",
       "      <td>626.999000</td>\n",
       "      <td>625.359000</td>\n",
       "      <td>530.037000</td>\n",
       "      <td>633.694000</td>\n",
       "      <td>511.336000</td>\n",
       "      <td>622.964000</td>\n",
       "      <td>424.807000</td>\n",
       "      <td>629.598000</td>\n",
       "      <td>624.808000</td>\n",
       "      <td>635.345000</td>\n",
       "      <td>632.643000</td>\n",
       "      <td>635.162000</td>\n",
       "      <td>624.791000</td>\n",
       "    </tr>\n",
       "    <tr>\n",
       "      <th>max</th>\n",
       "      <td>1666.880000</td>\n",
       "      <td>1700.350000</td>\n",
       "      <td>1655.720000</td>\n",
       "      <td>1651.900000</td>\n",
       "      <td>1627.110000</td>\n",
       "      <td>1697.560000</td>\n",
       "      <td>1699.410000</td>\n",
       "      <td>1588.720000</td>\n",
       "      <td>1587.020000</td>\n",
       "      <td>1580.340000</td>\n",
       "      <td>1542.840000</td>\n",
       "      <td>1593.990000</td>\n",
       "      <td>1657.880000</td>\n",
       "      <td>1648.220000</td>\n",
       "      <td>1574.890000</td>\n",
       "      <td>1612.970000</td>\n",
       "      <td>1584.890000</td>\n",
       "      <td>1627.860000</td>\n",
       "      <td>1610.440000</td>\n",
       "    </tr>\n",
       "  </tbody>\n",
       "</table>\n",
       "</div>"
      ],
      "text/plain": [
       "              GH_DH3         GH_DH4         GH_DH5        GH_DH10  \\\n",
       "count  532837.000000  532837.000000  532837.000000  532837.000000   \n",
       "mean      376.638750     370.034010     373.901195     374.273224   \n",
       "std       362.964985     350.421419     354.759126     353.021138   \n",
       "min        -0.472400      -0.392927      -0.350097      -0.361164   \n",
       "25%        35.866100      39.654200      39.543000      40.775900   \n",
       "50%       274.736000     276.848000     278.847000     281.729000   \n",
       "75%       635.739000     624.226000     630.812000     631.830000   \n",
       "max      1666.880000    1700.350000    1655.720000    1651.900000   \n",
       "\n",
       "             GH_DH11         GH_DH9         GH_DH2         GH_DH1  \\\n",
       "count  532837.000000  532837.000000  532837.000000  532837.000000   \n",
       "mean      371.089837     374.772595     370.716366     369.618733   \n",
       "std       351.115238     363.056479     351.535268     349.439053   \n",
       "min        -0.386116      -0.472512      -0.711078      -0.358951   \n",
       "25%        38.551100      35.411500      36.950300      36.569700   \n",
       "50%       278.481000     271.122000     276.924000     277.451000   \n",
       "75%       625.551000     633.216000     626.999000     625.359000   \n",
       "max      1627.110000    1697.560000    1699.410000    1588.720000   \n",
       "\n",
       "              GT_DH1         GH_AP6         GT_AP6         GH_AP1  \\\n",
       "count  532837.000000  532837.000000  532837.000000  532837.000000   \n",
       "mean      315.318571     375.733485     308.801022     369.002688   \n",
       "std       352.513236     355.910431     336.893122     347.831176   \n",
       "min        -0.409680      -0.390316      -0.364171       0.000000   \n",
       "25%        29.477700      39.798900      33.856200      40.013500   \n",
       "50%       166.047000     281.771000     174.568000     278.183000   \n",
       "75%       530.037000     633.694000     511.336000     622.964000   \n",
       "max      1587.020000    1580.340000    1542.840000    1593.990000   \n",
       "\n",
       "              GH_AP3         GH_AP5         GH_AP4         GH_AP7  \\\n",
       "count  532837.000000  532837.000000  532837.000000  532837.000000   \n",
       "mean      322.606723     373.845794     370.204234     375.590406   \n",
       "std       295.782851     355.027967     348.719699     357.166830   \n",
       "min         0.000000       0.000000      -0.358721      -0.389675   \n",
       "25%       138.069000      39.775800      40.156700      37.754700   \n",
       "50%       234.346000     279.015000     279.661000     279.862000   \n",
       "75%       424.807000     629.598000     624.808000     635.345000   \n",
       "max      1657.880000    1648.220000    1574.890000    1612.970000   \n",
       "\n",
       "              GH_DH6         GH_DH7         GH_DH8  \n",
       "count  532837.000000  532837.000000  532837.000000  \n",
       "mean      374.534719     376.029534     370.716376  \n",
       "std       354.640874     356.311609     351.467618  \n",
       "min        -0.383402      -0.382509      -0.392466  \n",
       "25%        39.172700      40.141100      39.567900  \n",
       "50%       280.325000     280.463000     277.053000  \n",
       "75%       632.643000     635.162000     624.791000  \n",
       "max      1584.890000    1627.860000    1610.440000  "
      ]
     },
     "execution_count": 47,
     "metadata": {},
     "output_type": "execute_result"
    }
   ],
   "source": [
    "df.describe()"
   ]
  },
  {
   "cell_type": "code",
   "execution_count": 665,
   "metadata": {},
   "outputs": [],
   "source": [
    "from keras.callbacks import *\n",
    "\n",
    "\n",
    "class CyclicLR(Callback):\n",
    "    \"\"\"This callback implements a cyclical learning rate policy (CLR).\n",
    "    The method cycles the learning rate between two boundaries with\n",
    "    some constant frequency, as detailed in this paper (https://arxiv.org/abs/1506.01186).\n",
    "    The amplitude of the cycle can be scaled on a per-iteration or \n",
    "    per-cycle basis.\n",
    "    This class has three built-in policies, as put forth in the paper.\n",
    "    \"triangular\":\n",
    "        A basic triangular cycle w/ no amplitude scaling.\n",
    "    \"triangular2\":\n",
    "        A basic triangular cycle that scales initial amplitude by half each cycle.\n",
    "    \"exp_range\":\n",
    "        A cycle that scales initial amplitude by gamma**(cycle iterations) at each \n",
    "        cycle iteration.\n",
    "    For more detail, please see paper.\n",
    "    \n",
    "    # Example\n",
    "        ```python\n",
    "            clr = CyclicLR(base_lr=0.001, max_lr=0.006,\n",
    "                                step_size=2000., mode='triangular')\n",
    "            model.fit(X_train, Y_train, callbacks=[clr])\n",
    "        ```\n",
    "    \n",
    "    Class also supports custom scaling functions:\n",
    "        ```python\n",
    "            clr_fn = lambda x: 0.5*(1+np.sin(x*np.pi/2.))\n",
    "            clr = CyclicLR(base_lr=0.001, max_lr=0.006,\n",
    "                                step_size=2000., scale_fn=clr_fn,\n",
    "                                scale_mode='cycle')\n",
    "            model.fit(X_train, Y_train, callbacks=[clr])\n",
    "        ```    \n",
    "    # Arguments\n",
    "        base_lr: initial learning rate which is the\n",
    "            lower boundary in the cycle.\n",
    "        max_lr: upper boundary in the cycle. Functionally,\n",
    "            it defines the cycle amplitude (max_lr - base_lr).\n",
    "            The lr at any cycle is the sum of base_lr\n",
    "            and some scaling of the amplitude; therefore \n",
    "            max_lr may not actually be reached depending on\n",
    "            scaling function.\n",
    "        step_size: number of training iterations per\n",
    "            half cycle. Authors suggest setting step_size\n",
    "            2-8 x training iterations in epoch.\n",
    "        mode: one of {triangular, triangular2, exp_range}.\n",
    "            Default 'triangular'.\n",
    "            Values correspond to policies detailed above.\n",
    "            If scale_fn is not None, this argument is ignored.\n",
    "        gamma: constant in 'exp_range' scaling function:\n",
    "            gamma**(cycle iterations)\n",
    "        scale_fn: Custom scaling policy defined by a single\n",
    "            argument lambda function, where \n",
    "            0 <= scale_fn(x) <= 1 for all x >= 0.\n",
    "            mode paramater is ignored \n",
    "        scale_mode: {'cycle', 'iterations'}.\n",
    "            Defines whether scale_fn is evaluated on \n",
    "            cycle number or cycle iterations (training\n",
    "            iterations since start of cycle). Default is 'cycle'.\n",
    "    \"\"\"\n",
    "\n",
    "    def __init__(self, base_lr=0.001, max_lr=0.006, step_size=2000., mode='triangular',\n",
    "                 gamma=1., scale_fn=None, scale_mode='cycle'):\n",
    "        super(CyclicLR, self).__init__()\n",
    "\n",
    "        self.base_lr = base_lr\n",
    "        self.max_lr = max_lr\n",
    "        self.step_size = step_size\n",
    "        self.mode = mode\n",
    "        self.gamma = gamma\n",
    "        if scale_fn == None:\n",
    "            if self.mode == 'triangular':\n",
    "                self.scale_fn = lambda x: 1.\n",
    "                self.scale_mode = 'cycle'\n",
    "            elif self.mode == 'triangular2':\n",
    "                self.scale_fn = lambda x: 1/(2.**(x-1))\n",
    "                self.scale_mode = 'cycle'\n",
    "            elif self.mode == 'exp_range':\n",
    "                self.scale_fn = lambda x: gamma**(x)\n",
    "                self.scale_mode = 'iterations'\n",
    "        else:\n",
    "            self.scale_fn = scale_fn\n",
    "            self.scale_mode = scale_mode\n",
    "        self.clr_iterations = 0.\n",
    "        self.trn_iterations = 0.\n",
    "        self.history = {}\n",
    "\n",
    "        self._reset()\n",
    "\n",
    "    def _reset(self, new_base_lr=None, new_max_lr=None,\n",
    "               new_step_size=None):\n",
    "        \"\"\"Resets cycle iterations.\n",
    "        Optional boundary/step size adjustment.\n",
    "        \"\"\"\n",
    "        if new_base_lr != None:\n",
    "            self.base_lr = new_base_lr\n",
    "        if new_max_lr != None:\n",
    "            self.max_lr = new_max_lr\n",
    "        if new_step_size != None:\n",
    "            self.step_size = new_step_size\n",
    "        self.clr_iterations = 0.\n",
    "        \n",
    "    def clr(self):\n",
    "        cycle = np.floor(1+self.clr_iterations/(2*self.step_size))\n",
    "        x = np.abs(self.clr_iterations/self.step_size - 2*cycle + 1)\n",
    "        if self.scale_mode == 'cycle':\n",
    "            return self.base_lr + (self.max_lr-self.base_lr)*np.maximum(0, (1-x))*self.scale_fn(cycle)\n",
    "        else:\n",
    "            return self.base_lr + (self.max_lr-self.base_lr)*np.maximum(0, (1-x))*self.scale_fn(self.clr_iterations)\n",
    "        \n",
    "    def on_train_begin(self, logs={}):\n",
    "        logs = logs or {}\n",
    "\n",
    "        if self.clr_iterations == 0:\n",
    "            K.set_value(self.model.optimizer.lr, self.base_lr)\n",
    "        else:\n",
    "            K.set_value(self.model.optimizer.lr, self.clr())        \n",
    "            \n",
    "    def on_batch_end(self, epoch, logs=None):\n",
    "        \n",
    "        logs = logs or {}\n",
    "        self.trn_iterations += 1\n",
    "        self.clr_iterations += 1\n",
    "\n",
    "        self.history.setdefault('lr', []).append(K.get_value(self.model.optimizer.lr))\n",
    "        self.history.setdefault('iterations', []).append(self.trn_iterations)\n",
    "\n",
    "        for k, v in logs.items():\n",
    "            self.history.setdefault(k, []).append(v)\n",
    "        \n",
    "        K.set_value(self.model.optimizer.lr, self.clr())"
   ]
  },
  {
   "cell_type": "code",
   "execution_count": null,
   "metadata": {},
   "outputs": [],
   "source": []
  }
 ],
 "metadata": {
  "kernelspec": {
   "display_name": "Python [default]",
   "language": "python",
   "name": "python3"
  },
  "language_info": {
   "codemirror_mode": {
    "name": "ipython",
    "version": 3
   },
   "file_extension": ".py",
   "mimetype": "text/x-python",
   "name": "python",
   "nbconvert_exporter": "python",
   "pygments_lexer": "ipython3",
   "version": "3.6.0"
  }
 },
 "nbformat": 4,
 "nbformat_minor": 2
}
