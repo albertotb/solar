{
 "cells": [
  {
   "cell_type": "code",
   "execution_count": 1,
   "metadata": {
    "collapsed": true
   },
   "outputs": [],
   "source": [
    "import pandas as pd\n",
    "import numpy as np\n",
    "import feather\n",
    "%matplotlib inline\n",
    "\n",
    "df = pd.read_pickle('/home/SHARED/SOLAR/data/oahu_min_norm.pkl').set_index(['Datetime', 'Location'])"
   ]
  },
  {
   "cell_type": "code",
   "execution_count": 2,
   "metadata": {},
   "outputs": [
    {
     "data": {
      "text/html": [
       "<div>\n",
       "<style scoped>\n",
       "    .dataframe tbody tr th:only-of-type {\n",
       "        vertical-align: middle;\n",
       "    }\n",
       "\n",
       "    .dataframe tbody tr th {\n",
       "        vertical-align: top;\n",
       "    }\n",
       "\n",
       "    .dataframe thead th {\n",
       "        text-align: right;\n",
       "    }\n",
       "</style>\n",
       "<table border=\"1\" class=\"dataframe\">\n",
       "  <thead>\n",
       "    <tr style=\"text-align: right;\">\n",
       "      <th></th>\n",
       "      <th>Radiation</th>\n",
       "      <th>GH</th>\n",
       "      <th>GT</th>\n",
       "      <th>ClearSky</th>\n",
       "    </tr>\n",
       "    <tr>\n",
       "      <th>Datetime</th>\n",
       "      <th>Location</th>\n",
       "      <th></th>\n",
       "      <th></th>\n",
       "      <th></th>\n",
       "    </tr>\n",
       "  </thead>\n",
       "  <tbody>\n",
       "    <tr>\n",
       "      <th rowspan=\"5\" valign=\"top\">2010-03-19 14:15:00-10:00</th>\n",
       "      <th>AP1</th>\n",
       "      <td>476.328</td>\n",
       "      <td>NaN</td>\n",
       "      <td>973.629240</td>\n",
       "    </tr>\n",
       "    <tr>\n",
       "      <th>AP3</th>\n",
       "      <td>382.777</td>\n",
       "      <td>NaN</td>\n",
       "      <td>973.625962</td>\n",
       "    </tr>\n",
       "    <tr>\n",
       "      <th>AP4</th>\n",
       "      <td>351.610</td>\n",
       "      <td>NaN</td>\n",
       "      <td>973.624679</td>\n",
       "    </tr>\n",
       "    <tr>\n",
       "      <th>AP5</th>\n",
       "      <td>390.092</td>\n",
       "      <td>NaN</td>\n",
       "      <td>973.630994</td>\n",
       "    </tr>\n",
       "    <tr>\n",
       "      <th>AP6</th>\n",
       "      <td>353.928</td>\n",
       "      <td>343.313</td>\n",
       "      <td>973.628714</td>\n",
       "    </tr>\n",
       "  </tbody>\n",
       "</table>\n",
       "</div>"
      ],
      "text/plain": [
       "Radiation                                GH       GT    ClearSky\n",
       "Datetime                  Location                              \n",
       "2010-03-19 14:15:00-10:00 AP1       476.328      NaN  973.629240\n",
       "                          AP3       382.777      NaN  973.625962\n",
       "                          AP4       351.610      NaN  973.624679\n",
       "                          AP5       390.092      NaN  973.630994\n",
       "                          AP6       353.928  343.313  973.628714"
      ]
     },
     "execution_count": 2,
     "metadata": {},
     "output_type": "execute_result"
    }
   ],
   "source": [
    "df.head()"
   ]
  },
  {
   "cell_type": "code",
   "execution_count": 3,
   "metadata": {},
   "outputs": [
    {
     "data": {
      "text/plain": [
       "(9058229, 3)"
      ]
     },
     "execution_count": 3,
     "metadata": {},
     "output_type": "execute_result"
    }
   ],
   "source": [
    "df.shape"
   ]
  },
  {
   "cell_type": "markdown",
   "metadata": {},
   "source": [
    "We need to:\n",
    "  * set negative GH to 0\n",
    "  * check if ClearSky is 0 when GH is 0\n",
    "  * normalize GH to [0, 1] by dividing by ClearSky\n",
    "  * check that GH norm is indeed in that interval"
   ]
  },
  {
   "cell_type": "markdown",
   "metadata": {},
   "source": [
    "Replace negative values with 0"
   ]
  },
  {
   "cell_type": "code",
   "execution_count": 4,
   "metadata": {
    "collapsed": true
   },
   "outputs": [],
   "source": [
    "df['GH'] = df['GH'].where(df.GH >= 0, other=0)"
   ]
  },
  {
   "cell_type": "code",
   "execution_count": 5,
   "metadata": {},
   "outputs": [
    {
     "data": {
      "text/html": [
       "<div>\n",
       "<style scoped>\n",
       "    .dataframe tbody tr th:only-of-type {\n",
       "        vertical-align: middle;\n",
       "    }\n",
       "\n",
       "    .dataframe tbody tr th {\n",
       "        vertical-align: top;\n",
       "    }\n",
       "\n",
       "    .dataframe thead th {\n",
       "        text-align: right;\n",
       "    }\n",
       "</style>\n",
       "<table border=\"1\" class=\"dataframe\">\n",
       "  <thead>\n",
       "    <tr style=\"text-align: right;\">\n",
       "      <th>Radiation</th>\n",
       "      <th>GH</th>\n",
       "      <th>GT</th>\n",
       "      <th>ClearSky</th>\n",
       "    </tr>\n",
       "  </thead>\n",
       "  <tbody>\n",
       "    <tr>\n",
       "      <th>count</th>\n",
       "      <td>9.058229e+06</td>\n",
       "      <td>1.065674e+06</td>\n",
       "      <td>9.058229e+06</td>\n",
       "    </tr>\n",
       "    <tr>\n",
       "      <th>mean</th>\n",
       "      <td>3.699619e+02</td>\n",
       "      <td>3.120598e+02</td>\n",
       "      <td>6.120445e+02</td>\n",
       "    </tr>\n",
       "    <tr>\n",
       "      <th>std</th>\n",
       "      <td>3.510375e+02</td>\n",
       "      <td>3.448069e+02</td>\n",
       "      <td>3.727819e+02</td>\n",
       "    </tr>\n",
       "    <tr>\n",
       "      <th>min</th>\n",
       "      <td>0.000000e+00</td>\n",
       "      <td>-4.096800e-01</td>\n",
       "      <td>0.000000e+00</td>\n",
       "    </tr>\n",
       "    <tr>\n",
       "      <th>25%</th>\n",
       "      <td>4.230270e+01</td>\n",
       "      <td>3.153470e+01</td>\n",
       "      <td>2.401275e+02</td>\n",
       "    </tr>\n",
       "    <tr>\n",
       "      <th>50%</th>\n",
       "      <td>2.690470e+02</td>\n",
       "      <td>1.702540e+02</td>\n",
       "      <td>8.027669e+02</td>\n",
       "    </tr>\n",
       "    <tr>\n",
       "      <th>75%</th>\n",
       "      <td>6.195370e+02</td>\n",
       "      <td>5.199770e+02</td>\n",
       "      <td>9.003047e+02</td>\n",
       "    </tr>\n",
       "    <tr>\n",
       "      <th>max</th>\n",
       "      <td>1.700350e+03</td>\n",
       "      <td>1.587020e+03</td>\n",
       "      <td>1.022676e+03</td>\n",
       "    </tr>\n",
       "  </tbody>\n",
       "</table>\n",
       "</div>"
      ],
      "text/plain": [
       "Radiation            GH            GT      ClearSky\n",
       "count      9.058229e+06  1.065674e+06  9.058229e+06\n",
       "mean       3.699619e+02  3.120598e+02  6.120445e+02\n",
       "std        3.510375e+02  3.448069e+02  3.727819e+02\n",
       "min        0.000000e+00 -4.096800e-01  0.000000e+00\n",
       "25%        4.230270e+01  3.153470e+01  2.401275e+02\n",
       "50%        2.690470e+02  1.702540e+02  8.027669e+02\n",
       "75%        6.195370e+02  5.199770e+02  9.003047e+02\n",
       "max        1.700350e+03  1.587020e+03  1.022676e+03"
      ]
     },
     "execution_count": 5,
     "metadata": {},
     "output_type": "execute_result"
    }
   ],
   "source": [
    "df.describe()"
   ]
  },
  {
   "cell_type": "markdown",
   "metadata": {},
   "source": [
    "Select rows where GH is 0 and ClearSky is not 0"
   ]
  },
  {
   "cell_type": "code",
   "execution_count": 6,
   "metadata": {
    "collapsed": true
   },
   "outputs": [],
   "source": [
    "gh = df.loc[np.isclose(df.GH, 0) & ~np.isclose(df.ClearSky, 0), ['GH', 'ClearSky']]"
   ]
  },
  {
   "cell_type": "code",
   "execution_count": 7,
   "metadata": {},
   "outputs": [
    {
     "data": {
      "text/plain": [
       "(648, 2)"
      ]
     },
     "execution_count": 7,
     "metadata": {},
     "output_type": "execute_result"
    }
   ],
   "source": [
    "gh.shape"
   ]
  },
  {
   "cell_type": "code",
   "execution_count": 8,
   "metadata": {},
   "outputs": [
    {
     "data": {
      "image/png": "[encoded data removed]",
      "text/plain": [
       "<Figure size 432x288 with 1 Axes>"
      ]
     },
     "metadata": {},
     "output_type": "display_data"
    }
   ],
   "source": [
    "gh.index.get_level_values(level='Datetime').hour.value_counts().sort_index().plot(kind='bar');"
   ]
  },
  {
   "cell_type": "markdown",
   "metadata": {},
   "source": [
    "Select rows where ClearSky is 0 and GH is not 0"
   ]
  },
  {
   "cell_type": "code",
   "execution_count": 9,
   "metadata": {
    "collapsed": true
   },
   "outputs": [],
   "source": [
    "cs = df.loc[~np.isclose(df.GH, 0) & np.isclose(df.ClearSky, 0), ['GH', 'ClearSky']]"
   ]
  },
  {
   "cell_type": "code",
   "execution_count": 10,
   "metadata": {},
   "outputs": [
    {
     "data": {
      "text/plain": [
       "(495325, 2)"
      ]
     },
     "execution_count": 10,
     "metadata": {},
     "output_type": "execute_result"
    }
   ],
   "source": [
    "cs.shape"
   ]
  },
  {
   "cell_type": "code",
   "execution_count": 11,
   "metadata": {},
   "outputs": [
    {
     "data": {
      "image/png": "[encoded data removed]",
      "text/plain": [
       "<Figure size 432x288 with 1 Axes>"
      ]
     },
     "metadata": {},
     "output_type": "display_data"
    }
   ],
   "source": [
    "cs.index.get_level_values(level='Datetime').hour.value_counts().sort_index().plot(kind='bar');"
   ]
  },
  {
   "cell_type": "markdown",
   "metadata": {},
   "source": [
    "What should we do with GH values where the ClearSky model is 0?? Here we set them to 1..."
   ]
  },
  {
   "cell_type": "code",
   "execution_count": 12,
   "metadata": {
    "collapsed": true
   },
   "outputs": [],
   "source": [
    "df['GHN'] = np.where(np.isclose(df['ClearSky'], 0), 1, df['GH']/df['ClearSky'])"
   ]
  },
  {
   "cell_type": "code",
   "execution_count": 13,
   "metadata": {},
   "outputs": [
    {
     "data": {
      "text/plain": [
       "count    9.058229e+06\n",
       "mean     1.549981e+00\n",
       "std      6.514131e+01\n",
       "min      0.000000e+00\n",
       "25%      3.340713e-01\n",
       "50%      6.381990e-01\n",
       "75%      1.000000e+00\n",
       "max      3.062428e+04\n",
       "Name: GHN, dtype: float64"
      ]
     },
     "execution_count": 13,
     "metadata": {},
     "output_type": "execute_result"
    }
   ],
   "source": [
    "df['GHN'].describe()"
   ]
  },
  {
   "cell_type": "code",
   "execution_count": 14,
   "metadata": {},
   "outputs": [
    {
     "data": {
      "text/plain": [
       "0.90    1.060668\n",
       "0.99    2.477348\n",
       "Name: GHN, dtype: float64"
      ]
     },
     "execution_count": 14,
     "metadata": {},
     "output_type": "execute_result"
    }
   ],
   "source": [
    "df['GHN'].quantile(q=[0.9, 0.99])"
   ]
  },
  {
   "cell_type": "markdown",
   "metadata": {},
   "source": [
    "What should we do with GH values greater than the ClearSky model? They will result in a normalized GH > 1"
   ]
  },
  {
   "cell_type": "code",
   "execution_count": 15,
   "metadata": {},
   "outputs": [
    {
     "data": {
      "text/plain": [
       "mean    1.259946e-01\n",
       "sum     1.141288e+06\n",
       "Name: GHN, dtype: float64"
      ]
     },
     "execution_count": 15,
     "metadata": {},
     "output_type": "execute_result"
    }
   ],
   "source": [
    "df['GHN'].gt(1).agg([np.mean, np.sum])"
   ]
  },
  {
   "cell_type": "code",
   "execution_count": null,
   "metadata": {
    "collapsed": true
   },
   "outputs": [],
   "source": []
  }
 ],
 "metadata": {
  "kernelspec": {
   "display_name": "Python 3",
   "language": "python",
   "name": "python3"
  },
  "language_info": {
   "codemirror_mode": {
    "name": "ipython",
    "version": 3
   },
   "file_extension": ".py",
   "mimetype": "text/x-python",
   "name": "python",
   "nbconvert_exporter": "python",
   "pygments_lexer": "ipython3",
   "version": "3.6.3"
  }
 },
 "nbformat": 4,
 "nbformat_minor": 2
}
