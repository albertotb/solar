{
 "cells": [
  {
   "cell_type": "code",
   "execution_count": 1,
   "metadata": {
    "collapsed": true
   },
   "outputs": [],
   "source": [
    "import pandas as pd\n",
    "import numpy as np\n",
    "import feather\n",
    "import matplotlib.pyplot as plt\n",
    "%matplotlib inline"
   ]
  },
  {
   "cell_type": "code",
   "execution_count": 2,
   "metadata": {},
   "outputs": [],
   "source": [
    "df = pd.read_pickle('pvlib.pkl')"
   ]
  },
  {
   "cell_type": "code",
   "execution_count": 3,
   "metadata": {},
   "outputs": [
    {
     "data": {
      "text/html": [
       "<div>\n",
       "<style scoped>\n",
       "    .dataframe tbody tr th:only-of-type {\n",
       "        vertical-align: middle;\n",
       "    }\n",
       "\n",
       "    .dataframe tbody tr th {\n",
       "        vertical-align: top;\n",
       "    }\n",
       "\n",
       "    .dataframe thead th {\n",
       "        text-align: right;\n",
       "    }\n",
       "</style>\n",
       "<table border=\"1\" class=\"dataframe\">\n",
       "  <thead>\n",
       "    <tr style=\"text-align: right;\">\n",
       "      <th></th>\n",
       "      <th>Radiation</th>\n",
       "      <th>GH</th>\n",
       "      <th>GT</th>\n",
       "      <th>ClearSky</th>\n",
       "      <th>Ineichen</th>\n",
       "      <th>Haurwitz</th>\n",
       "      <th>Solis</th>\n",
       "    </tr>\n",
       "    <tr>\n",
       "      <th>Datetime</th>\n",
       "      <th>Location</th>\n",
       "      <th></th>\n",
       "      <th></th>\n",
       "      <th></th>\n",
       "      <th></th>\n",
       "      <th></th>\n",
       "      <th></th>\n",
       "    </tr>\n",
       "  </thead>\n",
       "  <tbody>\n",
       "    <tr>\n",
       "      <th rowspan=\"5\" valign=\"top\">2010-03-19 14:15:00-10:00</th>\n",
       "      <th>AP1</th>\n",
       "      <td>476.328</td>\n",
       "      <td>NaN</td>\n",
       "      <td>973.629240</td>\n",
       "      <td>840.960548</td>\n",
       "      <td>871.749955</td>\n",
       "      <td>907.496424</td>\n",
       "    </tr>\n",
       "    <tr>\n",
       "      <th>AP3</th>\n",
       "      <td>382.777</td>\n",
       "      <td>NaN</td>\n",
       "      <td>973.625962</td>\n",
       "      <td>841.600950</td>\n",
       "      <td>871.733426</td>\n",
       "      <td>907.477590</td>\n",
       "    </tr>\n",
       "    <tr>\n",
       "      <th>AP4</th>\n",
       "      <td>351.610</td>\n",
       "      <td>NaN</td>\n",
       "      <td>973.624679</td>\n",
       "      <td>841.594000</td>\n",
       "      <td>871.726958</td>\n",
       "      <td>907.470220</td>\n",
       "    </tr>\n",
       "    <tr>\n",
       "      <th>AP5</th>\n",
       "      <td>390.092</td>\n",
       "      <td>NaN</td>\n",
       "      <td>973.630994</td>\n",
       "      <td>841.628209</td>\n",
       "      <td>871.758798</td>\n",
       "      <td>907.506499</td>\n",
       "    </tr>\n",
       "    <tr>\n",
       "      <th>AP6</th>\n",
       "      <td>353.928</td>\n",
       "      <td>343.313</td>\n",
       "      <td>973.628714</td>\n",
       "      <td>841.615852</td>\n",
       "      <td>871.747297</td>\n",
       "      <td>907.493395</td>\n",
       "    </tr>\n",
       "  </tbody>\n",
       "</table>\n",
       "</div>"
      ],
      "text/plain": [
       "Radiation                                GH       GT    ClearSky    Ineichen  \\\n",
       "Datetime                  Location                                             \n",
       "2010-03-19 14:15:00-10:00 AP1       476.328      NaN  973.629240  840.960548   \n",
       "                          AP3       382.777      NaN  973.625962  841.600950   \n",
       "                          AP4       351.610      NaN  973.624679  841.594000   \n",
       "                          AP5       390.092      NaN  973.630994  841.628209   \n",
       "                          AP6       353.928  343.313  973.628714  841.615852   \n",
       "\n",
       "Radiation                             Haurwitz       Solis  \n",
       "Datetime                  Location                          \n",
       "2010-03-19 14:15:00-10:00 AP1       871.749955  907.496424  \n",
       "                          AP3       871.733426  907.477590  \n",
       "                          AP4       871.726958  907.470220  \n",
       "                          AP5       871.758798  907.506499  \n",
       "                          AP6       871.747297  907.493395  "
      ]
     },
     "execution_count": 3,
     "metadata": {},
     "output_type": "execute_result"
    }
   ],
   "source": [
    "df.head()"
   ]
  },
  {
   "cell_type": "code",
   "execution_count": 4,
   "metadata": {},
   "outputs": [
    {
     "data": {
      "text/plain": [
       "(9058229, 6)"
      ]
     },
     "execution_count": 4,
     "metadata": {},
     "output_type": "execute_result"
    }
   ],
   "source": [
    "df.shape"
   ]
  },
  {
   "cell_type": "markdown",
   "metadata": {},
   "source": [
    "We need to:\n",
    "  * set negative GH to 0\n",
    "  * check if ClearSky is 0 when GH is 0\n",
    "  * normalize GH to [0, 1] by dividing by ClearSky\n",
    "  * check that GH norm is indeed in that interval"
   ]
  },
  {
   "cell_type": "markdown",
   "metadata": {},
   "source": [
    "Replace negative values with 0"
   ]
  },
  {
   "cell_type": "code",
   "execution_count": 5,
   "metadata": {
    "collapsed": true
   },
   "outputs": [],
   "source": [
    "df['GH'] = df['GH'].where(df.GH >= 0, other=0)"
   ]
  },
  {
   "cell_type": "code",
   "execution_count": 12,
   "metadata": {},
   "outputs": [
    {
     "data": {
      "text/html": [
       "<style  type=\"text/css\" >\n",
       "</style><table id=\"T_7ceabda4_498e_11e9_8007_d8cb8ac57ff3\" ><thead>    <tr>        <th class=\"index_name level0\" >Radiation</th>        <th class=\"col_heading level0 col0\" >GH</th>        <th class=\"col_heading level0 col1\" >GT</th>        <th class=\"col_heading level0 col2\" >ClearSky</th>        <th class=\"col_heading level0 col3\" >Ineichen</th>        <th class=\"col_heading level0 col4\" >Haurwitz</th>        <th class=\"col_heading level0 col5\" >Solis</th>    </tr></thead><tbody>\n",
       "                <tr>\n",
       "                        <th id=\"T_7ceabda4_498e_11e9_8007_d8cb8ac57ff3level0_row0\" class=\"row_heading level0 row0\" >count</th>\n",
       "                        <td id=\"T_7ceabda4_498e_11e9_8007_d8cb8ac57ff3row0_col0\" class=\"data row0 col0\" >9.05823e+06</td>\n",
       "                        <td id=\"T_7ceabda4_498e_11e9_8007_d8cb8ac57ff3row0_col1\" class=\"data row0 col1\" >1.06567e+06</td>\n",
       "                        <td id=\"T_7ceabda4_498e_11e9_8007_d8cb8ac57ff3row0_col2\" class=\"data row0 col2\" >9.05823e+06</td>\n",
       "                        <td id=\"T_7ceabda4_498e_11e9_8007_d8cb8ac57ff3row0_col3\" class=\"data row0 col3\" >9.05823e+06</td>\n",
       "                        <td id=\"T_7ceabda4_498e_11e9_8007_d8cb8ac57ff3row0_col4\" class=\"data row0 col4\" >9.05823e+06</td>\n",
       "                        <td id=\"T_7ceabda4_498e_11e9_8007_d8cb8ac57ff3row0_col5\" class=\"data row0 col5\" >9.05823e+06</td>\n",
       "            </tr>\n",
       "            <tr>\n",
       "                        <th id=\"T_7ceabda4_498e_11e9_8007_d8cb8ac57ff3level0_row1\" class=\"row_heading level0 row1\" >mean</th>\n",
       "                        <td id=\"T_7ceabda4_498e_11e9_8007_d8cb8ac57ff3row1_col0\" class=\"data row1 col0\" >369.962</td>\n",
       "                        <td id=\"T_7ceabda4_498e_11e9_8007_d8cb8ac57ff3row1_col1\" class=\"data row1 col1\" >312.06</td>\n",
       "                        <td id=\"T_7ceabda4_498e_11e9_8007_d8cb8ac57ff3row1_col2\" class=\"data row1 col2\" >612.044</td>\n",
       "                        <td id=\"T_7ceabda4_498e_11e9_8007_d8cb8ac57ff3row1_col3\" class=\"data row1 col3\" >432.497</td>\n",
       "                        <td id=\"T_7ceabda4_498e_11e9_8007_d8cb8ac57ff3row1_col4\" class=\"data row1 col4\" >479.78</td>\n",
       "                        <td id=\"T_7ceabda4_498e_11e9_8007_d8cb8ac57ff3row1_col5\" class=\"data row1 col5\" >482.42</td>\n",
       "            </tr>\n",
       "            <tr>\n",
       "                        <th id=\"T_7ceabda4_498e_11e9_8007_d8cb8ac57ff3level0_row2\" class=\"row_heading level0 row2\" >std</th>\n",
       "                        <td id=\"T_7ceabda4_498e_11e9_8007_d8cb8ac57ff3row2_col0\" class=\"data row2 col0\" >351.038</td>\n",
       "                        <td id=\"T_7ceabda4_498e_11e9_8007_d8cb8ac57ff3row2_col1\" class=\"data row2 col1\" >344.807</td>\n",
       "                        <td id=\"T_7ceabda4_498e_11e9_8007_d8cb8ac57ff3row2_col2\" class=\"data row2 col2\" >372.782</td>\n",
       "                        <td id=\"T_7ceabda4_498e_11e9_8007_d8cb8ac57ff3row2_col3\" class=\"data row2 col3\" >348.093</td>\n",
       "                        <td id=\"T_7ceabda4_498e_11e9_8007_d8cb8ac57ff3row2_col4\" class=\"data row2 col4\" >365.39</td>\n",
       "                        <td id=\"T_7ceabda4_498e_11e9_8007_d8cb8ac57ff3row2_col5\" class=\"data row2 col5\" >374.732</td>\n",
       "            </tr>\n",
       "            <tr>\n",
       "                        <th id=\"T_7ceabda4_498e_11e9_8007_d8cb8ac57ff3level0_row3\" class=\"row_heading level0 row3\" >min</th>\n",
       "                        <td id=\"T_7ceabda4_498e_11e9_8007_d8cb8ac57ff3row3_col0\" class=\"data row3 col0\" >0</td>\n",
       "                        <td id=\"T_7ceabda4_498e_11e9_8007_d8cb8ac57ff3row3_col1\" class=\"data row3 col1\" >-0.40968</td>\n",
       "                        <td id=\"T_7ceabda4_498e_11e9_8007_d8cb8ac57ff3row3_col2\" class=\"data row3 col2\" >0</td>\n",
       "                        <td id=\"T_7ceabda4_498e_11e9_8007_d8cb8ac57ff3row3_col3\" class=\"data row3 col3\" >0</td>\n",
       "                        <td id=\"T_7ceabda4_498e_11e9_8007_d8cb8ac57ff3row3_col4\" class=\"data row3 col4\" >0</td>\n",
       "                        <td id=\"T_7ceabda4_498e_11e9_8007_d8cb8ac57ff3row3_col5\" class=\"data row3 col5\" >0</td>\n",
       "            </tr>\n",
       "            <tr>\n",
       "                        <th id=\"T_7ceabda4_498e_11e9_8007_d8cb8ac57ff3level0_row4\" class=\"row_heading level0 row4\" >25%</th>\n",
       "                        <td id=\"T_7ceabda4_498e_11e9_8007_d8cb8ac57ff3row4_col0\" class=\"data row4 col0\" >42.3027</td>\n",
       "                        <td id=\"T_7ceabda4_498e_11e9_8007_d8cb8ac57ff3row4_col1\" class=\"data row4 col1\" >31.5347</td>\n",
       "                        <td id=\"T_7ceabda4_498e_11e9_8007_d8cb8ac57ff3row4_col2\" class=\"data row4 col2\" >240.128</td>\n",
       "                        <td id=\"T_7ceabda4_498e_11e9_8007_d8cb8ac57ff3row4_col3\" class=\"data row4 col3\" >34.2275</td>\n",
       "                        <td id=\"T_7ceabda4_498e_11e9_8007_d8cb8ac57ff3row4_col4\" class=\"data row4 col4\" >76.3822</td>\n",
       "                        <td id=\"T_7ceabda4_498e_11e9_8007_d8cb8ac57ff3row4_col5\" class=\"data row4 col5\" >72.1068</td>\n",
       "            </tr>\n",
       "            <tr>\n",
       "                        <th id=\"T_7ceabda4_498e_11e9_8007_d8cb8ac57ff3level0_row5\" class=\"row_heading level0 row5\" >50%</th>\n",
       "                        <td id=\"T_7ceabda4_498e_11e9_8007_d8cb8ac57ff3row5_col0\" class=\"data row5 col0\" >269.047</td>\n",
       "                        <td id=\"T_7ceabda4_498e_11e9_8007_d8cb8ac57ff3row5_col1\" class=\"data row5 col1\" >170.254</td>\n",
       "                        <td id=\"T_7ceabda4_498e_11e9_8007_d8cb8ac57ff3row5_col2\" class=\"data row5 col2\" >802.767</td>\n",
       "                        <td id=\"T_7ceabda4_498e_11e9_8007_d8cb8ac57ff3row5_col3\" class=\"data row5 col3\" >442.5</td>\n",
       "                        <td id=\"T_7ceabda4_498e_11e9_8007_d8cb8ac57ff3row5_col4\" class=\"data row5 col4\" >509.373</td>\n",
       "                        <td id=\"T_7ceabda4_498e_11e9_8007_d8cb8ac57ff3row5_col5\" class=\"data row5 col5\" >498.184</td>\n",
       "            </tr>\n",
       "            <tr>\n",
       "                        <th id=\"T_7ceabda4_498e_11e9_8007_d8cb8ac57ff3level0_row6\" class=\"row_heading level0 row6\" >75%</th>\n",
       "                        <td id=\"T_7ceabda4_498e_11e9_8007_d8cb8ac57ff3row6_col0\" class=\"data row6 col0\" >619.537</td>\n",
       "                        <td id=\"T_7ceabda4_498e_11e9_8007_d8cb8ac57ff3row6_col1\" class=\"data row6 col1\" >519.977</td>\n",
       "                        <td id=\"T_7ceabda4_498e_11e9_8007_d8cb8ac57ff3row6_col2\" class=\"data row6 col2\" >900.305</td>\n",
       "                        <td id=\"T_7ceabda4_498e_11e9_8007_d8cb8ac57ff3row6_col3\" class=\"data row6 col3\" >762.037</td>\n",
       "                        <td id=\"T_7ceabda4_498e_11e9_8007_d8cb8ac57ff3row6_col4\" class=\"data row6 col4\" >816.827</td>\n",
       "                        <td id=\"T_7ceabda4_498e_11e9_8007_d8cb8ac57ff3row6_col5\" class=\"data row6 col5\" >832.076</td>\n",
       "            </tr>\n",
       "            <tr>\n",
       "                        <th id=\"T_7ceabda4_498e_11e9_8007_d8cb8ac57ff3level0_row7\" class=\"row_heading level0 row7\" >max</th>\n",
       "                        <td id=\"T_7ceabda4_498e_11e9_8007_d8cb8ac57ff3row7_col0\" class=\"data row7 col0\" >1700.35</td>\n",
       "                        <td id=\"T_7ceabda4_498e_11e9_8007_d8cb8ac57ff3row7_col1\" class=\"data row7 col1\" >1587.02</td>\n",
       "                        <td id=\"T_7ceabda4_498e_11e9_8007_d8cb8ac57ff3row7_col2\" class=\"data row7 col2\" >1022.68</td>\n",
       "                        <td id=\"T_7ceabda4_498e_11e9_8007_d8cb8ac57ff3row7_col3\" class=\"data row7 col3\" >976.033</td>\n",
       "                        <td id=\"T_7ceabda4_498e_11e9_8007_d8cb8ac57ff3row7_col4\" class=\"data row7 col4\" >1035.09</td>\n",
       "                        <td id=\"T_7ceabda4_498e_11e9_8007_d8cb8ac57ff3row7_col5\" class=\"data row7 col5\" >1061.95</td>\n",
       "            </tr>\n",
       "    </tbody></table>"
      ],
      "text/plain": [
       "<pandas.io.formats.style.Styler at 0x7ff861821d30>"
      ]
     },
     "execution_count": 12,
     "metadata": {},
     "output_type": "execute_result"
    }
   ],
   "source": [
    "df.describe().style"
   ]
  },
  {
   "cell_type": "markdown",
   "metadata": {},
   "source": [
    "Filter datetimes between 7:30am and 17:30pm to always get sunlight"
   ]
  },
  {
   "cell_type": "code",
   "execution_count": 7,
   "metadata": {},
   "outputs": [],
   "source": [
    "df1 = df.unstack().between_time('7:30', '17:30').stack()"
   ]
  },
  {
   "cell_type": "markdown",
   "metadata": {},
   "source": [
    "Select rows where ClearSky is 0 and GH is not 0"
   ]
  },
  {
   "cell_type": "code",
   "execution_count": 11,
   "metadata": {
    "scrolled": false
   },
   "outputs": [
    {
     "data": {
      "text/html": [
       "<style  type=\"text/css\" >\n",
       "</style><table id=\"T_ad66e59c_498a_11e9_8007_d8cb8ac57ff3\" ><thead>    <tr>        <th class=\"blank level0\" ></th>        <th class=\"col_heading level0 col0\" >ClearSky</th>        <th class=\"col_heading level0 col1\" >Ineichen</th>        <th class=\"col_heading level0 col2\" >Haurwitz</th>        <th class=\"col_heading level0 col3\" >Solis</th>    </tr></thead><tbody>\n",
       "                <tr>\n",
       "                        <th id=\"T_ad66e59c_498a_11e9_8007_d8cb8ac57ff3level0_row0\" class=\"row_heading level0 row0\" >count</th>\n",
       "                        <td id=\"T_ad66e59c_498a_11e9_8007_d8cb8ac57ff3row0_col0\" class=\"data row0 col0\" >6.04158e+06</td>\n",
       "                        <td id=\"T_ad66e59c_498a_11e9_8007_d8cb8ac57ff3row0_col1\" class=\"data row0 col1\" >6.04158e+06</td>\n",
       "                        <td id=\"T_ad66e59c_498a_11e9_8007_d8cb8ac57ff3row0_col2\" class=\"data row0 col2\" >6.04158e+06</td>\n",
       "                        <td id=\"T_ad66e59c_498a_11e9_8007_d8cb8ac57ff3row0_col3\" class=\"data row0 col3\" >6.04158e+06</td>\n",
       "            </tr>\n",
       "            <tr>\n",
       "                        <th id=\"T_ad66e59c_498a_11e9_8007_d8cb8ac57ff3level0_row1\" class=\"row_heading level0 row1\" >mean</th>\n",
       "                        <td id=\"T_ad66e59c_498a_11e9_8007_d8cb8ac57ff3row1_col0\" class=\"data row1 col0\" >0.609836</td>\n",
       "                        <td id=\"T_ad66e59c_498a_11e9_8007_d8cb8ac57ff3row1_col1\" class=\"data row1 col1\" >0.872554</td>\n",
       "                        <td id=\"T_ad66e59c_498a_11e9_8007_d8cb8ac57ff3row1_col2\" class=\"data row1 col2\" >0.771898</td>\n",
       "                        <td id=\"T_ad66e59c_498a_11e9_8007_d8cb8ac57ff3row1_col3\" class=\"data row1 col3\" >0.772333</td>\n",
       "            </tr>\n",
       "            <tr>\n",
       "                        <th id=\"T_ad66e59c_498a_11e9_8007_d8cb8ac57ff3level0_row2\" class=\"row_heading level0 row2\" >std</th>\n",
       "                        <td id=\"T_ad66e59c_498a_11e9_8007_d8cb8ac57ff3row2_col0\" class=\"data row2 col0\" >0.339151</td>\n",
       "                        <td id=\"T_ad66e59c_498a_11e9_8007_d8cb8ac57ff3row2_col1\" class=\"data row2 col1\" >0.403347</td>\n",
       "                        <td id=\"T_ad66e59c_498a_11e9_8007_d8cb8ac57ff3row2_col2\" class=\"data row2 col2\" >0.34579</td>\n",
       "                        <td id=\"T_ad66e59c_498a_11e9_8007_d8cb8ac57ff3row2_col3\" class=\"data row2 col3\" >0.345167</td>\n",
       "            </tr>\n",
       "            <tr>\n",
       "                        <th id=\"T_ad66e59c_498a_11e9_8007_d8cb8ac57ff3level0_row3\" class=\"row_heading level0 row3\" >min</th>\n",
       "                        <td id=\"T_ad66e59c_498a_11e9_8007_d8cb8ac57ff3row3_col0\" class=\"data row3 col0\" >0</td>\n",
       "                        <td id=\"T_ad66e59c_498a_11e9_8007_d8cb8ac57ff3row3_col1\" class=\"data row3 col1\" >0</td>\n",
       "                        <td id=\"T_ad66e59c_498a_11e9_8007_d8cb8ac57ff3row3_col2\" class=\"data row3 col2\" >0</td>\n",
       "                        <td id=\"T_ad66e59c_498a_11e9_8007_d8cb8ac57ff3row3_col3\" class=\"data row3 col3\" >0</td>\n",
       "            </tr>\n",
       "            <tr>\n",
       "                        <th id=\"T_ad66e59c_498a_11e9_8007_d8cb8ac57ff3level0_row4\" class=\"row_heading level0 row4\" >25%</th>\n",
       "                        <td id=\"T_ad66e59c_498a_11e9_8007_d8cb8ac57ff3row4_col0\" class=\"data row4 col0\" >0.318779</td>\n",
       "                        <td id=\"T_ad66e59c_498a_11e9_8007_d8cb8ac57ff3row4_col1\" class=\"data row4 col1\" >0.478783</td>\n",
       "                        <td id=\"T_ad66e59c_498a_11e9_8007_d8cb8ac57ff3row4_col2\" class=\"data row4 col2\" >0.425978</td>\n",
       "                        <td id=\"T_ad66e59c_498a_11e9_8007_d8cb8ac57ff3row4_col3\" class=\"data row4 col3\" >0.426563</td>\n",
       "            </tr>\n",
       "            <tr>\n",
       "                        <th id=\"T_ad66e59c_498a_11e9_8007_d8cb8ac57ff3level0_row5\" class=\"row_heading level0 row5\" >50%</th>\n",
       "                        <td id=\"T_ad66e59c_498a_11e9_8007_d8cb8ac57ff3row5_col0\" class=\"data row5 col0\" >0.561595</td>\n",
       "                        <td id=\"T_ad66e59c_498a_11e9_8007_d8cb8ac57ff3row5_col1\" class=\"data row5 col1\" >1.05537</td>\n",
       "                        <td id=\"T_ad66e59c_498a_11e9_8007_d8cb8ac57ff3row5_col2\" class=\"data row5 col2\" >0.933943</td>\n",
       "                        <td id=\"T_ad66e59c_498a_11e9_8007_d8cb8ac57ff3row5_col3\" class=\"data row5 col3\" >0.95859</td>\n",
       "            </tr>\n",
       "            <tr>\n",
       "                        <th id=\"T_ad66e59c_498a_11e9_8007_d8cb8ac57ff3level0_row6\" class=\"row_heading level0 row6\" >75%</th>\n",
       "                        <td id=\"T_ad66e59c_498a_11e9_8007_d8cb8ac57ff3row6_col0\" class=\"data row6 col0\" >0.868854</td>\n",
       "                        <td id=\"T_ad66e59c_498a_11e9_8007_d8cb8ac57ff3row6_col1\" class=\"data row6 col1\" >1.17201</td>\n",
       "                        <td id=\"T_ad66e59c_498a_11e9_8007_d8cb8ac57ff3row6_col2\" class=\"data row6 col2\" >1.04484</td>\n",
       "                        <td id=\"T_ad66e59c_498a_11e9_8007_d8cb8ac57ff3row6_col3\" class=\"data row6 col3\" >1.03738</td>\n",
       "            </tr>\n",
       "            <tr>\n",
       "                        <th id=\"T_ad66e59c_498a_11e9_8007_d8cb8ac57ff3level0_row7\" class=\"row_heading level0 row7\" >max</th>\n",
       "                        <td id=\"T_ad66e59c_498a_11e9_8007_d8cb8ac57ff3row7_col0\" class=\"data row7 col0\" >3.16413</td>\n",
       "                        <td id=\"T_ad66e59c_498a_11e9_8007_d8cb8ac57ff3row7_col1\" class=\"data row7 col1\" >29.1443</td>\n",
       "                        <td id=\"T_ad66e59c_498a_11e9_8007_d8cb8ac57ff3row7_col2\" class=\"data row7 col2\" >12.4256</td>\n",
       "                        <td id=\"T_ad66e59c_498a_11e9_8007_d8cb8ac57ff3row7_col3\" class=\"data row7 col3\" >12.4105</td>\n",
       "            </tr>\n",
       "            <tr>\n",
       "                        <th id=\"T_ad66e59c_498a_11e9_8007_d8cb8ac57ff3level0_row8\" class=\"row_heading level0 row8\" >90%</th>\n",
       "                        <td id=\"T_ad66e59c_498a_11e9_8007_d8cb8ac57ff3row8_col0\" class=\"data row8 col0\" >1.10763</td>\n",
       "                        <td id=\"T_ad66e59c_498a_11e9_8007_d8cb8ac57ff3row8_col1\" class=\"data row8 col1\" >1.28658</td>\n",
       "                        <td id=\"T_ad66e59c_498a_11e9_8007_d8cb8ac57ff3row8_col2\" class=\"data row8 col2\" >1.14367</td>\n",
       "                        <td id=\"T_ad66e59c_498a_11e9_8007_d8cb8ac57ff3row8_col3\" class=\"data row8 col3\" >1.1355</td>\n",
       "            </tr>\n",
       "            <tr>\n",
       "                        <th id=\"T_ad66e59c_498a_11e9_8007_d8cb8ac57ff3level0_row9\" class=\"row_heading level0 row9\" >99%</th>\n",
       "                        <td id=\"T_ad66e59c_498a_11e9_8007_d8cb8ac57ff3row9_col0\" class=\"data row9 col0\" >1.36761</td>\n",
       "                        <td id=\"T_ad66e59c_498a_11e9_8007_d8cb8ac57ff3row9_col1\" class=\"data row9 col1\" >1.63198</td>\n",
       "                        <td id=\"T_ad66e59c_498a_11e9_8007_d8cb8ac57ff3row9_col2\" class=\"data row9 col2\" >1.34406</td>\n",
       "                        <td id=\"T_ad66e59c_498a_11e9_8007_d8cb8ac57ff3row9_col3\" class=\"data row9 col3\" >1.34148</td>\n",
       "            </tr>\n",
       "            <tr>\n",
       "                        <th id=\"T_ad66e59c_498a_11e9_8007_d8cb8ac57ff3level0_row10\" class=\"row_heading level0 row10\" >#>1</th>\n",
       "                        <td id=\"T_ad66e59c_498a_11e9_8007_d8cb8ac57ff3row10_col0\" class=\"data row10 col0\" >1.00042e+06</td>\n",
       "                        <td id=\"T_ad66e59c_498a_11e9_8007_d8cb8ac57ff3row10_col1\" class=\"data row10 col1\" >3.23175e+06</td>\n",
       "                        <td id=\"T_ad66e59c_498a_11e9_8007_d8cb8ac57ff3row10_col2\" class=\"data row10 col2\" >2.22801e+06</td>\n",
       "                        <td id=\"T_ad66e59c_498a_11e9_8007_d8cb8ac57ff3row10_col3\" class=\"data row10 col3\" >2.30818e+06</td>\n",
       "            </tr>\n",
       "            <tr>\n",
       "                        <th id=\"T_ad66e59c_498a_11e9_8007_d8cb8ac57ff3level0_row11\" class=\"row_heading level0 row11\" >%>1</th>\n",
       "                        <td id=\"T_ad66e59c_498a_11e9_8007_d8cb8ac57ff3row11_col0\" class=\"data row11 col0\" >0.165589</td>\n",
       "                        <td id=\"T_ad66e59c_498a_11e9_8007_d8cb8ac57ff3row11_col1\" class=\"data row11 col1\" >0.534918</td>\n",
       "                        <td id=\"T_ad66e59c_498a_11e9_8007_d8cb8ac57ff3row11_col2\" class=\"data row11 col2\" >0.36878</td>\n",
       "                        <td id=\"T_ad66e59c_498a_11e9_8007_d8cb8ac57ff3row11_col3\" class=\"data row11 col3\" >0.38205</td>\n",
       "            </tr>\n",
       "            <tr>\n",
       "                        <th id=\"T_ad66e59c_498a_11e9_8007_d8cb8ac57ff3level0_row12\" class=\"row_heading level0 row12\" >#CS=0</th>\n",
       "                        <td id=\"T_ad66e59c_498a_11e9_8007_d8cb8ac57ff3row12_col0\" class=\"data row12 col0\" >0</td>\n",
       "                        <td id=\"T_ad66e59c_498a_11e9_8007_d8cb8ac57ff3row12_col1\" class=\"data row12 col1\" >0</td>\n",
       "                        <td id=\"T_ad66e59c_498a_11e9_8007_d8cb8ac57ff3row12_col2\" class=\"data row12 col2\" >0</td>\n",
       "                        <td id=\"T_ad66e59c_498a_11e9_8007_d8cb8ac57ff3row12_col3\" class=\"data row12 col3\" >0</td>\n",
       "            </tr>\n",
       "    </tbody></table>"
      ],
      "text/plain": [
       "<pandas.io.formats.style.Styler at 0x7ff8d46cfac8>"
      ]
     },
     "execution_count": 11,
     "metadata": {},
     "output_type": "execute_result"
    }
   ],
   "source": [
    "res = []\n",
    "for clearsky in ('ClearSky', 'Ineichen', 'Haurwitz', 'Solis'):   \n",
    "    name = 'GHI_{}'.format(clearsky)\n",
    "    cs = df1.loc[~np.isclose(df1['GH'], 0) &  np.isclose(df1[clearsky], 0), ['GH', clearsky]]\n",
    "    \n",
    "    df1[name] = np.where(np.isclose(df1[clearsky], 0), 1, df1['GH']/df1[clearsky])\n",
    "    \n",
    "    summ = df1[name].describe()\n",
    "    q90, q99 = df1[name].quantile(q=[0.9, 0.99])\n",
    "    per_gt_1, num_gt_1 = df1[name].gt(1).agg([np.mean, np.sum])\n",
    "    \n",
    "    summ['90%'] = q90\n",
    "    summ['99%'] = q99\n",
    "    summ['#>1'] = num_gt_1\n",
    "    summ['%>1'] = per_gt_1\n",
    "    summ['#CS=0'] = cs.shape[0]\n",
    "    summ.name = clearsky\n",
    "    res.append(summ)\n",
    "\n",
    "pd.concat(res, axis=1, sort=False).style"
   ]
  },
  {
   "cell_type": "code",
   "execution_count": null,
   "metadata": {
    "collapsed": true
   },
   "outputs": [],
   "source": []
  }
 ],
 "metadata": {
  "kernelspec": {
   "display_name": "Python 3",
   "language": "python",
   "name": "python3"
  },
  "language_info": {
   "codemirror_mode": {
    "name": "ipython",
    "version": 3
   },
   "file_extension": ".py",
   "mimetype": "text/x-python",
   "name": "python",
   "nbconvert_exporter": "python",
   "pygments_lexer": "ipython3",
   "version": "3.6.3"
  }
 },
 "nbformat": 4,
 "nbformat_minor": 2
}
