{
 "cells": [
  {
   "cell_type": "code",
   "execution_count": 1,
   "metadata": {
    "collapsed": true
   },
   "outputs": [],
   "source": [
    "import pandas as pd\n",
    "import numpy as np\n",
    "import feather\n",
    "\n",
    "df = (feather.read_dataframe('/home/SHARED/SOLAR/data/oahu_min.feather')\n",
    "             .set_index('Datetime'))"
   ]
  },
  {
   "cell_type": "code",
   "execution_count": 66,
   "metadata": {
    "collapsed": true
   },
   "outputs": [],
   "source": [
    "info = pd.read_csv('/home/SHARED/SOLAR/data/info.csv')"
   ]
  },
  {
   "cell_type": "code",
   "execution_count": 67,
   "metadata": {},
   "outputs": [],
   "source": [
    "info['Location'] = info['Location'].str.replace('(HL)?_', '')"
   ]
  },
  {
   "cell_type": "code",
   "execution_count": 70,
   "metadata": {},
   "outputs": [],
   "source": [
    "info.set_index('Location', inplace=True)"
   ]
  },
  {
   "cell_type": "code",
   "execution_count": 72,
   "metadata": {},
   "outputs": [
    {
     "data": {
      "text/html": [
       "<div>\n",
       "<style scoped>\n",
       "    .dataframe tbody tr th:only-of-type {\n",
       "        vertical-align: middle;\n",
       "    }\n",
       "\n",
       "    .dataframe tbody tr th {\n",
       "        vertical-align: top;\n",
       "    }\n",
       "\n",
       "    .dataframe thead th {\n",
       "        text-align: right;\n",
       "    }\n",
       "</style>\n",
       "<table border=\"1\" class=\"dataframe\">\n",
       "  <thead>\n",
       "    <tr style=\"text-align: right;\">\n",
       "      <th></th>\n",
       "      <th>Pakbus</th>\n",
       "      <th>Latitude</th>\n",
       "      <th>Longitude</th>\n",
       "      <th>Sensor</th>\n",
       "      <th>CF</th>\n",
       "    </tr>\n",
       "    <tr>\n",
       "      <th>Location</th>\n",
       "      <th></th>\n",
       "      <th></th>\n",
       "      <th></th>\n",
       "      <th></th>\n",
       "      <th></th>\n",
       "    </tr>\n",
       "  </thead>\n",
       "  <tbody>\n",
       "    <tr>\n",
       "      <th>DH3</th>\n",
       "      <td>201</td>\n",
       "      <td>21.31236</td>\n",
       "      <td>-158.08463</td>\n",
       "      <td>PY66499</td>\n",
       "      <td>141.76</td>\n",
       "    </tr>\n",
       "    <tr>\n",
       "      <th>DH4</th>\n",
       "      <td>202</td>\n",
       "      <td>21.31303</td>\n",
       "      <td>-158.08505</td>\n",
       "      <td>PY66500</td>\n",
       "      <td>118.01</td>\n",
       "    </tr>\n",
       "    <tr>\n",
       "      <th>DH5</th>\n",
       "      <td>203</td>\n",
       "      <td>21.31357</td>\n",
       "      <td>-158.08424</td>\n",
       "      <td>PY66501</td>\n",
       "      <td>104.46</td>\n",
       "    </tr>\n",
       "    <tr>\n",
       "      <th>DH10</th>\n",
       "      <td>204</td>\n",
       "      <td>21.31183</td>\n",
       "      <td>-158.08554</td>\n",
       "      <td>PY66502</td>\n",
       "      <td>109.06</td>\n",
       "    </tr>\n",
       "    <tr>\n",
       "      <th>DH11</th>\n",
       "      <td>205</td>\n",
       "      <td>21.31042</td>\n",
       "      <td>-158.08530</td>\n",
       "      <td>PY66503</td>\n",
       "      <td>114.71</td>\n",
       "    </tr>\n",
       "    <tr>\n",
       "      <th>DH9</th>\n",
       "      <td>206</td>\n",
       "      <td>21.31268</td>\n",
       "      <td>-158.08688</td>\n",
       "      <td>PY66504</td>\n",
       "      <td>141.92</td>\n",
       "    </tr>\n",
       "    <tr>\n",
       "      <th>DH2</th>\n",
       "      <td>207</td>\n",
       "      <td>21.31451</td>\n",
       "      <td>-158.08534</td>\n",
       "      <td>PY66505</td>\n",
       "      <td>106.39</td>\n",
       "    </tr>\n",
       "    <tr>\n",
       "      <th>DH1</th>\n",
       "      <td>208</td>\n",
       "      <td>21.31533</td>\n",
       "      <td>-158.08700</td>\n",
       "      <td>PY66519</td>\n",
       "      <td>107.34</td>\n",
       "    </tr>\n",
       "    <tr>\n",
       "      <th>AP6</th>\n",
       "      <td>209</td>\n",
       "      <td>21.30812</td>\n",
       "      <td>-158.07935</td>\n",
       "      <td>PY66521</td>\n",
       "      <td>117.34</td>\n",
       "    </tr>\n",
       "    <tr>\n",
       "      <th>AP1</th>\n",
       "      <td>210</td>\n",
       "      <td>21.31276</td>\n",
       "      <td>-158.08389</td>\n",
       "      <td>PY66523</td>\n",
       "      <td>110.40</td>\n",
       "    </tr>\n",
       "    <tr>\n",
       "      <th>AP3</th>\n",
       "      <td>211</td>\n",
       "      <td>21.31281</td>\n",
       "      <td>-158.08163</td>\n",
       "      <td>PY66524</td>\n",
       "      <td>113.55</td>\n",
       "    </tr>\n",
       "    <tr>\n",
       "      <th>AP5</th>\n",
       "      <td>212</td>\n",
       "      <td>21.30983</td>\n",
       "      <td>-158.08249</td>\n",
       "      <td>PY66525</td>\n",
       "      <td>116.04</td>\n",
       "    </tr>\n",
       "    <tr>\n",
       "      <th>AP4</th>\n",
       "      <td>213</td>\n",
       "      <td>21.31141</td>\n",
       "      <td>-158.07947</td>\n",
       "      <td>PY66526</td>\n",
       "      <td>107.58</td>\n",
       "    </tr>\n",
       "    <tr>\n",
       "      <th>AP7</th>\n",
       "      <td>214</td>\n",
       "      <td>21.31478</td>\n",
       "      <td>-158.07785</td>\n",
       "      <td>PY66527</td>\n",
       "      <td>117.61</td>\n",
       "    </tr>\n",
       "    <tr>\n",
       "      <th>DH6</th>\n",
       "      <td>215</td>\n",
       "      <td>21.31179</td>\n",
       "      <td>-158.08678</td>\n",
       "      <td>PY66528</td>\n",
       "      <td>112.83</td>\n",
       "    </tr>\n",
       "    <tr>\n",
       "      <th>DH7</th>\n",
       "      <td>216</td>\n",
       "      <td>21.31418</td>\n",
       "      <td>-158.08685</td>\n",
       "      <td>PY66529</td>\n",
       "      <td>114.04</td>\n",
       "    </tr>\n",
       "    <tr>\n",
       "      <th>DH8</th>\n",
       "      <td>217</td>\n",
       "      <td>21.31034</td>\n",
       "      <td>-158.08675</td>\n",
       "      <td>PY66530</td>\n",
       "      <td>117.75</td>\n",
       "    </tr>\n",
       "  </tbody>\n",
       "</table>\n",
       "</div>"
      ],
      "text/plain": [
       "          Pakbus  Latitude  Longitude     Sensor      CF\n",
       "Location                                                \n",
       "DH3          201  21.31236 -158.08463    PY66499  141.76\n",
       "DH4          202  21.31303 -158.08505    PY66500  118.01\n",
       "DH5          203  21.31357 -158.08424    PY66501  104.46\n",
       "DH10         204  21.31183 -158.08554    PY66502  109.06\n",
       "DH11         205  21.31042 -158.08530    PY66503  114.71\n",
       "DH9          206  21.31268 -158.08688    PY66504  141.92\n",
       "DH2          207  21.31451 -158.08534    PY66505  106.39\n",
       "DH1          208  21.31533 -158.08700    PY66519  107.34\n",
       "AP6          209  21.30812 -158.07935    PY66521  117.34\n",
       "AP1          210  21.31276 -158.08389    PY66523  110.40\n",
       "AP3          211  21.31281 -158.08163    PY66524  113.55\n",
       "AP5          212  21.30983 -158.08249    PY66525  116.04\n",
       "AP4          213  21.31141 -158.07947    PY66526  107.58\n",
       "AP7          214  21.31478 -158.07785    PY66527  117.61\n",
       "DH6          215  21.31179 -158.08678    PY66528  112.83\n",
       "DH7          216  21.31418 -158.08685    PY66529  114.04\n",
       "DH8          217  21.31034 -158.08675    PY66530  117.75"
      ]
     },
     "execution_count": 72,
     "metadata": {},
     "output_type": "execute_result"
    }
   ],
   "source": [
    "info"
   ]
  },
  {
   "cell_type": "code",
   "execution_count": 48,
   "metadata": {},
   "outputs": [],
   "source": [
    "df1 = df.stack().reset_index().rename(columns={'level_1': 'Radiation_Location', 0: 'Values'})"
   ]
  },
  {
   "cell_type": "code",
   "execution_count": 49,
   "metadata": {},
   "outputs": [],
   "source": [
    "df1[['Radiation', 'Location']] = df1['Radiation_Location'].str.split('_', n=1, expand=True)"
   ]
  },
  {
   "cell_type": "code",
   "execution_count": 52,
   "metadata": {
    "scrolled": false
   },
   "outputs": [],
   "source": [
    "df2 = df1.pivot_table(index=['Datetime', 'Location'], columns='Radiation', values='Values').reset_index()"
   ]
  },
  {
   "cell_type": "code",
   "execution_count": 57,
   "metadata": {},
   "outputs": [],
   "source": [
    "df2['Datetime'] = df2['Datetime'].dt.tz_localize('HST')"
   ]
  },
  {
   "cell_type": "code",
   "execution_count": 69,
   "metadata": {},
   "outputs": [
    {
     "data": {
      "text/html": [
       "<div>\n",
       "<style scoped>\n",
       "    .dataframe tbody tr th:only-of-type {\n",
       "        vertical-align: middle;\n",
       "    }\n",
       "\n",
       "    .dataframe tbody tr th {\n",
       "        vertical-align: top;\n",
       "    }\n",
       "\n",
       "    .dataframe thead th {\n",
       "        text-align: right;\n",
       "    }\n",
       "</style>\n",
       "<table border=\"1\" class=\"dataframe\">\n",
       "  <thead>\n",
       "    <tr style=\"text-align: right;\">\n",
       "      <th>Radiation</th>\n",
       "      <th>Datetime</th>\n",
       "      <th>Location</th>\n",
       "      <th>GH</th>\n",
       "      <th>GT</th>\n",
       "    </tr>\n",
       "  </thead>\n",
       "  <tbody>\n",
       "    <tr>\n",
       "      <th>0</th>\n",
       "      <td>2010-03-19 14:15:00-10:00</td>\n",
       "      <td>AP1</td>\n",
       "      <td>476.328</td>\n",
       "      <td>NaN</td>\n",
       "    </tr>\n",
       "    <tr>\n",
       "      <th>1</th>\n",
       "      <td>2010-03-19 14:15:00-10:00</td>\n",
       "      <td>AP3</td>\n",
       "      <td>382.777</td>\n",
       "      <td>NaN</td>\n",
       "    </tr>\n",
       "    <tr>\n",
       "      <th>2</th>\n",
       "      <td>2010-03-19 14:15:00-10:00</td>\n",
       "      <td>AP4</td>\n",
       "      <td>351.610</td>\n",
       "      <td>NaN</td>\n",
       "    </tr>\n",
       "    <tr>\n",
       "      <th>3</th>\n",
       "      <td>2010-03-19 14:15:00-10:00</td>\n",
       "      <td>AP5</td>\n",
       "      <td>390.092</td>\n",
       "      <td>NaN</td>\n",
       "    </tr>\n",
       "    <tr>\n",
       "      <th>4</th>\n",
       "      <td>2010-03-19 14:15:00-10:00</td>\n",
       "      <td>AP6</td>\n",
       "      <td>353.928</td>\n",
       "      <td>343.313</td>\n",
       "    </tr>\n",
       "  </tbody>\n",
       "</table>\n",
       "</div>"
      ],
      "text/plain": [
       "Radiation                  Datetime Location       GH       GT\n",
       "0         2010-03-19 14:15:00-10:00      AP1  476.328      NaN\n",
       "1         2010-03-19 14:15:00-10:00      AP3  382.777      NaN\n",
       "2         2010-03-19 14:15:00-10:00      AP4  351.610      NaN\n",
       "3         2010-03-19 14:15:00-10:00      AP5  390.092      NaN\n",
       "4         2010-03-19 14:15:00-10:00      AP6  353.928  343.313"
      ]
     },
     "execution_count": 69,
     "metadata": {},
     "output_type": "execute_result"
    }
   ],
   "source": [
    "df2.head()"
   ]
  },
  {
   "cell_type": "code",
   "execution_count": 79,
   "metadata": {
    "collapsed": true
   },
   "outputs": [],
   "source": [
    "import pysolar"
   ]
  },
  {
   "cell_type": "code",
   "execution_count": 81,
   "metadata": {
    "collapsed": true
   },
   "outputs": [],
   "source": [
    "def clear_sky(s, info=None):\n",
    "    lat, lon = info.loc[s['Location'], ['Latitude', 'Longitude']]\n",
    "    deg = pysolar.solar.get_altitude(lat, lon, s['Datetime'])\n",
    "    if deg <= 0:\n",
    "        radiation = 0.\n",
    "    else:\n",
    "        radiation = pysolar.radiation.get_radiation_direct(s['Datetime'], deg)\n",
    "    return(radiation)"
   ]
  },
  {
   "cell_type": "code",
   "execution_count": null,
   "metadata": {},
   "outputs": [],
   "source": [
    "df2['ClearSky'] = df2[['Datetime', 'Location']].apply(clear_sky, axis=1, info=info)"
   ]
  },
  {
   "cell_type": "code",
   "execution_count": null,
   "metadata": {
    "collapsed": true
   },
   "outputs": [],
   "source": [
    "# put negative GH to 0 and normalize with ClearSky"
   ]
  }
 ],
 "metadata": {
  "kernelspec": {
   "display_name": "Python 3",
   "language": "python",
   "name": "python3"
  },
  "language_info": {
   "codemirror_mode": {
    "name": "ipython",
    "version": 3
   },
   "file_extension": ".py",
   "mimetype": "text/x-python",
   "name": "python",
   "nbconvert_exporter": "python",
   "pygments_lexer": "ipython3",
   "version": "3.6.3"
  }
 },
 "nbformat": 4,
 "nbformat_minor": 2
}
