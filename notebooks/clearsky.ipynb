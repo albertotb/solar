{
 "cells": [
  {
   "cell_type": "code",
   "execution_count": 1,
   "metadata": {
    "collapsed": true,
    "scrolled": true
   },
   "outputs": [],
   "source": [
    "import pandas as pd\n",
    "import numpy as np\n",
    "import feather\n",
    "import pvlib\n",
    "import sys\n",
    "sys.path.append('..')\n",
    "from src.utils.download_data import timer"
   ]
  },
  {
   "cell_type": "code",
   "execution_count": 2,
   "metadata": {
    "collapsed": true
   },
   "outputs": [],
   "source": [
    "DATA_PATH = '/home/SHARED/SOLAR/data/'"
   ]
  },
  {
   "cell_type": "code",
   "execution_count": 3,
   "metadata": {},
   "outputs": [],
   "source": [
    "# read minute data and location info\n",
    "#df = pd.read_pickle(DATA_PATH + 'oahu_min_cs.pkl')\n",
    "df = pd.read_pickle('pvlib.pkl')"
   ]
  },
  {
   "cell_type": "code",
   "execution_count": 4,
   "metadata": {},
   "outputs": [
    {
     "data": {
      "text/html": [
       "<div>\n",
       "<style scoped>\n",
       "    .dataframe tbody tr th:only-of-type {\n",
       "        vertical-align: middle;\n",
       "    }\n",
       "\n",
       "    .dataframe tbody tr th {\n",
       "        vertical-align: top;\n",
       "    }\n",
       "\n",
       "    .dataframe thead th {\n",
       "        text-align: right;\n",
       "    }\n",
       "</style>\n",
       "<table border=\"1\" class=\"dataframe\">\n",
       "  <thead>\n",
       "    <tr style=\"text-align: right;\">\n",
       "      <th></th>\n",
       "      <th>Radiation</th>\n",
       "      <th>GH</th>\n",
       "      <th>GT</th>\n",
       "      <th>ClearSky</th>\n",
       "      <th>Ineichen</th>\n",
       "      <th>Haurwitz</th>\n",
       "      <th>Solis</th>\n",
       "    </tr>\n",
       "    <tr>\n",
       "      <th>Datetime</th>\n",
       "      <th>Location</th>\n",
       "      <th></th>\n",
       "      <th></th>\n",
       "      <th></th>\n",
       "      <th></th>\n",
       "      <th></th>\n",
       "      <th></th>\n",
       "    </tr>\n",
       "  </thead>\n",
       "  <tbody>\n",
       "    <tr>\n",
       "      <th rowspan=\"5\" valign=\"top\">2010-03-19 14:15:00-10:00</th>\n",
       "      <th>AP1</th>\n",
       "      <td>476.328</td>\n",
       "      <td>NaN</td>\n",
       "      <td>973.629240</td>\n",
       "      <td>840.960548</td>\n",
       "      <td>871.749955</td>\n",
       "      <td>907.496424</td>\n",
       "    </tr>\n",
       "    <tr>\n",
       "      <th>AP3</th>\n",
       "      <td>382.777</td>\n",
       "      <td>NaN</td>\n",
       "      <td>973.625962</td>\n",
       "      <td>841.600950</td>\n",
       "      <td>871.733426</td>\n",
       "      <td>907.477590</td>\n",
       "    </tr>\n",
       "    <tr>\n",
       "      <th>AP4</th>\n",
       "      <td>351.610</td>\n",
       "      <td>NaN</td>\n",
       "      <td>973.624679</td>\n",
       "      <td>841.594000</td>\n",
       "      <td>871.726958</td>\n",
       "      <td>907.470220</td>\n",
       "    </tr>\n",
       "    <tr>\n",
       "      <th>AP5</th>\n",
       "      <td>390.092</td>\n",
       "      <td>NaN</td>\n",
       "      <td>973.630994</td>\n",
       "      <td>841.628209</td>\n",
       "      <td>871.758798</td>\n",
       "      <td>907.506499</td>\n",
       "    </tr>\n",
       "    <tr>\n",
       "      <th>AP6</th>\n",
       "      <td>353.928</td>\n",
       "      <td>343.313</td>\n",
       "      <td>973.628714</td>\n",
       "      <td>841.615852</td>\n",
       "      <td>871.747297</td>\n",
       "      <td>907.493395</td>\n",
       "    </tr>\n",
       "  </tbody>\n",
       "</table>\n",
       "</div>"
      ],
      "text/plain": [
       "Radiation                                GH       GT    ClearSky    Ineichen  \\\n",
       "Datetime                  Location                                             \n",
       "2010-03-19 14:15:00-10:00 AP1       476.328      NaN  973.629240  840.960548   \n",
       "                          AP3       382.777      NaN  973.625962  841.600950   \n",
       "                          AP4       351.610      NaN  973.624679  841.594000   \n",
       "                          AP5       390.092      NaN  973.630994  841.628209   \n",
       "                          AP6       353.928  343.313  973.628714  841.615852   \n",
       "\n",
       "Radiation                             Haurwitz       Solis  \n",
       "Datetime                  Location                          \n",
       "2010-03-19 14:15:00-10:00 AP1       871.749955  907.496424  \n",
       "                          AP3       871.733426  907.477590  \n",
       "                          AP4       871.726958  907.470220  \n",
       "                          AP5       871.758798  907.506499  \n",
       "                          AP6       871.747297  907.493395  "
      ]
     },
     "execution_count": 4,
     "metadata": {},
     "output_type": "execute_result"
    }
   ],
   "source": [
    "df.head()"
   ]
  },
  {
   "cell_type": "markdown",
   "metadata": {},
   "source": [
    "Compute Haurwitz based on sun altitude:\n",
    "\n",
    "`ghi_csm = 1098 * math.sin(math.radians(altitude)) * math.exp(-0.057 / (math.sin(math.radians(altitude))))`"
   ]
  },
  {
   "cell_type": "code",
   "execution_count": 5,
   "metadata": {},
   "outputs": [
    {
     "data": {
      "text/plain": [
       "(9058229, 6)"
      ]
     },
     "execution_count": 5,
     "metadata": {},
     "output_type": "execute_result"
    }
   ],
   "source": [
    "df.shape"
   ]
  },
  {
   "cell_type": "markdown",
   "metadata": {},
   "source": [
    "Replace negative values with 0"
   ]
  },
  {
   "cell_type": "code",
   "execution_count": 6,
   "metadata": {},
   "outputs": [],
   "source": [
    "df['GH'] = df['GH'].where(df['GH'] >= 0, other=0)"
   ]
  },
  {
   "cell_type": "code",
   "execution_count": 7,
   "metadata": {},
   "outputs": [
    {
     "data": {
      "text/html": [
       "<style  type=\"text/css\" >\n",
       "</style><table id=\"T_56d9c71c_499e_11e9_9dc2_d8cb8ac57ff3\" ><thead>    <tr>        <th class=\"index_name level0\" >Radiation</th>        <th class=\"col_heading level0 col0\" >GH</th>        <th class=\"col_heading level0 col1\" >GT</th>        <th class=\"col_heading level0 col2\" >ClearSky</th>        <th class=\"col_heading level0 col3\" >Ineichen</th>        <th class=\"col_heading level0 col4\" >Haurwitz</th>        <th class=\"col_heading level0 col5\" >Solis</th>    </tr></thead><tbody>\n",
       "                <tr>\n",
       "                        <th id=\"T_56d9c71c_499e_11e9_9dc2_d8cb8ac57ff3level0_row0\" class=\"row_heading level0 row0\" >count</th>\n",
       "                        <td id=\"T_56d9c71c_499e_11e9_9dc2_d8cb8ac57ff3row0_col0\" class=\"data row0 col0\" >9.05823e+06</td>\n",
       "                        <td id=\"T_56d9c71c_499e_11e9_9dc2_d8cb8ac57ff3row0_col1\" class=\"data row0 col1\" >1.06567e+06</td>\n",
       "                        <td id=\"T_56d9c71c_499e_11e9_9dc2_d8cb8ac57ff3row0_col2\" class=\"data row0 col2\" >9.05823e+06</td>\n",
       "                        <td id=\"T_56d9c71c_499e_11e9_9dc2_d8cb8ac57ff3row0_col3\" class=\"data row0 col3\" >9.05823e+06</td>\n",
       "                        <td id=\"T_56d9c71c_499e_11e9_9dc2_d8cb8ac57ff3row0_col4\" class=\"data row0 col4\" >9.05823e+06</td>\n",
       "                        <td id=\"T_56d9c71c_499e_11e9_9dc2_d8cb8ac57ff3row0_col5\" class=\"data row0 col5\" >9.05823e+06</td>\n",
       "            </tr>\n",
       "            <tr>\n",
       "                        <th id=\"T_56d9c71c_499e_11e9_9dc2_d8cb8ac57ff3level0_row1\" class=\"row_heading level0 row1\" >mean</th>\n",
       "                        <td id=\"T_56d9c71c_499e_11e9_9dc2_d8cb8ac57ff3row1_col0\" class=\"data row1 col0\" >369.962</td>\n",
       "                        <td id=\"T_56d9c71c_499e_11e9_9dc2_d8cb8ac57ff3row1_col1\" class=\"data row1 col1\" >312.06</td>\n",
       "                        <td id=\"T_56d9c71c_499e_11e9_9dc2_d8cb8ac57ff3row1_col2\" class=\"data row1 col2\" >612.044</td>\n",
       "                        <td id=\"T_56d9c71c_499e_11e9_9dc2_d8cb8ac57ff3row1_col3\" class=\"data row1 col3\" >432.497</td>\n",
       "                        <td id=\"T_56d9c71c_499e_11e9_9dc2_d8cb8ac57ff3row1_col4\" class=\"data row1 col4\" >479.78</td>\n",
       "                        <td id=\"T_56d9c71c_499e_11e9_9dc2_d8cb8ac57ff3row1_col5\" class=\"data row1 col5\" >482.42</td>\n",
       "            </tr>\n",
       "            <tr>\n",
       "                        <th id=\"T_56d9c71c_499e_11e9_9dc2_d8cb8ac57ff3level0_row2\" class=\"row_heading level0 row2\" >std</th>\n",
       "                        <td id=\"T_56d9c71c_499e_11e9_9dc2_d8cb8ac57ff3row2_col0\" class=\"data row2 col0\" >351.038</td>\n",
       "                        <td id=\"T_56d9c71c_499e_11e9_9dc2_d8cb8ac57ff3row2_col1\" class=\"data row2 col1\" >344.807</td>\n",
       "                        <td id=\"T_56d9c71c_499e_11e9_9dc2_d8cb8ac57ff3row2_col2\" class=\"data row2 col2\" >372.782</td>\n",
       "                        <td id=\"T_56d9c71c_499e_11e9_9dc2_d8cb8ac57ff3row2_col3\" class=\"data row2 col3\" >348.093</td>\n",
       "                        <td id=\"T_56d9c71c_499e_11e9_9dc2_d8cb8ac57ff3row2_col4\" class=\"data row2 col4\" >365.39</td>\n",
       "                        <td id=\"T_56d9c71c_499e_11e9_9dc2_d8cb8ac57ff3row2_col5\" class=\"data row2 col5\" >374.732</td>\n",
       "            </tr>\n",
       "            <tr>\n",
       "                        <th id=\"T_56d9c71c_499e_11e9_9dc2_d8cb8ac57ff3level0_row3\" class=\"row_heading level0 row3\" >min</th>\n",
       "                        <td id=\"T_56d9c71c_499e_11e9_9dc2_d8cb8ac57ff3row3_col0\" class=\"data row3 col0\" >0</td>\n",
       "                        <td id=\"T_56d9c71c_499e_11e9_9dc2_d8cb8ac57ff3row3_col1\" class=\"data row3 col1\" >-0.40968</td>\n",
       "                        <td id=\"T_56d9c71c_499e_11e9_9dc2_d8cb8ac57ff3row3_col2\" class=\"data row3 col2\" >0</td>\n",
       "                        <td id=\"T_56d9c71c_499e_11e9_9dc2_d8cb8ac57ff3row3_col3\" class=\"data row3 col3\" >0</td>\n",
       "                        <td id=\"T_56d9c71c_499e_11e9_9dc2_d8cb8ac57ff3row3_col4\" class=\"data row3 col4\" >0</td>\n",
       "                        <td id=\"T_56d9c71c_499e_11e9_9dc2_d8cb8ac57ff3row3_col5\" class=\"data row3 col5\" >0</td>\n",
       "            </tr>\n",
       "            <tr>\n",
       "                        <th id=\"T_56d9c71c_499e_11e9_9dc2_d8cb8ac57ff3level0_row4\" class=\"row_heading level0 row4\" >25%</th>\n",
       "                        <td id=\"T_56d9c71c_499e_11e9_9dc2_d8cb8ac57ff3row4_col0\" class=\"data row4 col0\" >42.3027</td>\n",
       "                        <td id=\"T_56d9c71c_499e_11e9_9dc2_d8cb8ac57ff3row4_col1\" class=\"data row4 col1\" >31.5347</td>\n",
       "                        <td id=\"T_56d9c71c_499e_11e9_9dc2_d8cb8ac57ff3row4_col2\" class=\"data row4 col2\" >240.128</td>\n",
       "                        <td id=\"T_56d9c71c_499e_11e9_9dc2_d8cb8ac57ff3row4_col3\" class=\"data row4 col3\" >34.2275</td>\n",
       "                        <td id=\"T_56d9c71c_499e_11e9_9dc2_d8cb8ac57ff3row4_col4\" class=\"data row4 col4\" >76.3822</td>\n",
       "                        <td id=\"T_56d9c71c_499e_11e9_9dc2_d8cb8ac57ff3row4_col5\" class=\"data row4 col5\" >72.1068</td>\n",
       "            </tr>\n",
       "            <tr>\n",
       "                        <th id=\"T_56d9c71c_499e_11e9_9dc2_d8cb8ac57ff3level0_row5\" class=\"row_heading level0 row5\" >50%</th>\n",
       "                        <td id=\"T_56d9c71c_499e_11e9_9dc2_d8cb8ac57ff3row5_col0\" class=\"data row5 col0\" >269.047</td>\n",
       "                        <td id=\"T_56d9c71c_499e_11e9_9dc2_d8cb8ac57ff3row5_col1\" class=\"data row5 col1\" >170.254</td>\n",
       "                        <td id=\"T_56d9c71c_499e_11e9_9dc2_d8cb8ac57ff3row5_col2\" class=\"data row5 col2\" >802.767</td>\n",
       "                        <td id=\"T_56d9c71c_499e_11e9_9dc2_d8cb8ac57ff3row5_col3\" class=\"data row5 col3\" >442.5</td>\n",
       "                        <td id=\"T_56d9c71c_499e_11e9_9dc2_d8cb8ac57ff3row5_col4\" class=\"data row5 col4\" >509.373</td>\n",
       "                        <td id=\"T_56d9c71c_499e_11e9_9dc2_d8cb8ac57ff3row5_col5\" class=\"data row5 col5\" >498.184</td>\n",
       "            </tr>\n",
       "            <tr>\n",
       "                        <th id=\"T_56d9c71c_499e_11e9_9dc2_d8cb8ac57ff3level0_row6\" class=\"row_heading level0 row6\" >75%</th>\n",
       "                        <td id=\"T_56d9c71c_499e_11e9_9dc2_d8cb8ac57ff3row6_col0\" class=\"data row6 col0\" >619.537</td>\n",
       "                        <td id=\"T_56d9c71c_499e_11e9_9dc2_d8cb8ac57ff3row6_col1\" class=\"data row6 col1\" >519.977</td>\n",
       "                        <td id=\"T_56d9c71c_499e_11e9_9dc2_d8cb8ac57ff3row6_col2\" class=\"data row6 col2\" >900.305</td>\n",
       "                        <td id=\"T_56d9c71c_499e_11e9_9dc2_d8cb8ac57ff3row6_col3\" class=\"data row6 col3\" >762.037</td>\n",
       "                        <td id=\"T_56d9c71c_499e_11e9_9dc2_d8cb8ac57ff3row6_col4\" class=\"data row6 col4\" >816.827</td>\n",
       "                        <td id=\"T_56d9c71c_499e_11e9_9dc2_d8cb8ac57ff3row6_col5\" class=\"data row6 col5\" >832.076</td>\n",
       "            </tr>\n",
       "            <tr>\n",
       "                        <th id=\"T_56d9c71c_499e_11e9_9dc2_d8cb8ac57ff3level0_row7\" class=\"row_heading level0 row7\" >max</th>\n",
       "                        <td id=\"T_56d9c71c_499e_11e9_9dc2_d8cb8ac57ff3row7_col0\" class=\"data row7 col0\" >1700.35</td>\n",
       "                        <td id=\"T_56d9c71c_499e_11e9_9dc2_d8cb8ac57ff3row7_col1\" class=\"data row7 col1\" >1587.02</td>\n",
       "                        <td id=\"T_56d9c71c_499e_11e9_9dc2_d8cb8ac57ff3row7_col2\" class=\"data row7 col2\" >1022.68</td>\n",
       "                        <td id=\"T_56d9c71c_499e_11e9_9dc2_d8cb8ac57ff3row7_col3\" class=\"data row7 col3\" >976.033</td>\n",
       "                        <td id=\"T_56d9c71c_499e_11e9_9dc2_d8cb8ac57ff3row7_col4\" class=\"data row7 col4\" >1035.09</td>\n",
       "                        <td id=\"T_56d9c71c_499e_11e9_9dc2_d8cb8ac57ff3row7_col5\" class=\"data row7 col5\" >1061.95</td>\n",
       "            </tr>\n",
       "    </tbody></table>"
      ],
      "text/plain": [
       "<pandas.io.formats.style.Styler at 0x7ffa1e7e63c8>"
      ]
     },
     "execution_count": 7,
     "metadata": {},
     "output_type": "execute_result"
    }
   ],
   "source": [
    "df.describe().style"
   ]
  },
  {
   "cell_type": "code",
   "execution_count": 8,
   "metadata": {},
   "outputs": [
    {
     "data": {
      "text/plain": [
       "(6041579, 6)"
      ]
     },
     "execution_count": 8,
     "metadata": {},
     "output_type": "execute_result"
    }
   ],
   "source": [
    "df1 = df.unstack().between_time('7:30', '17:30').stack()\n",
    "df1.shape"
   ]
  },
  {
   "cell_type": "markdown",
   "metadata": {},
   "source": [
    "Statistics for the different clearsky models:\n",
    "  * **ClearSky**: model from `pysolar` library\n",
    "  * **Ineichen**: `pvlib`'s Ineichen model\n",
    "  * **Haurwitz**: `pvlib`'s Haurwitz model\n",
    "  * **Solis**: `pvlibs`'s simplified Solis model\n",
    "\n",
    "We compute the main descriptive statistics plus the number of times the GHI is greater than the clearsky model. We also check if the clearsky model returns a GHI of 0 when the sensor has a value greater than 0 (`#CS=0`)"
   ]
  },
  {
   "cell_type": "code",
   "execution_count": 9,
   "metadata": {},
   "outputs": [
    {
     "data": {
      "text/html": [
       "<style  type=\"text/css\" >\n",
       "</style><table id=\"T_5b238092_499e_11e9_9dc2_d8cb8ac57ff3\" ><thead>    <tr>        <th class=\"blank level0\" ></th>        <th class=\"col_heading level0 col0\" >ClearSky</th>        <th class=\"col_heading level0 col1\" >Ineichen</th>        <th class=\"col_heading level0 col2\" >Haurwitz</th>        <th class=\"col_heading level0 col3\" >Solis</th>    </tr></thead><tbody>\n",
       "                <tr>\n",
       "                        <th id=\"T_5b238092_499e_11e9_9dc2_d8cb8ac57ff3level0_row0\" class=\"row_heading level0 row0\" >count</th>\n",
       "                        <td id=\"T_5b238092_499e_11e9_9dc2_d8cb8ac57ff3row0_col0\" class=\"data row0 col0\" >6.04158e+06</td>\n",
       "                        <td id=\"T_5b238092_499e_11e9_9dc2_d8cb8ac57ff3row0_col1\" class=\"data row0 col1\" >6.04158e+06</td>\n",
       "                        <td id=\"T_5b238092_499e_11e9_9dc2_d8cb8ac57ff3row0_col2\" class=\"data row0 col2\" >6.04158e+06</td>\n",
       "                        <td id=\"T_5b238092_499e_11e9_9dc2_d8cb8ac57ff3row0_col3\" class=\"data row0 col3\" >6.04158e+06</td>\n",
       "            </tr>\n",
       "            <tr>\n",
       "                        <th id=\"T_5b238092_499e_11e9_9dc2_d8cb8ac57ff3level0_row1\" class=\"row_heading level0 row1\" >mean</th>\n",
       "                        <td id=\"T_5b238092_499e_11e9_9dc2_d8cb8ac57ff3row1_col0\" class=\"data row1 col0\" >0.609836</td>\n",
       "                        <td id=\"T_5b238092_499e_11e9_9dc2_d8cb8ac57ff3row1_col1\" class=\"data row1 col1\" >0.872554</td>\n",
       "                        <td id=\"T_5b238092_499e_11e9_9dc2_d8cb8ac57ff3row1_col2\" class=\"data row1 col2\" >0.771898</td>\n",
       "                        <td id=\"T_5b238092_499e_11e9_9dc2_d8cb8ac57ff3row1_col3\" class=\"data row1 col3\" >0.772333</td>\n",
       "            </tr>\n",
       "            <tr>\n",
       "                        <th id=\"T_5b238092_499e_11e9_9dc2_d8cb8ac57ff3level0_row2\" class=\"row_heading level0 row2\" >std</th>\n",
       "                        <td id=\"T_5b238092_499e_11e9_9dc2_d8cb8ac57ff3row2_col0\" class=\"data row2 col0\" >0.339151</td>\n",
       "                        <td id=\"T_5b238092_499e_11e9_9dc2_d8cb8ac57ff3row2_col1\" class=\"data row2 col1\" >0.403347</td>\n",
       "                        <td id=\"T_5b238092_499e_11e9_9dc2_d8cb8ac57ff3row2_col2\" class=\"data row2 col2\" >0.34579</td>\n",
       "                        <td id=\"T_5b238092_499e_11e9_9dc2_d8cb8ac57ff3row2_col3\" class=\"data row2 col3\" >0.345167</td>\n",
       "            </tr>\n",
       "            <tr>\n",
       "                        <th id=\"T_5b238092_499e_11e9_9dc2_d8cb8ac57ff3level0_row3\" class=\"row_heading level0 row3\" >min</th>\n",
       "                        <td id=\"T_5b238092_499e_11e9_9dc2_d8cb8ac57ff3row3_col0\" class=\"data row3 col0\" >0</td>\n",
       "                        <td id=\"T_5b238092_499e_11e9_9dc2_d8cb8ac57ff3row3_col1\" class=\"data row3 col1\" >0</td>\n",
       "                        <td id=\"T_5b238092_499e_11e9_9dc2_d8cb8ac57ff3row3_col2\" class=\"data row3 col2\" >0</td>\n",
       "                        <td id=\"T_5b238092_499e_11e9_9dc2_d8cb8ac57ff3row3_col3\" class=\"data row3 col3\" >0</td>\n",
       "            </tr>\n",
       "            <tr>\n",
       "                        <th id=\"T_5b238092_499e_11e9_9dc2_d8cb8ac57ff3level0_row4\" class=\"row_heading level0 row4\" >25%</th>\n",
       "                        <td id=\"T_5b238092_499e_11e9_9dc2_d8cb8ac57ff3row4_col0\" class=\"data row4 col0\" >0.318779</td>\n",
       "                        <td id=\"T_5b238092_499e_11e9_9dc2_d8cb8ac57ff3row4_col1\" class=\"data row4 col1\" >0.478783</td>\n",
       "                        <td id=\"T_5b238092_499e_11e9_9dc2_d8cb8ac57ff3row4_col2\" class=\"data row4 col2\" >0.425978</td>\n",
       "                        <td id=\"T_5b238092_499e_11e9_9dc2_d8cb8ac57ff3row4_col3\" class=\"data row4 col3\" >0.426563</td>\n",
       "            </tr>\n",
       "            <tr>\n",
       "                        <th id=\"T_5b238092_499e_11e9_9dc2_d8cb8ac57ff3level0_row5\" class=\"row_heading level0 row5\" >50%</th>\n",
       "                        <td id=\"T_5b238092_499e_11e9_9dc2_d8cb8ac57ff3row5_col0\" class=\"data row5 col0\" >0.561595</td>\n",
       "                        <td id=\"T_5b238092_499e_11e9_9dc2_d8cb8ac57ff3row5_col1\" class=\"data row5 col1\" >1.05537</td>\n",
       "                        <td id=\"T_5b238092_499e_11e9_9dc2_d8cb8ac57ff3row5_col2\" class=\"data row5 col2\" >0.933943</td>\n",
       "                        <td id=\"T_5b238092_499e_11e9_9dc2_d8cb8ac57ff3row5_col3\" class=\"data row5 col3\" >0.95859</td>\n",
       "            </tr>\n",
       "            <tr>\n",
       "                        <th id=\"T_5b238092_499e_11e9_9dc2_d8cb8ac57ff3level0_row6\" class=\"row_heading level0 row6\" >75%</th>\n",
       "                        <td id=\"T_5b238092_499e_11e9_9dc2_d8cb8ac57ff3row6_col0\" class=\"data row6 col0\" >0.868854</td>\n",
       "                        <td id=\"T_5b238092_499e_11e9_9dc2_d8cb8ac57ff3row6_col1\" class=\"data row6 col1\" >1.17201</td>\n",
       "                        <td id=\"T_5b238092_499e_11e9_9dc2_d8cb8ac57ff3row6_col2\" class=\"data row6 col2\" >1.04484</td>\n",
       "                        <td id=\"T_5b238092_499e_11e9_9dc2_d8cb8ac57ff3row6_col3\" class=\"data row6 col3\" >1.03738</td>\n",
       "            </tr>\n",
       "            <tr>\n",
       "                        <th id=\"T_5b238092_499e_11e9_9dc2_d8cb8ac57ff3level0_row7\" class=\"row_heading level0 row7\" >max</th>\n",
       "                        <td id=\"T_5b238092_499e_11e9_9dc2_d8cb8ac57ff3row7_col0\" class=\"data row7 col0\" >3.16413</td>\n",
       "                        <td id=\"T_5b238092_499e_11e9_9dc2_d8cb8ac57ff3row7_col1\" class=\"data row7 col1\" >29.1443</td>\n",
       "                        <td id=\"T_5b238092_499e_11e9_9dc2_d8cb8ac57ff3row7_col2\" class=\"data row7 col2\" >12.4256</td>\n",
       "                        <td id=\"T_5b238092_499e_11e9_9dc2_d8cb8ac57ff3row7_col3\" class=\"data row7 col3\" >12.4105</td>\n",
       "            </tr>\n",
       "            <tr>\n",
       "                        <th id=\"T_5b238092_499e_11e9_9dc2_d8cb8ac57ff3level0_row8\" class=\"row_heading level0 row8\" >90%</th>\n",
       "                        <td id=\"T_5b238092_499e_11e9_9dc2_d8cb8ac57ff3row8_col0\" class=\"data row8 col0\" >1.10763</td>\n",
       "                        <td id=\"T_5b238092_499e_11e9_9dc2_d8cb8ac57ff3row8_col1\" class=\"data row8 col1\" >1.28658</td>\n",
       "                        <td id=\"T_5b238092_499e_11e9_9dc2_d8cb8ac57ff3row8_col2\" class=\"data row8 col2\" >1.14367</td>\n",
       "                        <td id=\"T_5b238092_499e_11e9_9dc2_d8cb8ac57ff3row8_col3\" class=\"data row8 col3\" >1.1355</td>\n",
       "            </tr>\n",
       "            <tr>\n",
       "                        <th id=\"T_5b238092_499e_11e9_9dc2_d8cb8ac57ff3level0_row9\" class=\"row_heading level0 row9\" >99%</th>\n",
       "                        <td id=\"T_5b238092_499e_11e9_9dc2_d8cb8ac57ff3row9_col0\" class=\"data row9 col0\" >1.36761</td>\n",
       "                        <td id=\"T_5b238092_499e_11e9_9dc2_d8cb8ac57ff3row9_col1\" class=\"data row9 col1\" >1.63198</td>\n",
       "                        <td id=\"T_5b238092_499e_11e9_9dc2_d8cb8ac57ff3row9_col2\" class=\"data row9 col2\" >1.34406</td>\n",
       "                        <td id=\"T_5b238092_499e_11e9_9dc2_d8cb8ac57ff3row9_col3\" class=\"data row9 col3\" >1.34148</td>\n",
       "            </tr>\n",
       "            <tr>\n",
       "                        <th id=\"T_5b238092_499e_11e9_9dc2_d8cb8ac57ff3level0_row10\" class=\"row_heading level0 row10\" >#>1</th>\n",
       "                        <td id=\"T_5b238092_499e_11e9_9dc2_d8cb8ac57ff3row10_col0\" class=\"data row10 col0\" >1.00042e+06</td>\n",
       "                        <td id=\"T_5b238092_499e_11e9_9dc2_d8cb8ac57ff3row10_col1\" class=\"data row10 col1\" >3.23175e+06</td>\n",
       "                        <td id=\"T_5b238092_499e_11e9_9dc2_d8cb8ac57ff3row10_col2\" class=\"data row10 col2\" >2.22801e+06</td>\n",
       "                        <td id=\"T_5b238092_499e_11e9_9dc2_d8cb8ac57ff3row10_col3\" class=\"data row10 col3\" >2.30818e+06</td>\n",
       "            </tr>\n",
       "            <tr>\n",
       "                        <th id=\"T_5b238092_499e_11e9_9dc2_d8cb8ac57ff3level0_row11\" class=\"row_heading level0 row11\" >%>1</th>\n",
       "                        <td id=\"T_5b238092_499e_11e9_9dc2_d8cb8ac57ff3row11_col0\" class=\"data row11 col0\" >0.165589</td>\n",
       "                        <td id=\"T_5b238092_499e_11e9_9dc2_d8cb8ac57ff3row11_col1\" class=\"data row11 col1\" >0.534918</td>\n",
       "                        <td id=\"T_5b238092_499e_11e9_9dc2_d8cb8ac57ff3row11_col2\" class=\"data row11 col2\" >0.36878</td>\n",
       "                        <td id=\"T_5b238092_499e_11e9_9dc2_d8cb8ac57ff3row11_col3\" class=\"data row11 col3\" >0.38205</td>\n",
       "            </tr>\n",
       "            <tr>\n",
       "                        <th id=\"T_5b238092_499e_11e9_9dc2_d8cb8ac57ff3level0_row12\" class=\"row_heading level0 row12\" >#CS=0</th>\n",
       "                        <td id=\"T_5b238092_499e_11e9_9dc2_d8cb8ac57ff3row12_col0\" class=\"data row12 col0\" >0</td>\n",
       "                        <td id=\"T_5b238092_499e_11e9_9dc2_d8cb8ac57ff3row12_col1\" class=\"data row12 col1\" >0</td>\n",
       "                        <td id=\"T_5b238092_499e_11e9_9dc2_d8cb8ac57ff3row12_col2\" class=\"data row12 col2\" >0</td>\n",
       "                        <td id=\"T_5b238092_499e_11e9_9dc2_d8cb8ac57ff3row12_col3\" class=\"data row12 col3\" >0</td>\n",
       "            </tr>\n",
       "    </tbody></table>"
      ],
      "text/plain": [
       "<pandas.io.formats.style.Styler at 0x7ff9b1638908>"
      ]
     },
     "execution_count": 9,
     "metadata": {},
     "output_type": "execute_result"
    }
   ],
   "source": [
    "res = []\n",
    "for clearsky in ('ClearSky', 'Ineichen', 'Haurwitz', 'Solis'):   \n",
    "    name = 'GHI_{}'.format(clearsky)\n",
    "    cs = df1.loc[~np.isclose(df1['GH'], 0) &  np.isclose(df1[clearsky], 0), ['GH', clearsky]]\n",
    "    \n",
    "    df1[name] = np.where(np.isclose(df1[clearsky], 0), 1, df1['GH']/df1[clearsky])\n",
    "    \n",
    "    summ = df1[name].describe()\n",
    "    q90, q99 = df1[name].quantile(q=[0.9, 0.99])\n",
    "    per_gt_1, num_gt_1 = df1[name].gt(1).agg([np.mean, np.sum])\n",
    "    \n",
    "    summ['90%'] = q90\n",
    "    summ['99%'] = q99\n",
    "    summ['#>1'] = num_gt_1\n",
    "    summ['%>1'] = per_gt_1\n",
    "    summ['#CS=0'] = cs.shape[0]\n",
    "    summ.name = clearsky\n",
    "    res.append(summ)\n",
    "\n",
    "pd.concat(res, axis=1, sort=False).style"
   ]
  },
  {
   "cell_type": "markdown",
   "metadata": {},
   "source": [
    "For the `detect_clearsky()` function we need to do it per station and day (it does not support unequal differences in index)"
   ]
  },
  {
   "cell_type": "code",
   "execution_count": 10,
   "metadata": {},
   "outputs": [
    {
     "name": "stderr",
     "output_type": "stream",
     "text": [
      "/home/atorres/.local/lib/python3.6/site-packages/numpy/lib/function_base.py:1238: FutureWarning: Converting timezone-aware DatetimeArray to timezone-naive ndarray with 'datetime64[ns]' dtype. In the future, this will return an ndarray with 'object' dtype where each element is a 'pandas.Timestamp' with the correct 'tz'.\n",
      "\tTo accept the future behavior, pass 'dtype=object'.\n",
      "\tTo keep the old behavior, pass 'dtype=\"datetime64[ns]\"'.\n",
      "  a = asanyarray(a)\n",
      "/home/atorres/.local/lib/python3.6/site-packages/pvlib/clearsky.py:696: RuntimeWarning: invalid value encountered in true_divide\n",
      "  meas_slope_nstd = np.std(meas_slope, axis=0, ddof=1) / meas_mean\n",
      "/home/atorres/.local/lib/python3.6/site-packages/pvlib/clearsky.py:721: RuntimeWarning: invalid value encountered in less\n",
      "  c4 = meas_slope_nstd < var_diff\n"
     ]
    },
    {
     "name": "stdout",
     "output_type": "stream",
     "text": [
      "Elapsed time (s): 78.389561\n"
     ]
    }
   ],
   "source": [
    "with timer():\n",
    "    cs = pvlib.clearsky.detect_clearsky(df.loc[('2010-03-20', 'AP1'), 'GH'], \n",
    "                                        df.loc[('2010-03-20', 'AP1'), 'Ineichen'], \n",
    "                                        df.loc[('2010-03-20', 'AP1'), 'GH'].index.get_level_values('Datetime'), \n",
    "                                        10)"
   ]
  },
  {
   "cell_type": "code",
   "execution_count": 11,
   "metadata": {},
   "outputs": [
    {
     "data": {
      "text/html": [
       "<div>\n",
       "<style scoped>\n",
       "    .dataframe tbody tr th:only-of-type {\n",
       "        vertical-align: middle;\n",
       "    }\n",
       "\n",
       "    .dataframe tbody tr th {\n",
       "        vertical-align: top;\n",
       "    }\n",
       "\n",
       "    .dataframe thead th {\n",
       "        text-align: right;\n",
       "    }\n",
       "</style>\n",
       "<table border=\"1\" class=\"dataframe\">\n",
       "  <thead>\n",
       "    <tr style=\"text-align: right;\">\n",
       "      <th></th>\n",
       "      <th>Radiation</th>\n",
       "      <th>GH</th>\n",
       "      <th>Ineichen</th>\n",
       "    </tr>\n",
       "    <tr>\n",
       "      <th>Datetime</th>\n",
       "      <th>Location</th>\n",
       "      <th></th>\n",
       "      <th></th>\n",
       "    </tr>\n",
       "  </thead>\n",
       "  <tbody>\n",
       "    <tr>\n",
       "      <th>2010-03-20 06:58:00-10:00</th>\n",
       "      <th>AP1</th>\n",
       "      <td>44.0718</td>\n",
       "      <td>14.337000</td>\n",
       "    </tr>\n",
       "    <tr>\n",
       "      <th>2010-03-20 06:59:00-10:00</th>\n",
       "      <th>AP1</th>\n",
       "      <td>47.3772</td>\n",
       "      <td>16.203300</td>\n",
       "    </tr>\n",
       "    <tr>\n",
       "      <th>2010-03-20 07:00:00-10:00</th>\n",
       "      <th>AP1</th>\n",
       "      <td>50.6826</td>\n",
       "      <td>18.179851</td>\n",
       "    </tr>\n",
       "    <tr>\n",
       "      <th>2010-03-20 07:01:00-10:00</th>\n",
       "      <th>AP1</th>\n",
       "      <td>54.3553</td>\n",
       "      <td>20.262922</td>\n",
       "    </tr>\n",
       "    <tr>\n",
       "      <th>2010-03-20 07:02:00-10:00</th>\n",
       "      <th>AP1</th>\n",
       "      <td>57.6608</td>\n",
       "      <td>22.448634</td>\n",
       "    </tr>\n",
       "  </tbody>\n",
       "</table>\n",
       "</div>"
      ],
      "text/plain": [
       "Radiation                                GH   Ineichen\n",
       "Datetime                  Location                    \n",
       "2010-03-20 06:58:00-10:00 AP1       44.0718  14.337000\n",
       "2010-03-20 06:59:00-10:00 AP1       47.3772  16.203300\n",
       "2010-03-20 07:00:00-10:00 AP1       50.6826  18.179851\n",
       "2010-03-20 07:01:00-10:00 AP1       54.3553  20.262922\n",
       "2010-03-20 07:02:00-10:00 AP1       57.6608  22.448634"
      ]
     },
     "execution_count": 11,
     "metadata": {},
     "output_type": "execute_result"
    }
   ],
   "source": [
    "df.loc[('2010-03-20', 'AP1'), ['GH', 'Ineichen']].loc[cs.to_numpy()].head()"
   ]
  },
  {
   "cell_type": "code",
   "execution_count": null,
   "metadata": {
    "collapsed": true
   },
   "outputs": [],
   "source": []
  }
 ],
 "metadata": {
  "kernelspec": {
   "display_name": "Python 3",
   "language": "python",
   "name": "python3"
  },
  "language_info": {
   "codemirror_mode": {
    "name": "ipython",
    "version": 3
   },
   "file_extension": ".py",
   "mimetype": "text/x-python",
   "name": "python",
   "nbconvert_exporter": "python",
   "pygments_lexer": "ipython3",
   "version": "3.6.3"
  }
 },
 "nbformat": 4,
 "nbformat_minor": 2
}
